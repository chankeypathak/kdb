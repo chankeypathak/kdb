{
 "cells": [
  {
   "cell_type": "code",
   "metadata": {
    "autorun": true,
    "editable": false,
    "tags": [
     "remove-cell"
    ],
    "jupyter": {
     "source_hidden": true,
     "outputs_hidden": true
    },
    "collapsed": true
   },
   "source": [
    "#;.pykx.disableJupyter()"
   ]
  },
  {
   "cell_type": "code",
   "metadata": {
    "autorun": true,
    "editable": false,
    "tags": [
     "remove-cell"
    ],
    "jupyter": {
     "source_hidden": true,
     "outputs_hidden": true
    },
    "collapsed": true
   },
   "source": [
    "# https://code.kx.com/pykx/3.0/examples/jupyter-integration.html#q-first-mode\n",
    "import pykx as kx\n",
    "kx.util.jupyter_qfirst_enable()"
   ]
  },
  {
   "cell_type": "markdown",
   "metadata": {
    "heading_collapsed": true
   },
   "source": [
    "# Atoms and Primitives\n",
    "\n",
    "**Learning Objectives**\n",
    "\n",
    "To understand: \n",
    "* Atoms in kdb+/q\n",
    "* How to identify an atom\n",
    "* Datatypes in kdb+/q\n",
    "* Primitives \n",
    "* Operator Precedence\n",
    "* How to create a Variable \n",
    "* Using Variables in Arithmetic"
   ]
  },
  {
   "cell_type": "markdown",
   "metadata": {
    "heading_collapsed": true,
    "hidden": true
   },
   "source": [
    "## Atoms "
   ]
  },
  {
   "cell_type": "markdown",
   "metadata": {
    "hidden": true
   },
   "source": [
    "An *atom* in kdb+/q is any single item of a particular [datatype](https://code.kx.com/q/basics/datatypes/). Atoms form the building blocks for more advanced data structures in kdb+/q."
   ]
  },
  {
   "cell_type": "code",
   "execution_count": null,
   "metadata": {
    "hidden": true
   },
   "outputs": [],
   "source": [
    "2   //default type is long when not a floating numeric value\n",
    "2.3 //default type is float when floating "
   ]
  },
  {
   "cell_type": "markdown",
   "metadata": {
    "hidden": true
   },
   "source": [
    "There are a number of different datatypes in kdb+, and a large number of these are time-specific datatypes. "
   ]
  },
  {
   "cell_type": "code",
   "execution_count": null,
   "metadata": {
    "hidden": true
   },
   "outputs": [],
   "source": [
    "09:30:00.000    //this is a time type\n",
    "2020.01.01  //this is a date type "
   ]
  },
  {
   "cell_type": "markdown",
   "metadata": {
    "hidden": true
   },
   "source": [
    "Within the kdb+/q language there are shortcuts for retrieving some of the [system information](https://code.kx.com/q/ref/dotz/) as atomic values e.g. the present time or date. \n",
    "\n",
    "We can run the below code to retieve them - lets do that now! "
   ]
  },
  {
   "cell_type": "code",
   "execution_count": null,
   "metadata": {
    "hidden": true
   },
   "outputs": [],
   "source": [
    ".z.t  //Current time "
   ]
  },
  {
   "cell_type": "code",
   "execution_count": null,
   "metadata": {
    "hidden": true
   },
   "outputs": [],
   "source": [
    ".z.d  //Current date "
   ]
  },
  {
   "cell_type": "markdown",
   "metadata": {
    "hidden": true
   },
   "source": [
    "Each of the above items are singular atomic values. "
   ]
  },
  {
   "cell_type": "markdown",
   "metadata": {
    "hidden": true,
    "solution2": "hidden",
    "solution2_first": true
   },
   "source": [
    "##### Exercise\n",
    "Using the information [here](https://code.kx.com/q/ref/dotz/), find and return below the current UTC system timestamp value."
   ]
  },
  {
   "cell_type": "code",
   "execution_count": null,
   "metadata": {
    "hidden": true,
    "solution2": "hidden"
   },
   "outputs": [],
   "source": [
    "//built-in operator that returns the UTC timestamp\n",
    ".z.p "
   ]
  },
  {
   "cell_type": "code",
   "execution_count": null,
   "metadata": {
    "hidden": true
   },
   "outputs": [],
   "source": [
    "//Enter your code below"
   ]
  },
  {
   "cell_type": "markdown",
   "metadata": {
    "hidden": true
   },
   "source": [
    "If we want to create an atom of a datatype that isn't the default, we can specify [the type](https://code.kx.com/q/basics/datatypes/) with a trailing type indicator matching the character code for that type as follows: "
   ]
  },
  {
   "cell_type": "code",
   "execution_count": null,
   "metadata": {
    "hidden": true
   },
   "outputs": [],
   "source": [
    "30e //creating a real - the \"e\" is the type extension "
   ]
  },
  {
   "cell_type": "code",
   "execution_count": null,
   "metadata": {
    "hidden": true
   },
   "outputs": [],
   "source": [
    "3h  //creating a short - the \"h\" is the type extension"
   ]
  },
  {
   "cell_type": "markdown",
   "metadata": {
    "hidden": true,
    "solution2": "hidden",
    "solution2_first": true
   },
   "source": [
    "##### Exercise\n",
    "Using the information [here](https://code.kx.com/q/basics/datatypes/), create an integer atom with a value of 8."
   ]
  },
  {
   "cell_type": "code",
   "execution_count": null,
   "metadata": {
    "hidden": true,
    "solution2": "hidden"
   },
   "outputs": [],
   "source": [
    "//specifying an integer type using an \"i\"\n",
    "8i"
   ]
  },
  {
   "cell_type": "code",
   "execution_count": null,
   "metadata": {
    "hidden": true
   },
   "outputs": [],
   "source": [
    "//Enter your code below"
   ]
  },
  {
   "cell_type": "markdown",
   "metadata": {
    "heading_collapsed": true,
    "hidden": true
   },
   "source": [
    "## Vectors/Lists"
   ]
  },
  {
   "cell_type": "markdown",
   "metadata": {
    "hidden": true
   },
   "source": [
    "An atom in kdb+/q refers to a singular value - a vector is a list of atoms. "
   ]
  },
  {
   "cell_type": "code",
   "execution_count": null,
   "metadata": {
    "hidden": true
   },
   "outputs": [],
   "source": [
    "1 2 3   //a list of longs "
   ]
  },
  {
   "cell_type": "code",
   "execution_count": null,
   "metadata": {
    "hidden": true
   },
   "outputs": [],
   "source": [
    "\"a list of characters\"  //a list of characters in kdb+/q is a string"
   ]
  },
  {
   "cell_type": "markdown",
   "metadata": {
    "hidden": true
   },
   "source": [
    "<img src=\"../qbies.png\" width=\"50px\" style=\"width: 50px;padding-right:5px;padding-top:2px;padding-left:5px;\" align=\"left\"/>\n",
    "\n",
    "<p style='color:#273a6e'><i> Text data in kdb+/q is commonly stored as a List (see corresponding section) of characters, typically referred to as a \"string\".</i></p>"
   ]
  },
  {
   "cell_type": "markdown",
   "metadata": {
    "hidden": true,
    "solution2": "hidden",
    "solution2_first": true
   },
   "source": [
    "##### Exercise\n",
    "\n",
    "Output the iconic \"hello world!\" "
   ]
  },
  {
   "cell_type": "code",
   "execution_count": null,
   "metadata": {
    "hidden": true,
    "solution2": "hidden"
   },
   "outputs": [],
   "source": [
    "//we can return this as a string\n",
    "\"hello world!\""
   ]
  },
  {
   "cell_type": "code",
   "execution_count": null,
   "metadata": {
    "hidden": true
   },
   "outputs": [],
   "source": [
    "//Enter your code below"
   ]
  },
  {
   "cell_type": "markdown",
   "metadata": {
    "hidden": true
   },
   "source": [
    "Lists/Vectors are actually so important within kdb+/q they have their own separate module which we will come to next!"
   ]
  },
  {
   "cell_type": "markdown",
   "metadata": {
    "heading_collapsed": true
   },
   "source": [
    "# Datatypes "
   ]
  },
  {
   "cell_type": "markdown",
   "metadata": {
    "hidden": true
   },
   "source": [
    "The kdb+/q language has a built in command called [type](https://code.kx.com/q/ref/type/) that will let us know the datatype of anything passed to it. "
   ]
  },
  {
   "cell_type": "code",
   "execution_count": null,
   "metadata": {
    "hidden": true
   },
   "outputs": [],
   "source": [
    "type 60  //the default datatype is long "
   ]
  },
  {
   "cell_type": "markdown",
   "metadata": {
    "hidden": true
   },
   "source": [
    "This is the first inbuilt function (known as keywords, or primitive operations) in kdb+/q  we have used! Congratulations! "
   ]
  },
  {
   "cell_type": "markdown",
   "metadata": {
    "hidden": true,
    "solution2": "hidden",
    "solution2_first": true
   },
   "source": [
    "<img src=\"../qbies.png\" width=\"50px\" style=\"width: 50px;padding-right:5px;padding-top:3px;padding-left:5px;\" align=\"left\"/>\n",
    "\n",
    "<p style='color:#273a6e'><i> Looking at the output of <code>-7h</code> from our <code>type</code> command, what can we say about this return value? </i></p>"
   ]
  },
  {
   "cell_type": "markdown",
   "metadata": {
    "hidden": true,
    "solution2": "hidden"
   },
   "source": [
    "We can see that the returned output from the `type` command is a short because of the trailing `h`! The return value being a short is not related to the data we passed to the `type` command, rather this is just the format in which the helpful information (`-7`) returned by the command is output. Going forward we can safely ignore the trailing `h` as not having any information from the passed data."
   ]
  },
  {
   "cell_type": "markdown",
   "metadata": {
    "heading_collapsed": true,
    "hidden": true
   },
   "source": [
    "## How to use the `type` command\n",
    "\n",
    "The type command tells us two pieces of information: \n",
    "* Whether the input is atomic or a vector\n",
    "* The datatype of the input"
   ]
  },
  {
   "cell_type": "markdown",
   "metadata": {
    "hidden": true
   },
   "source": [
    "Let's compare the following outputs and fill out the requested information to see if we can deduce how this command works."
   ]
  },
  {
   "cell_type": "code",
   "execution_count": null,
   "metadata": {
    "hidden": true
   },
   "outputs": [],
   "source": [
    "type 60 //the input is an atomic long with a value of 60 "
   ]
  },
  {
   "cell_type": "markdown",
   "metadata": {
    "hidden": true,
    "solution2": "hidden",
    "solution2_first": true
   },
   "source": [
    "##### Exercise \n",
    "\n",
    "With reference to the [datatype](https://code.kx.com/q/basics/datatypes/) guide and using the `type` command, find the following: \n",
    "* What is the character reference value for a long? (2nd column, heading c) \n",
    "* What is the numeric reference value associated with a long? (1st column, heading n) \n",
    "\n",
    "Is the output positive or negative? "
   ]
  },
  {
   "cell_type": "markdown",
   "metadata": {
    "hidden": true,
    "solution2": "hidden"
   },
   "source": [
    "Character reference value: j\n",
    "\n",
    "Numeric reference value: 7\n",
    "\n",
    "Output: Negative"
   ]
  },
  {
   "cell_type": "markdown",
   "metadata": {
    "hidden": true
   },
   "source": [
    "_Fill out the below!_ \n",
    "\n",
    "Character reference value: \n",
    "\n",
    "Numeric reference value: \n",
    "\n",
    "Output:"
   ]
  },
  {
   "cell_type": "markdown",
   "metadata": {
    "hidden": true,
    "solution2": "hidden",
    "solution2_first": true
   },
   "source": [
    "##### Exercise \n",
    "\n",
    "Repeat the exercise with an input of `1 2 3i`"
   ]
  },
  {
   "cell_type": "code",
   "execution_count": null,
   "metadata": {
    "hidden": true,
    "solution2": "hidden"
   },
   "outputs": [],
   "source": [
    "type 1 2 3i  //vector integer input"
   ]
  },
  {
   "cell_type": "markdown",
   "metadata": {
    "hidden": true,
    "solution2": "hidden"
   },
   "source": [
    "Character reference value: i\n",
    "\n",
    "Numeric reference value: 6\n",
    "\n",
    "Output: Positive"
   ]
  },
  {
   "cell_type": "code",
   "execution_count": null,
   "metadata": {
    "hidden": true
   },
   "outputs": [],
   "source": [
    "//your code here "
   ]
  },
  {
   "cell_type": "markdown",
   "metadata": {
    "hidden": true
   },
   "source": [
    "_Fill out the below!_ \n",
    "\n",
    "Character reference value: \n",
    "\n",
    "Numeric reference value: \n",
    "\n",
    "Output:"
   ]
  },
  {
   "cell_type": "markdown",
   "metadata": {
    "hidden": true,
    "solution2": "hidden",
    "solution2_first": true
   },
   "source": [
    "##### Exercise \n",
    "\n",
    "Finally lets repeat the exercise with an input of `2.0 3.4`"
   ]
  },
  {
   "cell_type": "code",
   "execution_count": null,
   "metadata": {
    "hidden": true,
    "solution2": "hidden"
   },
   "outputs": [],
   "source": [
    "type 2.0 3.4  //vector float input"
   ]
  },
  {
   "cell_type": "markdown",
   "metadata": {
    "hidden": true,
    "solution2": "hidden"
   },
   "source": [
    "Character reference value: f\n",
    "\n",
    "Numeric reference value: 9\n",
    "\n",
    "Output: Positive"
   ]
  },
  {
   "cell_type": "code",
   "execution_count": null,
   "metadata": {
    "hidden": true
   },
   "outputs": [],
   "source": [
    "//your code here "
   ]
  },
  {
   "cell_type": "markdown",
   "metadata": {
    "hidden": true
   },
   "source": [
    "_Fill out the below!_ \n",
    "\n",
    "Long character reference: \n",
    "\n",
    "Numeric reference value: \n",
    "\n",
    "Output:"
   ]
  },
  {
   "cell_type": "markdown",
   "metadata": {
    "hidden": true,
    "solution2": "hidden",
    "solution2_first": true
   },
   "source": [
    "<img src=\"../qbies.png\" width=\"50px\" style=\"width: 50px;padding-right:5px;padding-top:3px;padding-left:5px;\" align=\"left\"/>\n",
    "\n",
    "<p style='color:#273a6e'><i> Hopefully this has helped to clarify the way in which the <code>type</code> works, but formally these rules are described below. </i></p>"
   ]
  },
  {
   "cell_type": "markdown",
   "metadata": {
    "hidden": true,
    "solution2": "hidden"
   },
   "source": [
    "1. If the output from `type` is *positive* the input was a vector\n",
    "* If output from `type` was *negative*, the input was atomic. \n",
    "* The numeric value returns corresponds to the Numeric reference value associated with the type of the input. e.g. a short input will return an numeric value of 5, etc. \n",
    "\n",
    "Again, the trailing `h` returned from the `type` command itself is because the return is a short. This is because we only have a finite number of types, so using a bigger datatype to store the values in would be wasteful. "
   ]
  },
  {
   "cell_type": "markdown",
   "metadata": {
    "hidden": true,
    "solution2": "hidden",
    "solution2_first": true
   },
   "source": [
    "##### Exercise \n",
    "\n",
    "What do you expect the return to be from the following: \n",
    "\n",
    "    type 3.14\n",
    "   "
   ]
  },
  {
   "cell_type": "code",
   "execution_count": null,
   "metadata": {
    "hidden": true,
    "solution2": "hidden"
   },
   "outputs": [],
   "source": [
    "type 3.14 // negative - because atomic, 9  - because default floating type is float"
   ]
  },
  {
   "cell_type": "markdown",
   "metadata": {
    "hidden": true
   },
   "source": [
    "_Fill out the below!_\n",
    "\n",
    "I expect the return value to be: "
   ]
  },
  {
   "cell_type": "code",
   "execution_count": null,
   "metadata": {
    "hidden": true
   },
   "outputs": [],
   "source": [
    "//your code here"
   ]
  },
  {
   "cell_type": "markdown",
   "metadata": {
    "heading_collapsed": true,
    "hidden": true
   },
   "source": [
    "## Temporal datatypes"
   ]
  },
  {
   "cell_type": "markdown",
   "metadata": {
    "hidden": true
   },
   "source": [
    "Now we understand the basics of atoms, vectors and datatypes, we can delve deeper into temporal datatypes. "
   ]
  },
  {
   "cell_type": "code",
   "execution_count": null,
   "metadata": {
    "hidden": true
   },
   "outputs": [],
   "source": [
    "09:30:00.000 //time type is specified as hh:mm:ss.milliseconds\n",
    "09:30:00     //second \n",
    "09:30        //minute"
   ]
  },
  {
   "cell_type": "code",
   "execution_count": null,
   "metadata": {
    "hidden": true
   },
   "outputs": [],
   "source": [
    "type 09:30:00.000 \n",
    "type 09:30:00 \n",
    "type 09:30"
   ]
  },
  {
   "cell_type": "markdown",
   "metadata": {
    "hidden": true
   },
   "source": [
    "We can add these using the primitive [`+`](https://code.kx.com/q/ref/add/):"
   ]
  },
  {
   "cell_type": "code",
   "execution_count": null,
   "metadata": {
    "hidden": true
   },
   "outputs": [],
   "source": [
    "09:30:00.000 + 00:12     //kdb+/q understands arithmetic between these types\n",
    "09:30:00 + 00:12         //highest level of granularity is preserved "
   ]
  },
  {
   "cell_type": "markdown",
   "metadata": {
    "hidden": true
   },
   "source": [
    "Dates in kdb+/q have the format yyyy.mm.dd: "
   ]
  },
  {
   "cell_type": "code",
   "execution_count": null,
   "metadata": {
    "hidden": true
   },
   "outputs": [],
   "source": [
    "2020.01.01  //a date\n",
    ".z.d        //current date"
   ]
  },
  {
   "cell_type": "code",
   "execution_count": null,
   "metadata": {
    "hidden": true
   },
   "outputs": [],
   "source": [
    ".z.d + 6    //adding 6 days to the specified date"
   ]
  },
  {
   "cell_type": "markdown",
   "metadata": {
    "hidden": true
   },
   "source": [
    "Time intervals can also be explicitly encoded in the timespan type, which has the format xDhh.mm.ss.nanoseconds, where x is a number of days"
   ]
  },
  {
   "cell_type": "code",
   "execution_count": null,
   "metadata": {
    "hidden": true
   },
   "outputs": [],
   "source": [
    "2020.01.01 + 6D00:00:00.000   //the output is a timestamp! A timestamp is a combination of a time and date"
   ]
  },
  {
   "cell_type": "markdown",
   "metadata": {
    "hidden": true,
    "solution2": "hidden",
    "solution2_first": true
   },
   "source": [
    "##### Exercise \n",
    "\n",
    "Using the information [here](https://code.kx.com/q/ref/dotz/), create a timestamp by adding the current date and current time. \n",
    "   "
   ]
  },
  {
   "cell_type": "code",
   "execution_count": null,
   "metadata": {
    "hidden": true,
    "solution2": "hidden"
   },
   "outputs": [],
   "source": [
    ".z.d + .z.t       //adding a date and time returns a timestamp as the default temporal datatype\n",
    "type .z.d + .z.t  //verifying this is in fact a timestamp"
   ]
  },
  {
   "cell_type": "code",
   "execution_count": null,
   "metadata": {
    "hidden": true
   },
   "outputs": [],
   "source": [
    "//your code here"
   ]
  },
  {
   "cell_type": "markdown",
   "metadata": {
    "heading_collapsed": true,
    "hidden": true
   },
   "source": [
    "## Textual datatypes"
   ]
  },
  {
   "cell_type": "markdown",
   "metadata": {
    "hidden": true
   },
   "source": [
    "Almost all languages have some way to store non-numeric text/categorical data - in kdb+/q there are two datatypes that can be used for this data. \n",
    "\n",
    "Textual data can be stored as either a `symbol` or a `character` string: "
   ]
  },
  {
   "cell_type": "code",
   "execution_count": null,
   "metadata": {
    "hidden": true
   },
   "outputs": [],
   "source": [
    "`thisIsAsymbol "
   ]
  },
  {
   "cell_type": "code",
   "execution_count": null,
   "metadata": {
    "hidden": true
   },
   "outputs": [],
   "source": [
    "\"this is a character\""
   ]
  },
  {
   "cell_type": "code",
   "execution_count": null,
   "metadata": {
    "hidden": true
   },
   "outputs": [],
   "source": [
    "type `thisIsAsymbol         //symbols are created using a leading backtick\n",
    "type \"this is a character\"  //strings are enclosed in quotes"
   ]
  },
  {
   "cell_type": "markdown",
   "metadata": {
    "hidden": true,
    "solution2": "hidden",
    "solution2_first": true
   },
   "source": [
    "<img src=\"../qbies.png\" width=\"50px\" style=\"width: 50px;padding-right:5px;padding-top:2px;padding-left:5px;\" align=\"left\"/>\n",
    "\n",
    "<p style='color:#273a6e'><i> Looking at the output of <code>type</code> command, what major difference can we see between strings and symbols?</i></p>"
   ]
  },
  {
   "cell_type": "markdown",
   "metadata": {
    "hidden": true,
    "solution2": "hidden"
   },
   "source": [
    "We can see the `string` is actually a list of characters! This is important to remember when we get to vector operations, particularly because a list of strings (e.g. in a column of a table) will really be a list of lists.  \n",
    "\n",
    "Even though the `symbol` has multiple letters, this is actually an atomic value. "
   ]
  },
  {
   "cell_type": "markdown",
   "metadata": {
    "hidden": true,
    "solution2": "hidden",
    "solution2_first": true
   },
   "source": [
    "##### Exercise \n",
    "\n",
    "Create the text data `ABCD` as a: \n",
    "* Symbol \n",
    "* String"
   ]
  },
  {
   "cell_type": "code",
   "execution_count": null,
   "metadata": {
    "hidden": true,
    "solution2": "hidden"
   },
   "outputs": [],
   "source": [
    "//symbol - leading backtick \n",
    "`ABCD \n",
    "//string - enclosed in quotes\n",
    "\"ABCD\""
   ]
  },
  {
   "cell_type": "code",
   "execution_count": null,
   "metadata": {
    "hidden": true
   },
   "outputs": [],
   "source": [
    "//your code here "
   ]
  },
  {
   "cell_type": "markdown",
   "metadata": {
    "heading_collapsed": true,
    "hidden": true
   },
   "source": [
    "## Nulls and Infinite values "
   ]
  },
  {
   "cell_type": "markdown",
   "metadata": {
    "hidden": true
   },
   "source": [
    "Each datatype has an associated [null and infinite value](https://code.kx.com/q/basics/datatypes/), with the exception of types for which this doesn't make sense (e.g. an infinite Guid)."
   ]
  },
  {
   "cell_type": "code",
   "execution_count": null,
   "metadata": {
    "hidden": true
   },
   "outputs": [],
   "source": [
    "type 0N    //null long \n",
    "type 0w    //infinite float \n",
    "type 0Nf   //also a null float  - in general a null is 0N + the character value of the type "
   ]
  },
  {
   "cell_type": "markdown",
   "metadata": {
    "hidden": true
   },
   "source": [
    "We can use the [`null`](https://code.kx.com/q/ref/null/) keyword to identify null values: "
   ]
  },
  {
   "cell_type": "code",
   "execution_count": null,
   "metadata": {
    "hidden": true
   },
   "outputs": [],
   "source": [
    "null 0N 2 1 0N 3   //returns a boolean array corresponding to the list "
   ]
  },
  {
   "cell_type": "markdown",
   "metadata": {
    "hidden": true,
    "solution2": "hidden",
    "solution2_first": true
   },
   "source": [
    "##### Exercise \n",
    "\n",
    "Return the null type for a minute datatype, and the infinite value for a real datatype.  \n",
    "\n",
    "Verify these are null/not null respectively using the `null` command."
   ]
  },
  {
   "cell_type": "code",
   "execution_count": null,
   "metadata": {
    "hidden": true,
    "solution2": "hidden"
   },
   "outputs": [],
   "source": [
    "//null minute \n",
    "0Nu \n",
    "null 0Nu"
   ]
  },
  {
   "cell_type": "code",
   "execution_count": null,
   "metadata": {
    "hidden": true,
    "solution2": "hidden"
   },
   "outputs": [],
   "source": [
    "//infinite real \n",
    "0We\n",
    "null 0We "
   ]
  },
  {
   "cell_type": "code",
   "execution_count": null,
   "metadata": {
    "hidden": true
   },
   "outputs": [],
   "source": [
    "//your code here "
   ]
  },
  {
   "cell_type": "markdown",
   "metadata": {
    "heading_collapsed": true
   },
   "source": [
    "# Primitives"
   ]
  },
  {
   "cell_type": "markdown",
   "metadata": {
    "heading_collapsed": true,
    "hidden": true
   },
   "source": [
    "## Basic Primitives"
   ]
  },
  {
   "cell_type": "markdown",
   "metadata": {
    "hidden": true
   },
   "source": [
    "Primitives are inbuilt native functions in kdb+/q. The 4 basic arithmetic operators in q are:\n",
    "\n",
    "    + (addition)\n",
    "    - (subtraction)\n",
    "    * (multiplication)\n",
    "    % (division)\n",
    "\n",
    "In general, the terms *primitives*, *operators* and *keywords* refer to the [inbuilt functions in kdb+/q](https://code.kx.com/q/ref/). "
   ]
  },
  {
   "cell_type": "code",
   "execution_count": null,
   "metadata": {
    "hidden": true
   },
   "outputs": [],
   "source": [
    "2 + 4.0  //arithmetic will conform \n",
    "6%3      //division with longs will return a float "
   ]
  },
  {
   "cell_type": "markdown",
   "metadata": {
    "hidden": true,
    "solution2": "hidden",
    "solution2_first": true
   },
   "source": [
    "##### Exercise \n",
    "\n",
    "There are 140 calories in a single serving of mint M&Ms - given the guideline calorific intake per day is approx 2000, lets use division to see how many bags we can have and stay under our allowance.  \n",
    "\n",
    "Assume we can only eat whole bags.\n",
    "\n",
    "(The keyword [`floor`](https://code.kx.com/q/ref/floor/) may be helpful here)"
   ]
  },
  {
   "cell_type": "code",
   "execution_count": null,
   "metadata": {
    "hidden": true,
    "solution2": "hidden"
   },
   "outputs": [],
   "source": [
    "// using floor to get whole number of bags that we can eat\n",
    "floor 2000%140"
   ]
  },
  {
   "cell_type": "code",
   "execution_count": null,
   "metadata": {
    "hidden": true,
    "solution2": "hidden"
   },
   "outputs": [],
   "source": [
    "//the keyword div will perform integer division in this way - rounding down \n",
    "2000 % 140 \n",
    "2000 div 140"
   ]
  },
  {
   "cell_type": "code",
   "execution_count": null,
   "metadata": {
    "hidden": true
   },
   "outputs": [],
   "source": [
    "//your answer here "
   ]
  },
  {
   "cell_type": "markdown",
   "metadata": {
    "hidden": true
   },
   "source": [
    "There are more inbuilt functions like the `type` and `floor` commands we have already used e.g [`neg`](https://code.kx.com/q/ref/neg/) (to get the negative of a number), or set operations like [`in`](https://code.kx.com/q/ref/in/) or [`except`](https://code.kx.com/q/ref/except/) etc. "
   ]
  },
  {
   "cell_type": "code",
   "execution_count": null,
   "metadata": {
    "hidden": true
   },
   "outputs": [],
   "source": [
    "neg 5.4  //or explicity -5.4 \n",
    "-5.4 "
   ]
  },
  {
   "cell_type": "code",
   "execution_count": null,
   "metadata": {
    "hidden": true
   },
   "outputs": [],
   "source": [
    "1 in 1 2 3    //is (this item) in (this list)\n",
    "1 2 in 1 2 3  //are (these items) in (this list) "
   ]
  },
  {
   "cell_type": "markdown",
   "metadata": {
    "hidden": true,
    "solution2": "hidden",
    "solution2_first": true
   },
   "source": [
    "##### Exercise \n",
    "\n",
    "The modulo function in kdb+/q is [mod](https://code.kx.com/q/ref/mod/). \n",
    "\n",
    "1. Use this to get the modulo 7 of the current date.\n",
    "* What day of the week is 0 when modulo 7 in kdb+/q? \n",
    "* Write logic using `mod` and `in` to check if a given date (use the current date) is a weekend day"
   ]
  },
  {
   "cell_type": "code",
   "execution_count": null,
   "metadata": {
    "hidden": true,
    "solution2": "hidden"
   },
   "outputs": [],
   "source": [
    ".z.d mod 7     //the current date"
   ]
  },
  {
   "cell_type": "code",
   "execution_count": null,
   "metadata": {
    "hidden": true,
    "solution2": "hidden"
   },
   "outputs": [],
   "source": [
    "2020.07.11 mod 7 //this was a Saturday! In kdb+/q the week \"starts\" on a Saturday."
   ]
  },
  {
   "cell_type": "code",
   "execution_count": null,
   "metadata": {
    "hidden": true,
    "solution2": "hidden"
   },
   "outputs": [],
   "source": [
    "(.z.d mod 7) in 0 1 //weekends are 0 1 "
   ]
  },
  {
   "cell_type": "code",
   "execution_count": null,
   "metadata": {
    "hidden": true
   },
   "outputs": [],
   "source": [
    "//your answer here "
   ]
  },
  {
   "cell_type": "markdown",
   "metadata": {
    "heading_collapsed": true,
    "hidden": true
   },
   "source": [
    "## Operator Precedence"
   ]
  },
  {
   "cell_type": "markdown",
   "metadata": {
    "hidden": true,
    "solution2": "hidden",
    "solution2_first": true
   },
   "source": [
    "<img src=\"../qbies.png\" width=\"50px\" style=\"width: 50px;padding-right:5px;padding-top:1px;padding-left:5px;\" align=\"left\"/>\n",
    "\n",
    "<p style='color:#273a6e'><i> In kdb+/q the order of execution of a code command is right to left, also referred to as 'left of right' </i></p>"
   ]
  },
  {
   "cell_type": "markdown",
   "metadata": {
    "hidden": true,
    "solution2": "hidden"
   },
   "source": [
    "There are many reasons why kdb+/q might operate in this fashion, but one such reason is performance based. By performing operations from right to left, we avoid the need to consult precedence tables. \n",
    "\n",
    "If it didn't operate in this way the whole statement would need to be read and then reconstructed before passing to the compiler based upon the specified operator hierarchy (think of [BOMDAS](https://en.wiktionary.org/wiki/BOMDAS)!)."
   ]
  },
  {
   "cell_type": "markdown",
   "metadata": {
    "hidden": true
   },
   "source": [
    "The sentence above is crucial when reading existing Q code. This allows for shorter code snippets, but requires the reader to be completely aware of the languages precedence. \n",
    "\n",
    "What do you expect the below cell to return?"
   ]
  },
  {
   "cell_type": "code",
   "execution_count": null,
   "metadata": {
    "hidden": true
   },
   "outputs": [],
   "source": [
    "3*4+2 "
   ]
  },
  {
   "cell_type": "markdown",
   "metadata": {
    "hidden": true,
    "solution2": "hidden",
    "solution2_first": true
   },
   "source": [
    "##### Exercise \n",
    "What do you expect the below expressions to return?\n",
    "\n",
    "*  3+10*4\n",
    "*  3+(10*4)\n",
    "*  (3+10)*4"
   ]
  },
  {
   "cell_type": "code",
   "execution_count": null,
   "metadata": {
    "hidden": true,
    "solution2": "hidden"
   },
   "outputs": [],
   "source": [
    "// You might have expected 52,43 and 52\n",
    "3+10*4\n",
    "3+(10*4)\n",
    "(3+10)*4"
   ]
  },
  {
   "cell_type": "code",
   "execution_count": null,
   "metadata": {
    "hidden": true
   },
   "outputs": [],
   "source": [
    "//your answer here "
   ]
  },
  {
   "cell_type": "markdown",
   "metadata": {
    "heading_collapsed": true,
    "hidden": true
   },
   "source": [
    "## Comparison Primitives"
   ]
  },
  {
   "cell_type": "markdown",
   "metadata": {
    "hidden": true
   },
   "source": [
    "Comparison in kdb+/q has intuitive operators largely in line with mathematical notation:\n",
    "\n",
    "    >   is greater than\n",
    "    <   is less than\n",
    "    >=  is greater than or equal to\n",
    "    <=  is less than or equal to\n",
    "    <>  not equal to\n",
    " \n",
    "Comparison checks return booleans indicating if the comparison criterion is met (`1b`) or not (`0b`).\n",
    "\n",
    "Below are some examples:"
   ]
  },
  {
   "cell_type": "code",
   "execution_count": null,
   "metadata": {
    "hidden": true
   },
   "outputs": [],
   "source": [
    "5>4\n",
    "5<>4\n",
    "5>5\n",
    "5>=5"
   ]
  },
  {
   "cell_type": "markdown",
   "metadata": {
    "hidden": true
   },
   "source": [
    "A special case of comparison is to check if two items are equal. In kdb+/q there are two ways to check equality: \n",
    "\n",
    "    =   equal values\n",
    "    ~   exact match \n",
    "    \n",
    "The `=` operator will check if the values are equal but isn't a *strict* check, in that it doesn't require the datatypes between the two objects to be the same. \n",
    "\n",
    "\n",
    "The `~` operator (referred to as [tilda or match](https://code.kx.com/q/ref/match) ) checks to see if both the value and type are the same."
   ]
  },
  {
   "cell_type": "code",
   "execution_count": null,
   "metadata": {
    "hidden": true
   },
   "outputs": [],
   "source": [
    "4=4.0 //check if representative value is equal \n",
    "4~4.0 //check value and type match"
   ]
  },
  {
   "cell_type": "markdown",
   "metadata": {
    "hidden": true
   },
   "source": [
    "We will talk in later sections about lists, but as a quick intro these operations can also be applied to lists."
   ]
  },
  {
   "cell_type": "code",
   "execution_count": null,
   "metadata": {
    "hidden": true
   },
   "outputs": [],
   "source": [
    "1 2 3=1 2.0 3   // when dealing with lists, = compares the lists item-wize\n",
    "1 2 3~1 2.0 3   // even with lists, ~ always returns a single true or false"
   ]
  },
  {
   "cell_type": "markdown",
   "metadata": {
    "hidden": true,
    "solution2": "hidden",
    "solution2_first": true
   },
   "source": [
    "##### Exercise \n",
    "\n",
    "What do you expect the below expressions to return? \n",
    "* 3~6%2  \n",
    "* 1 2 = 1 4\n",
    "* 1 2 ~ 1 4 \n",
    "* 3=6%2"
   ]
  },
  {
   "cell_type": "code",
   "execution_count": null,
   "metadata": {
    "hidden": true,
    "solution2": "hidden"
   },
   "outputs": [],
   "source": [
    "3~6%2       //the output of the division is a float, this is not an exact type match with the long"
   ]
  },
  {
   "cell_type": "code",
   "execution_count": null,
   "metadata": {
    "hidden": true,
    "solution2": "hidden"
   },
   "outputs": [],
   "source": [
    "1 2 = 1 4   //the equality is evaluated pairwise - the first pair  (1 = 1) matches, the second (2 = 4) does not"
   ]
  },
  {
   "cell_type": "code",
   "execution_count": null,
   "metadata": {
    "hidden": true,
    "solution2": "hidden"
   },
   "outputs": [],
   "source": [
    "1 2 ~ 1 4   //each list is take in its entirety and evaluated for an exact match with the other"
   ]
  },
  {
   "cell_type": "code",
   "execution_count": null,
   "metadata": {
    "hidden": true,
    "solution2": "hidden"
   },
   "outputs": [],
   "source": [
    "3=6%2       //the value represented by the two different types match "
   ]
  },
  {
   "cell_type": "code",
   "execution_count": null,
   "metadata": {
    "hidden": true
   },
   "outputs": [],
   "source": [
    "//your answer here"
   ]
  },
  {
   "cell_type": "markdown",
   "metadata": {
    "heading_collapsed": true,
    "hidden": true
   },
   "source": [
    "## Function notation"
   ]
  },
  {
   "cell_type": "markdown",
   "metadata": {
    "hidden": true
   },
   "source": [
    "Thus far, we have used `infix` notation with our keywords. Functions/keywords can also be called explicitly using `functional` notation as follows: "
   ]
  },
  {
   "cell_type": "code",
   "execution_count": null,
   "metadata": {
    "hidden": true
   },
   "outputs": [],
   "source": [
    "neg 10 2 \n",
    "neg[10 2]"
   ]
  },
  {
   "cell_type": "markdown",
   "metadata": {
    "hidden": true
   },
   "source": [
    "With functional notation the function parameters are passed `;` separated into the calling function: "
   ]
  },
  {
   "cell_type": "code",
   "execution_count": null,
   "metadata": {
    "hidden": true
   },
   "outputs": [],
   "source": [
    "1 in 2 3 \n",
    "in[1;2 3]"
   ]
  },
  {
   "cell_type": "markdown",
   "metadata": {
    "hidden": true,
    "solution2": "hidden",
    "solution2_first": true
   },
   "source": [
    "##### Exercise\n",
    "Use functional notation and the keyword [mavg](https://code.kx.com/q/ref/avg/#mavg) to calculate the pairwise moving average on the list `3 2 4.1 5 2 1`"
   ]
  },
  {
   "cell_type": "code",
   "execution_count": null,
   "metadata": {
    "hidden": true,
    "solution2": "hidden"
   },
   "outputs": [],
   "source": [
    "mavg[2;3 2 4.1 5 2 1]"
   ]
  },
  {
   "cell_type": "code",
   "execution_count": null,
   "metadata": {
    "hidden": true
   },
   "outputs": [],
   "source": [
    "//your code here "
   ]
  },
  {
   "cell_type": "markdown",
   "metadata": {
    "heading_collapsed": true
   },
   "source": [
    "# Variables & Assignment"
   ]
  },
  {
   "cell_type": "markdown",
   "metadata": {
    "heading_collapsed": true,
    "hidden": true
   },
   "source": [
    "## Variable Assignment"
   ]
  },
  {
   "cell_type": "markdown",
   "metadata": {
    "hidden": true
   },
   "source": [
    "Variables are used to store information to be later referenced and manipulated in a computer program - storing intermediate results is useful for avoiding repeated work. \n",
    "\n",
    "To assign a variable to a value, we use the `:` operator to pair the name we have chosen for the variable with the value we wish to assign to it."
   ]
  },
  {
   "cell_type": "code",
   "execution_count": null,
   "metadata": {
    "hidden": true
   },
   "outputs": [],
   "source": [
    "a:25"
   ]
  },
  {
   "cell_type": "markdown",
   "metadata": {
    "hidden": true
   },
   "source": [
    "<img src=\"../qbies.png\" width=\"50px\" style=\"width: 50px;padding-right:5px;padding-top:10px;padding-left:5px;\" align=\"left\"/>\n",
    "\n",
    "<p style='color:#273a6e'><i> Note that in kdb+/q assignment doesn't use = as in many other languages. As we saw previously = is used to check equality. In kdb+/q to assign a variable to a value we use : to assign the right hand side (RHS) to the variable name on the left hand side (LHS).</i></p>"
   ]
  },
  {
   "cell_type": "markdown",
   "metadata": {
    "hidden": true
   },
   "source": [
    "If I wish to examine the value of a variable, simply type it out and hit enter"
   ]
  },
  {
   "cell_type": "code",
   "execution_count": null,
   "metadata": {
    "hidden": true
   },
   "outputs": [],
   "source": [
    "a"
   ]
  },
  {
   "cell_type": "markdown",
   "metadata": {
    "hidden": true
   },
   "source": [
    "We can use our new variable in arithmetic expressions:"
   ]
  },
  {
   "cell_type": "code",
   "execution_count": null,
   "metadata": {
    "hidden": true
   },
   "outputs": [],
   "source": [
    "b: 10 + a\n",
    "b"
   ]
  },
  {
   "cell_type": "markdown",
   "metadata": {
    "hidden": true
   },
   "source": [
    "We can continue assigning `a` to other values.\n",
    "\n",
    "Rather than separating the assignment and visualisation of the variable into separate cells, we can use the `show` keyword to immediately see the assigned value."
   ]
  },
  {
   "cell_type": "code",
   "execution_count": null,
   "metadata": {
    "hidden": true
   },
   "outputs": [],
   "source": [
    "show a:12    // assign a to another long type\n",
    "show a:\"G\"   // Assign a to a completely different type (a char in this case)\n",
    "show a:4.5   // Assign a to a fractional number (called a float in q)"
   ]
  },
  {
   "cell_type": "code",
   "execution_count": null,
   "metadata": {
    "hidden": true
   },
   "outputs": [],
   "source": [
    "a\n",
    "b      //note changing a hasn't changed b!"
   ]
  },
  {
   "cell_type": "markdown",
   "metadata": {
    "hidden": true,
    "solution2": "hidden",
    "solution2_first": true
   },
   "source": [
    "##### Exercise \n",
    "Lets create:\n",
    "* A new variable `yesterday` and store in it yesterdays date. \n",
    "* A new variable `null_int` and store in it an integer null. \n",
    "* A new variable `avg_sleep` and assign it a value of 6.8 (this is the average hours of sleep Americans get each night!)."
   ]
  },
  {
   "cell_type": "code",
   "execution_count": null,
   "metadata": {
    "hidden": true,
    "solution2": "hidden"
   },
   "outputs": [],
   "source": [
    "yesterday:.z.d-1  //in-built function .z.d that returns today's date\n",
    "null_int:0Ni      //remember nulls in q have an associated type\n",
    "avg_sleep:6.8     "
   ]
  },
  {
   "cell_type": "code",
   "execution_count": null,
   "metadata": {
    "hidden": true
   },
   "outputs": [],
   "source": [
    "//your answer here "
   ]
  },
  {
   "cell_type": "markdown",
   "metadata": {
    "heading_collapsed": true,
    "hidden": true
   },
   "source": [
    "## Using Variables in Arithmetic Operations"
   ]
  },
  {
   "cell_type": "markdown",
   "metadata": {
    "hidden": true
   },
   "source": [
    "A variable can be used in any expression. Some simple examples below:"
   ]
  },
  {
   "cell_type": "code",
   "execution_count": null,
   "metadata": {
    "hidden": true
   },
   "outputs": [],
   "source": [
    "pi:22%7\n",
    "radius:5\n",
    "area:pi*radius*radius //area of circle formula\n",
    "area"
   ]
  },
  {
   "cell_type": "markdown",
   "metadata": {
    "hidden": true
   },
   "source": [
    "Unlike in some other languages, assignment in kdb+/q isn't required to be stated separately on it's own individual line! Since execution occurs from right to left, we can make an assignment and then continue to operate with this data after assignment. \n",
    "\n",
    "We could therefore rewrite the above as follows: "
   ]
  },
  {
   "cell_type": "code",
   "execution_count": null,
   "metadata": {
    "hidden": true
   },
   "outputs": [],
   "source": [
    "pi:22%7\n",
    "area:pi*radius*radius:5  //notice assignment working twice here - we have still defined radius to be 5 here too\n",
    "area"
   ]
  },
  {
   "cell_type": "markdown",
   "metadata": {
    "hidden": true,
    "solution2": "hidden",
    "solution2_first": true
   },
   "source": [
    "##### Exercise \n",
    "Using our `avg_sleep` variable from before, let's figure out:\n",
    "* How many hours of sleep does this corresponds to during a year by multiplying by 365.25 (the number of days in a year)\n",
    "* How many sleep hours are missed in a year by not getting 8 hours sleep a night?\n",
    "* How many days does that missed time correspond to? "
   ]
  },
  {
   "cell_type": "code",
   "execution_count": null,
   "metadata": {
    "hidden": true,
    "solution2": "hidden"
   },
   "outputs": [],
   "source": [
    "//calculating the hours of sleep and assigning it to a variable yearly\n",
    "show yearly:6.8*365.25"
   ]
  },
  {
   "cell_type": "code",
   "execution_count": null,
   "metadata": {
    "hidden": true,
    "solution2": "hidden"
   },
   "outputs": [],
   "source": [
    "//using neg built in function to convert the yearly value to a \"-\"\n",
    "//this is a very \"q\" way of doing it as we execute from right to left\n",
    "show missed:neg[yearly]+365.25*8\n",
    "//for readability \n",
    "(365.25*8)-yearly"
   ]
  },
  {
   "cell_type": "code",
   "execution_count": null,
   "metadata": {
    "hidden": true,
    "solution2": "hidden"
   },
   "outputs": [],
   "source": [
    "//using integer division to round down\n",
    "show days: missed div 24 "
   ]
  },
  {
   "cell_type": "code",
   "execution_count": null,
   "metadata": {
    "hidden": true
   },
   "outputs": [],
   "source": [
    "//your answer here "
   ]
  },
  {
   "cell_type": "markdown",
   "metadata": {
    "heading_collapsed": true,
    "hidden": true
   },
   "source": [
    "## Assignment and Projecting Functions "
   ]
  },
  {
   "cell_type": "markdown",
   "metadata": {
    "hidden": true
   },
   "source": [
    "In-built kdb+/q functions which take multiple inputs can be bound to a given input, creating what is called a projection. "
   ]
  },
  {
   "cell_type": "code",
   "execution_count": null,
   "metadata": {
    "hidden": true
   },
   "outputs": [],
   "source": [
    "add2:2+      //we don't define the second input \n",
    "add2:+[2;]   //functional notation - we leave the second parameter undefined \n",
    "add2:+[2]    //all of these are equivalent\n",
    "add2       "
   ]
  },
  {
   "cell_type": "code",
   "execution_count": null,
   "metadata": {
    "hidden": true
   },
   "outputs": [],
   "source": [
    "add2 4 "
   ]
  },
  {
   "cell_type": "markdown",
   "metadata": {
    "hidden": true,
    "solution2": "hidden",
    "solution2_first": true
   },
   "source": [
    "##### Exercise \n",
    "\n",
    "Create a new function `pairMovingSum` using the in-built keyword [`msum`](https://code.kx.com/q/ref/sum/#msum). \n",
    "\n",
    "Test this with the following input: `1 2 3 2 3 2 1` \n",
    "\n",
    "(Expected output - `1 3 5 5 5 5 3`)"
   ]
  },
  {
   "cell_type": "code",
   "execution_count": null,
   "metadata": {
    "hidden": true,
    "solution2": "hidden"
   },
   "outputs": [],
   "source": [
    "pairMovingSum:msum[2]"
   ]
  },
  {
   "cell_type": "code",
   "execution_count": null,
   "metadata": {
    "hidden": true,
    "solution2": "hidden"
   },
   "outputs": [],
   "source": [
    "pairMovingSum 1 2 3 2 3 2 1"
   ]
  },
  {
   "cell_type": "code",
   "execution_count": null,
   "metadata": {
    "hidden": true
   },
   "outputs": [],
   "source": [
    "//your answer here"
   ]
  }
 ],
 "metadata": {
  "kernelspec": {
   "display_name": "Python 3 (ipykernel)",
   "language": "python",
   "name": "python3"
  },
  "language_info": {
   "codemirror_mode": {
    "name": "ipython",
    "version": 3
   },
   "file_extension": ".py",
   "mimetype": "text/x-python",
   "name": "python",
   "nbconvert_exporter": "python",
   "pygments_lexer": "ipython3",
   "version": "3.11.10"
  },
  "toc": {
   "base_numbering": 1,
   "nav_menu": {},
   "number_sections": true,
   "sideBar": true,
   "skip_h1_title": false,
   "title_cell": "Table of Contents",
   "title_sidebar": "Contents",
   "toc_cell": false,
   "toc_position": {
    "height": "calc(100% - 180px)",
    "left": "10px",
    "top": "150px",
    "width": "190.2px"
   },
   "toc_section_display": true,
   "toc_window_display": true
  }
 },
 "nbformat": 4,
 "nbformat_minor": 4
}