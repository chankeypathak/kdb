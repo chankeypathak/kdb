{
 "cells": [
  {
   "cell_type": "code",
   "metadata": {
    "autorun": true,
    "editable": false,
    "tags": [
     "remove-cell"
    ],
    "jupyter": {
     "source_hidden": true,
     "outputs_hidden": true
    },
    "collapsed": true
   },
   "source": [
    "#;.pykx.disableJupyter()"
   ]
  },
  {
   "cell_type": "code",
   "metadata": {
    "autorun": true,
    "editable": false,
    "tags": [
     "remove-cell"
    ],
    "jupyter": {
     "source_hidden": true,
     "outputs_hidden": true
    },
    "collapsed": true
   },
   "source": [
    "# https://code.kx.com/pykx/3.0/examples/jupyter-integration.html#q-first-mode\n",
    "import pykx as kx\n",
    "kx.util.jupyter_qfirst_enable()"
   ]
  },
  {
   "cell_type": "markdown",
   "metadata": {},
   "source": [
    "##### Initialization cell"
   ]
  },
  {
   "cell_type": "markdown",
   "metadata": {},
   "source": [
    "Run the cell below to generate randomized quote and trade tables. These will be used for the exercises below"
   ]
  },
  {
   "cell_type": "code",
   "execution_count": null,
   "metadata": {},
   "outputs": [],
   "source": [
    "trade:([]time:`time$();sym:`symbol$();size:`long$();price:`long$();side:`symbol$();exchange:`symbol$())\n",
    "quote:([]time:`time$();sym:`symbol$();bid:`long$();ask:`long$();bidSize:`long$();askSize:`long$();exchange:`symbol$())\n",
    "randQuote:{`quote insert(rand .z.t;rand`JPM`GE`BP`MSFT;1+rand 10000;1+rand 10000;1+rand 10000;1+rand 10000;rand`N`L`T)}\n",
    "randTrade:{`trade insert(rand .z.t;rand`JPM`GE`BP`MSFT;1+rand 10000;1+rand 10000;rand`B`S;rand`N`L`T)}\n",
    "do[10000;randQuote[]]\n",
    "do[10000;randTrade[]]"
   ]
  },
  {
   "cell_type": "markdown",
   "metadata": {
    "heading_collapsed": true
   },
   "source": [
    "## Extracting useful insights from the tables"
   ]
  },
  {
   "cell_type": "markdown",
   "metadata": {
    "hidden": true
   },
   "source": [
    "The below questions make use of the `trade` and `quote` tables that we have generated in the initialization cell. The cell below provides a preview of what the tables look like."
   ]
  },
  {
   "cell_type": "code",
   "execution_count": null,
   "metadata": {
    "hidden": true
   },
   "outputs": [],
   "source": [
    "tables[]!count each value each tables[]\n",
    "10#trade \n",
    "10#quote"
   ]
  },
  {
   "cell_type": "markdown",
   "metadata": {
    "hidden": true,
    "solution2": "hidden",
    "solution2_first": true
   },
   "source": [
    "* Select all trades for `MSFT` , with a price less than or equal to 200."
   ]
  },
  {
   "cell_type": "code",
   "execution_count": null,
   "metadata": {
    "hidden": true,
    "solution2": "hidden"
   },
   "outputs": [],
   "source": [
    "select from trade where sym=`MSFT, price <= 200"
   ]
  },
  {
   "cell_type": "code",
   "execution_count": null,
   "metadata": {
    "hidden": true
   },
   "outputs": [],
   "source": [
    "//your answer here "
   ]
  },
  {
   "cell_type": "markdown",
   "metadata": {
    "hidden": true,
    "solution2": "hidden",
    "solution2_first": true
   },
   "source": [
    "* Select the last trade price for each sym in hourly buckets"
   ]
  },
  {
   "cell_type": "code",
   "execution_count": null,
   "metadata": {
    "hidden": true,
    "solution2": "hidden"
   },
   "outputs": [],
   "source": [
    "select last price by hour:60 xbar time.minute, sym from trade"
   ]
  },
  {
   "cell_type": "code",
   "execution_count": null,
   "metadata": {
    "hidden": true
   },
   "outputs": [],
   "source": [
    "//your answer here"
   ]
  },
  {
   "cell_type": "markdown",
   "metadata": {
    "hidden": true,
    "solution2": "hidden",
    "solution2_first": true
   },
   "source": [
    "* Select the max and min askSize in the `quote` table for each exchange in 2 hour buckets, excluding `JPM`"
   ]
  },
  {
   "cell_type": "code",
   "execution_count": null,
   "metadata": {
    "hidden": true,
    "solution2": "hidden"
   },
   "outputs": [],
   "source": [
    "select maxAskSize:max askSize, minAskSize:min askSize by exchange, hour:120 xbar time.minute from quote where sym<>`JPM"
   ]
  },
  {
   "cell_type": "code",
   "execution_count": null,
   "metadata": {
    "hidden": true
   },
   "outputs": [],
   "source": [
    "//your answer here "
   ]
  },
  {
   "cell_type": "markdown",
   "metadata": {
    "hidden": true,
    "solution2": "hidden",
    "solution2_first": true
   },
   "source": [
    "* Calculate the daily spread (average bid-ask) for `JPM` and `BP` (using the `quote` table)"
   ]
  },
  {
   "cell_type": "code",
   "execution_count": null,
   "metadata": {
    "hidden": true,
    "solution2": "hidden"
   },
   "outputs": [],
   "source": [
    "select spread:avg bid-ask by sym from quote where sym in `JPM`BP"
   ]
  },
  {
   "cell_type": "code",
   "execution_count": null,
   "metadata": {
    "hidden": true
   },
   "outputs": [],
   "source": [
    "//your answer here "
   ]
  },
  {
   "cell_type": "markdown",
   "metadata": {
    "hidden": true,
    "solution2": "hidden",
    "solution2_first": true
   },
   "source": [
    "* Return all trade records where the size is greater than the average trade size for that sym"
   ]
  },
  {
   "cell_type": "code",
   "execution_count": null,
   "metadata": {
    "hidden": true,
    "solution2": "hidden"
   },
   "outputs": [],
   "source": [
    "select from trade where size>(avg;size)fby sym"
   ]
  },
  {
   "cell_type": "code",
   "execution_count": null,
   "metadata": {
    "hidden": true
   },
   "outputs": [],
   "source": [
    "//your answer here "
   ]
  },
  {
   "cell_type": "markdown",
   "metadata": {
    "hidden": true,
    "solution2": "hidden",
    "solution2_first": true
   },
   "source": [
    "* Return trade records with the maximum price, per symbol and per exchange"
   ]
  },
  {
   "cell_type": "code",
   "execution_count": null,
   "metadata": {
    "hidden": true,
    "solution2": "hidden"
   },
   "outputs": [],
   "source": [
    "`sym`exchange xkey `sym xasc select from trade where price=(max;price) fby ([]sym;exchange)\n",
    "//no need to key or sort, but included here in the solution for clarity"
   ]
  },
  {
   "cell_type": "code",
   "execution_count": null,
   "metadata": {
    "hidden": true
   },
   "outputs": [],
   "source": [
    "//your answer here"
   ]
  },
  {
   "cell_type": "markdown",
   "metadata": {
    "heading_collapsed": true
   },
   "source": [
    "## Executing qSQL queries in user-defined functions"
   ]
  },
  {
   "cell_type": "markdown",
   "metadata": {
    "hidden": true,
    "solution2": "hidden",
    "solution2_first": true
   },
   "source": [
    "* Create a function `filterOnSym` which takes two arguments: \n",
    "    * a table name\n",
    "    * a sym\n",
    "    \n",
    "  returns all the records in the table for the given sym\n",
    "  \n",
    "  Example:\n",
    "  \n",
    "      filterOnSym[trade;`JPM]\n",
    "      \n",
    "| time | sym | size | price | side | exchange|\n",
    "|------------|----|----|-----|----|--------|\n",
    "|12:32:03.857|JPM|7346|9114 |B   |T       |\n",
    "|05:10:03.082|JPM  |6900|5248 |B   |T       |\n",
    "|12:34:47.726|JPM  |6110|5758 |B   |L       |\n",
    "|08:48:23.372|JPM |6263|1589 |B   |L       |\n",
    "|07:19:31.172|JPM|8814|9056 |S   |L       |\n",
    "|00:34:26.343|JPM  |6772|5569 |S   |N       |\n",
    "|10:50:24.214|JPM |7320|9936 |B   |N       |"
   ]
  },
  {
   "cell_type": "code",
   "execution_count": null,
   "metadata": {
    "hidden": true,
    "solution2": "hidden"
   },
   "outputs": [],
   "source": [
    "filterOnSym:{[t;s] select from t where sym in s}"
   ]
  },
  {
   "cell_type": "code",
   "execution_count": null,
   "metadata": {
    "hidden": true
   },
   "outputs": [],
   "source": [
    "//your answer here "
   ]
  },
  {
   "cell_type": "markdown",
   "metadata": {
    "hidden": true
   },
   "source": [
    "Now test your code output on your different tables."
   ]
  },
  {
   "cell_type": "code",
   "execution_count": null,
   "metadata": {
    "hidden": true
   },
   "outputs": [],
   "source": [
    "filterOnSym[trade;`JPM]   "
   ]
  },
  {
   "cell_type": "code",
   "execution_count": null,
   "metadata": {
    "hidden": true
   },
   "outputs": [],
   "source": [
    "filterOnSym[quote;`GE]   "
   ]
  },
  {
   "cell_type": "markdown",
   "metadata": {
    "hidden": true,
    "solution2": "hidden",
    "solution2_first": true
   },
   "source": [
    "* Create a function `getVolumeForSym` which has one argument:\n",
    "    * sym - can be one sym or a list of syms\n",
    "    \n",
    "  returns the total size per sym from the trade table\n",
    "  \n",
    "  Example:\n",
    "  \n",
    "  getVolumeForSym[`JPM]\n",
    "  \n",
    "sym | size\n",
    "--- | ---\n",
    "JPM | 1234567\n",
    "    "
   ]
  },
  {
   "cell_type": "code",
   "execution_count": null,
   "metadata": {
    "hidden": true,
    "solution2": "hidden"
   },
   "outputs": [],
   "source": [
    "getVolumeForSym:{[s] select sum size by sym from trade where sym in s} "
   ]
  },
  {
   "cell_type": "code",
   "execution_count": null,
   "metadata": {
    "hidden": true
   },
   "outputs": [],
   "source": [
    "//your answer here "
   ]
  },
  {
   "cell_type": "code",
   "execution_count": null,
   "metadata": {
    "hidden": true
   },
   "outputs": [],
   "source": [
    "//test your function\n",
    "getVolumeForSym[`JPM]\n",
    "getVolumeForSym[`JPM`GE]"
   ]
  },
  {
   "cell_type": "markdown",
   "metadata": {
    "hidden": true,
    "solution2": "hidden",
    "solution2_first": true
   },
   "source": [
    "* Create a similar function `getVWAPForSym` which has one argument:\n",
    "    * sym - can be one sym or a list of syms\n",
    "    \n",
    "  returns the volume weighted average price (VWAP) per sym from the trade table\n",
    "  \n",
    "   Example:\n",
    "  \n",
    "  getVWAPForSym[`JPM]\n",
    "  \n",
    "sym | vwap\n",
    "--- | ---\n",
    "JPM | 1234.456"
   ]
  },
  {
   "cell_type": "code",
   "execution_count": null,
   "metadata": {
    "hidden": true,
    "solution2": "hidden"
   },
   "outputs": [],
   "source": [
    "getVWAPForSym:{[s] select vwap:size wavg price by sym from trade where sym in s}  "
   ]
  },
  {
   "cell_type": "code",
   "execution_count": null,
   "metadata": {
    "hidden": true
   },
   "outputs": [],
   "source": [
    "//your answer here "
   ]
  },
  {
   "cell_type": "code",
   "execution_count": null,
   "metadata": {
    "hidden": true
   },
   "outputs": [],
   "source": [
    "//test your function\n",
    "getVWAPForSym[`JPM]\n",
    "getVWAPForSym[`JPM`MSFT]"
   ]
  },
  {
   "cell_type": "markdown",
   "metadata": {
    "hidden": true,
    "solution2": "hidden",
    "solution2_first": true
   },
   "source": [
    "* Create a function `getTradeTimeSeries` which has one argument:\n",
    "    * sym - can be one sym or a list of syms\n",
    "    \n",
    "  returns the sorted list (using exec) of times when trades where executed per sym\n",
    "  \n",
    "   Example:\n",
    "  \n",
    "  getTradeTimeSeries[`JPM]\n",
    "  \n",
    "`s#00:00:25.822 00:01:40.188 00:01:44.587 00:02:25.536 00:03:10.884..."
   ]
  },
  {
   "cell_type": "code",
   "execution_count": null,
   "metadata": {
    "hidden": true,
    "solution2": "hidden"
   },
   "outputs": [],
   "source": [
    "getTradeTimeSeries:{[s] asc exec time from trade where sym in s}"
   ]
  },
  {
   "cell_type": "code",
   "execution_count": null,
   "metadata": {
    "hidden": true
   },
   "outputs": [],
   "source": [
    "//your answer here"
   ]
  },
  {
   "cell_type": "code",
   "execution_count": null,
   "metadata": {
    "hidden": true
   },
   "outputs": [],
   "source": [
    "//test your function\n",
    "getTradeTimeSeries[`JPM]\n",
    "getTradeTimeSeries[`GE`JPM]"
   ]
  },
  {
   "cell_type": "markdown",
   "metadata": {
    "heading_collapsed": true
   },
   "source": [
    "## Extracting Tables"
   ]
  },
  {
   "cell_type": "markdown",
   "metadata": {
    "hidden": true,
    "solution2": "hidden",
    "solution2_first": true
   },
   "source": [
    "* Generate a [NBBO](https://www.investopedia.com/terms/n/nbbo.asp) table from your quote table, this is the best bid (bigger is better) and ask (smaller is better) on a daily basis broken down by sym and 1 minute intervals.  The final table should have a time column that is of time type.\n",
    "\n",
    "    Sample output:\n",
    "    \n",
    "sym time        | ask  bid \n",
    "----------------| ---------\n",
    "BP  00:00:00.000| 2491 9124\n",
    "BP  00:01:00.000| 855  5335\n",
    "BP  00:02:00.000| 9008 5407\n",
    "BP  00:03:00.000| 2399 9032\n",
    "BP  00:04:00.000| 5007 6692\n",
    "BP  00:06:00.000| 2505 576 \n",
    "BP  00:07:00.000| 8666 1956\n",
    "BP  00:08:00.000| 8151 8479\n",
    "    "
   ]
  },
  {
   "cell_type": "code",
   "execution_count": null,
   "metadata": {
    "hidden": true,
    "solution2": "hidden"
   },
   "outputs": [],
   "source": [
    "show nbbo:select ask: min ask,bid: max bid \n",
    "                by sym,time:`time$time.minute     \n",
    "                from quote \n",
    "                where askSize>0,bidSize>0"
   ]
  },
  {
   "cell_type": "code",
   "execution_count": null,
   "metadata": {
    "hidden": true,
    "solution2": "hidden"
   },
   "outputs": [],
   "source": [
    "count nbbo   //should have less nbbo records than quote records!\n",
    "count quote"
   ]
  },
  {
   "cell_type": "code",
   "execution_count": null,
   "metadata": {
    "hidden": true
   },
   "outputs": [],
   "source": [
    "//your answer here "
   ]
  },
  {
   "cell_type": "markdown",
   "metadata": {
    "heading_collapsed": true
   },
   "source": [
    "## Modifying Tables"
   ]
  },
  {
   "cell_type": "markdown",
   "metadata": {
    "hidden": true,
    "solution2": "hidden",
    "solution2_first": true
   },
   "source": [
    "* The price from the `T` exchange was given to us in the wrong currency. Update the price column in the `trade` table so that it is now 0.78 times the previous price. Use pass-by-name to update the table in memory. \n",
    "\n",
    "Note: the price column is a list of integers"
   ]
  },
  {
   "cell_type": "code",
   "execution_count": null,
   "metadata": {
    "hidden": true,
    "solution2": "hidden"
   },
   "outputs": [],
   "source": [
    "update `int$price*0.78 from `trade where exchange in `T"
   ]
  },
  {
   "cell_type": "code",
   "execution_count": null,
   "metadata": {
    "hidden": true
   },
   "outputs": [],
   "source": [
    "// your answer here"
   ]
  },
  {
   "cell_type": "markdown",
   "metadata": {
    "hidden": true,
    "solution2": "hidden",
    "solution2_first": true
   },
   "source": [
    "* All quotes after 15:00:00 have been invalidated by a bug in the system in the `L` exchange. Remove them from the `quote` table."
   ]
  },
  {
   "cell_type": "code",
   "execution_count": null,
   "metadata": {
    "hidden": true,
    "solution2": "hidden"
   },
   "outputs": [],
   "source": [
    "delete from quote where exchange=`L, time>15:00:00"
   ]
  },
  {
   "cell_type": "code",
   "execution_count": null,
   "metadata": {
    "hidden": true
   },
   "outputs": [],
   "source": [
    "// your answer here"
   ]
  }
 ],
 "metadata": {
  "kernelspec": {
   "display_name": "Python 3 (ipykernel)",
   "language": "python",
   "name": "python3"
  },
  "language_info": {
   "codemirror_mode": {
    "name": "ipython",
    "version": 3
   },
   "file_extension": ".py",
   "mimetype": "text/x-python",
   "name": "python",
   "nbconvert_exporter": "python",
   "pygments_lexer": "ipython3",
   "version": "3.11.10"
  },
  "toc": {
   "base_numbering": 1,
   "nav_menu": {},
   "number_sections": true,
   "sideBar": true,
   "skip_h1_title": false,
   "title_cell": "Table of Contents",
   "title_sidebar": "Contents",
   "toc_cell": false,
   "toc_position": {},
   "toc_section_display": true,
   "toc_window_display": false
  }
 },
 "nbformat": 4,
 "nbformat_minor": 2
}