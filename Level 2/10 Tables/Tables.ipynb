{
 "cells": [
  {
   "cell_type": "code",
   "metadata": {
    "autorun": true,
    "editable": false,
    "tags": [
     "remove-cell"
    ],
    "jupyter": {
     "source_hidden": true,
     "outputs_hidden": true
    },
    "collapsed": true
   },
   "source": [
    "#;.pykx.disableJupyter()"
   ]
  },
  {
   "cell_type": "code",
   "metadata": {
    "autorun": true,
    "editable": false,
    "tags": [
     "remove-cell"
    ],
    "jupyter": {
     "source_hidden": true,
     "outputs_hidden": true
    },
    "collapsed": true
   },
   "source": [
    "# https://code.kx.com/pykx/3.0/examples/jupyter-integration.html#q-first-mode\n",
    "import pykx as kx\n",
    "kx.util.jupyter_qfirst_enable()"
   ]
  },
  {
   "cell_type": "markdown",
   "metadata": {
    "heading_collapsed": true
   },
   "source": [
    "##### Initialization"
   ]
  },
  {
   "cell_type": "code",
   "execution_count": null,
   "metadata": {
    "hidden": true
   },
   "outputs": [],
   "source": [
    "example:([]a:1 2 3;b: `mini`example`table);\n",
    "keyedExample:([b:`mini`keyed`example]a: 1 2 3);\n",
    "complexTab:([]c:(1 2;3 4;5 6);d: `more`complex`table)"
   ]
  },
  {
   "cell_type": "markdown",
   "metadata": {
    "heading_collapsed": true
   },
   "source": [
    "# Tables\n",
    "\n",
    "\n",
    "**Learning Outcomes**\n",
    "\n",
    "To understand: \n",
    "* How to investigate and identify a table\n",
    "* The two types of table\n",
    "* How to create a table\n",
    "* Accessing tables\n",
    "* How to insert data into a table"
   ]
  },
  {
   "cell_type": "markdown",
   "metadata": {
    "heading_collapsed": true
   },
   "source": [
    "# Introduction\n",
    "\n",
    "Unsurprisingly, [tables](https://code.kx.com/q4m3/8_Tables/) form the core of Kx technology and much of what we've learned up to now has been building up to tables. Tables are the **most important** data structures in kdb+ and is where the vast majority of all data in kdb+/q is stored.\n"
   ]
  },
  {
   "cell_type": "markdown",
   "metadata": {
    "heading_collapsed": true,
    "hidden": true
   },
   "source": [
    "## Table discovery \n",
    "Firstly let's look at what tables we have in our workspace:"
   ]
  },
  {
   "cell_type": "code",
   "execution_count": null,
   "metadata": {
    "hidden": true
   },
   "outputs": [],
   "source": [
    "tables[]               //typical usage - default to passing `.\n",
    "tables[`.]~tables[]"
   ]
  },
  {
   "cell_type": "markdown",
   "metadata": {
    "hidden": true
   },
   "source": [
    "We can see how many records our tables have using count: "
   ]
  },
  {
   "cell_type": "code",
   "execution_count": null,
   "metadata": {
    "hidden": true
   },
   "outputs": [],
   "source": [
    "count example \n",
    "count complexTab"
   ]
  },
  {
   "cell_type": "code",
   "execution_count": null,
   "metadata": {
    "hidden": true
   },
   "outputs": [],
   "source": [
    "\\a"
   ]
  },
  {
   "cell_type": "markdown",
   "metadata": {
    "hidden": true
   },
   "source": [
    "To find out the name of the columns of a table, we can apply the keyword [cols](https://code.kx.com/q/ref/cols):"
   ]
  },
  {
   "cell_type": "code",
   "execution_count": null,
   "metadata": {
    "hidden": true
   },
   "outputs": [],
   "source": [
    "cols example           //returns a list of symbols"
   ]
  },
  {
   "cell_type": "markdown",
   "metadata": {
    "hidden": true
   },
   "source": [
    "If we want to return the entire table contents we can do so by calling the table by name."
   ]
  },
  {
   "cell_type": "code",
   "execution_count": null,
   "metadata": {
    "hidden": true
   },
   "outputs": [],
   "source": [
    "example "
   ]
  },
  {
   "cell_type": "code",
   "execution_count": null,
   "metadata": {
    "hidden": true
   },
   "outputs": [],
   "source": [
    "complexTab     //This table is more complex, the first column c is actually a list of lists!"
   ]
  },
  {
   "cell_type": "markdown",
   "metadata": {
    "heading_collapsed": true,
    "hidden": true
   },
   "source": [
    "## Table schema\n",
    "Perhaps the most important information associated with any table is the table metadata - obtained by using the keyword [`meta`](https://code.kx.com/v2/ref/meta).\n",
    "\n",
    "The `meta` command takes a table name as input, and will return a table of available columns and their types and other information. The following columns are produced:\n",
    "\n",
    "- `c`: column name\n",
    "- `t`: column [type](https://code.kx.com/v2/ref/#datatypes)\n",
    "- `f`: [foreign keys](https://code.kx.com/q4m3/8_Tables/#85-foreign-keys-and-virtual-columns)\n",
    "- `a`: [attributes](https://code.kx.com/v2/basics/syntax/#attributes) - any column modifiers applied for performance characteristics \n"
   ]
  },
  {
   "cell_type": "code",
   "execution_count": null,
   "metadata": {
    "hidden": true
   },
   "outputs": [],
   "source": [
    "meta example "
   ]
  },
  {
   "cell_type": "markdown",
   "metadata": {
    "hidden": true
   },
   "source": [
    "The first column `t` includes the type information specified by the char value of the type. If this data is itself comprised of lists of a particular type, this char value will be capitalized - we can see this by looking at our complex table: "
   ]
  },
  {
   "cell_type": "code",
   "execution_count": null,
   "metadata": {
    "hidden": true
   },
   "outputs": [],
   "source": [
    "meta complexTab"
   ]
  },
  {
   "cell_type": "markdown",
   "metadata": {
    "hidden": true,
    "solution2": "hidden",
    "solution2_first": true
   },
   "source": [
    "##### Exercise \n",
    "\n",
    "Inspect the table definition and types for the `keyedExample` table "
   ]
  },
  {
   "cell_type": "code",
   "execution_count": null,
   "metadata": {
    "hidden": true,
    "solution2": "hidden"
   },
   "outputs": [],
   "source": [
    "meta keyedExample"
   ]
  },
  {
   "cell_type": "code",
   "execution_count": null,
   "metadata": {
    "hidden": true
   },
   "outputs": [],
   "source": [
    "//your answer here"
   ]
  },
  {
   "cell_type": "markdown",
   "metadata": {
    "heading_collapsed": true
   },
   "source": [
    "# Types of Tables\n",
    "\n",
    "There are two types of tables in kdb+/q: \n",
    "* Unkeyed tables - simple tables which are just lists of records\n",
    "* Keyed tables - these are really dictionaries (which present as tables) where we associate a table of keys with a table of records."
   ]
  },
  {
   "cell_type": "markdown",
   "metadata": {
    "heading_collapsed": true,
    "hidden": true
   },
   "source": [
    "## How to identify whether a table is keyed or unkeyed\n",
    "There are two differences that we can use to distinguish - the output in the console and the type. "
   ]
  },
  {
   "cell_type": "code",
   "execution_count": null,
   "metadata": {
    "hidden": true
   },
   "outputs": [],
   "source": [
    "example \n",
    "keyedExample //can see vertical line"
   ]
  },
  {
   "cell_type": "code",
   "execution_count": null,
   "metadata": {
    "hidden": true
   },
   "outputs": [],
   "source": [
    "type example \n",
    "type keyedExample //this is the type of a dictionary"
   ]
  },
  {
   "cell_type": "markdown",
   "metadata": {
    "heading_collapsed": true,
    "hidden": true
   },
   "source": [
    "## Unkeyed tables\n",
    "\n",
    "\n",
    "An unkeyed table is:\n",
    "\n",
    "* A list of dictionaries - each dictionary is a record in our table\n",
    "* A flipped (transposed) column dictionary \n",
    "* A collection of lists of equal length (called columns) - the values in our column dictionary"
   ]
  },
  {
   "cell_type": "markdown",
   "metadata": {
    "hidden": true
   },
   "source": [
    "###  A table is a list of dictionaries\n",
    "\n",
    "An unkeyed table can be directly queried/modified as if it were a list of dictionaries. "
   ]
  },
  {
   "cell_type": "code",
   "execution_count": null,
   "metadata": {
    "hidden": true
   },
   "outputs": [],
   "source": [
    "example             //our table as defined\n",
    "count example       //the number of records in our table"
   ]
  },
  {
   "cell_type": "code",
   "execution_count": null,
   "metadata": {
    "hidden": true
   },
   "outputs": [],
   "source": [
    "first example           //the first record in our table - it's a dictionary! "
   ]
  },
  {
   "cell_type": "markdown",
   "metadata": {
    "hidden": true,
    "solution2": "hidden",
    "solution2_first": true
   },
   "source": [
    "##### Exercise\n",
    "\n",
    "Return the final row from our `example` table and verify it is in fact a dictionary."
   ]
  },
  {
   "cell_type": "code",
   "execution_count": null,
   "metadata": {
    "hidden": true,
    "solution2": "hidden"
   },
   "outputs": [],
   "source": [
    "last example\n",
    "type last example   //it's a dictionary! \n",
    "\n",
    "//for unkeyed tables we can use indexing too!\n",
    "example 2"
   ]
  },
  {
   "cell_type": "code",
   "execution_count": null,
   "metadata": {
    "hidden": true
   },
   "outputs": [],
   "source": [
    "//your answer here"
   ]
  },
  {
   "cell_type": "markdown",
   "metadata": {
    "hidden": true
   },
   "source": [
    "### A table is a flipped column dictionary\n",
    "\n",
    "Since kdb+/q works in vector based fashion, each column in the table is treated as a large vector which is associated with that column name. "
   ]
  },
  {
   "cell_type": "code",
   "execution_count": null,
   "metadata": {
    "hidden": true
   },
   "outputs": [],
   "source": [
    "show d:flip example     //d is a column dictionary i.e. values are lists of equal length\n",
    "                           //and the dictionary keys are symbols  "
   ]
  },
  {
   "cell_type": "markdown",
   "metadata": {
    "hidden": true
   },
   "source": [
    "This new variable `d` is just a standard dictionary;"
   ]
  },
  {
   "cell_type": "code",
   "execution_count": null,
   "metadata": {
    "hidden": true
   },
   "outputs": [],
   "source": [
    "d`b               //We can index keys like any dictionary\n",
    "d[`b;0 1]         //Index at depth"
   ]
  },
  {
   "cell_type": "code",
   "execution_count": null,
   "metadata": {
    "hidden": true
   },
   "outputs": [],
   "source": [
    "d[`a;0 1]*:2;      //Amend items\n",
    "d                  //Notice the change"
   ]
  },
  {
   "cell_type": "code",
   "execution_count": null,
   "metadata": {
    "hidden": true
   },
   "outputs": [],
   "source": [
    "flip d             //We can use flip to turn this back to a table"
   ]
  },
  {
   "cell_type": "markdown",
   "metadata": {
    "hidden": true
   },
   "source": [
    "### A table is a collection of lists of equal length (called columns)\n",
    "\n",
    "We have mentioned that kdb+/q treats each column within a table as a vector and to form a table we require each of the columns to be an equal length.  "
   ]
  },
  {
   "cell_type": "code",
   "execution_count": null,
   "metadata": {
    "hidden": true
   },
   "outputs": [],
   "source": [
    "example `a          //We can extract a column list with lookup notation similar to dictionaries - example[`a]\n",
    "example`a`b         //We can extract multiple columns"
   ]
  },
  {
   "cell_type": "markdown",
   "metadata": {
    "hidden": true,
    "solution2": "hidden",
    "solution2_first": true
   },
   "source": [
    "##### Exercise\n",
    "\n",
    "Create a new column `c:3.14 2.72 299792458` in our `example` table, using dictionary assignment syntax."
   ]
  },
  {
   "cell_type": "code",
   "execution_count": null,
   "metadata": {
    "hidden": true,
    "solution2": "hidden"
   },
   "outputs": [],
   "source": [
    "example[`c]: 3.14 2.72 299792458  //creating a new column and assigning \n",
    "example"
   ]
  },
  {
   "cell_type": "code",
   "execution_count": null,
   "metadata": {
    "hidden": true
   },
   "outputs": [],
   "source": [
    "//your answer here"
   ]
  },
  {
   "cell_type": "markdown",
   "metadata": {
    "heading_collapsed": true,
    "hidden": true
   },
   "source": [
    "## Keyed tables\n",
    "\n",
    "A keyed table is a special form of a dictionary where the key and value are both tables. We can extract the keys and values using the inbuilt operators, [key](https://code.kx.com/q/ref/key/) and [value](https://code.kx.com/q/ref/value/), just like we did with dictionaries. "
   ]
  },
  {
   "cell_type": "code",
   "execution_count": null,
   "metadata": {
    "hidden": true
   },
   "outputs": [],
   "source": [
    "keyedExample "
   ]
  },
  {
   "cell_type": "code",
   "execution_count": null,
   "metadata": {
    "hidden": true
   },
   "outputs": [],
   "source": [
    "key keyedExample "
   ]
  },
  {
   "cell_type": "code",
   "execution_count": null,
   "metadata": {
    "hidden": true
   },
   "outputs": [],
   "source": [
    "value keyedExample"
   ]
  },
  {
   "cell_type": "markdown",
   "metadata": {
    "hidden": true
   },
   "source": [
    "We can actually make a keyed table (table to table dictionary) explicitly using the `!` keyword with two unkeyed tables of equal length:"
   ]
  },
  {
   "cell_type": "code",
   "execution_count": null,
   "metadata": {
    "hidden": true
   },
   "outputs": [],
   "source": [
    "example!complexTab //result is a keyed table "
   ]
  },
  {
   "cell_type": "markdown",
   "metadata": {
    "hidden": true
   },
   "source": [
    "### Differences from unkeyed tables"
   ]
  },
  {
   "cell_type": "markdown",
   "metadata": {
    "hidden": true
   },
   "source": [
    "With keyed tables, we will see that the operations we tried for unkeyed tables will return different values: "
   ]
  },
  {
   "cell_type": "code",
   "execution_count": null,
   "metadata": {
    "hidden": true
   },
   "outputs": [],
   "source": [
    "keyedExample\n",
    "first keyedExample //returns dictionary association of our keyed tables \"value\" table\n",
    "first value keyedExample\n",
    "first[keyedExample]~first value keyedExample"
   ]
  },
  {
   "cell_type": "markdown",
   "metadata": {
    "hidden": true
   },
   "source": [
    "We can also see that attempting to retrieve the columns by name as we did with unkeyed tables does not work either: "
   ]
  },
  {
   "cell_type": "code",
   "execution_count": null,
   "metadata": {
    "hidden": true
   },
   "outputs": [],
   "source": [
    "keyedExample[`b]"
   ]
  },
  {
   "cell_type": "markdown",
   "metadata": {
    "hidden": true
   },
   "source": [
    "When we attempt a dictionary lookup in our table, it is performed with reference to the dictionary key and like standard dictionaries, when the value is not found a null value is returned. "
   ]
  },
  {
   "cell_type": "code",
   "execution_count": null,
   "metadata": {
    "hidden": true
   },
   "outputs": [],
   "source": [
    "key keyedExample      //what are the keys of our table\n",
    "keyedExample[`mini]   //using a key value to return the associated \"value table\" values \n",
    "keyedExample[`large]  //using a key that does not exist"
   ]
  },
  {
   "cell_type": "markdown",
   "metadata": {
    "hidden": true
   },
   "source": [
    "When we pass an associated key value our data is returned - further detail in later sections."
   ]
  },
  {
   "cell_type": "markdown",
   "metadata": {
    "heading_collapsed": true,
    "hidden": true
   },
   "source": [
    "## Keying and unkeying a table \n"
   ]
  },
  {
   "cell_type": "markdown",
   "metadata": {
    "hidden": true
   },
   "source": [
    "It is possible to convert dynamically between an unkeyed table having a column of potential key values and the corresponding keyed table using the keyword [xkey](https://code.kx.com/q/ref/keys/)."
   ]
  },
  {
   "cell_type": "code",
   "execution_count": null,
   "metadata": {
    "hidden": true
   },
   "outputs": [],
   "source": [
    "`a xkey example    "
   ]
  },
  {
   "cell_type": "markdown",
   "metadata": {
    "hidden": true
   },
   "source": [
    "We can use this with our already keyed table also:"
   ]
  },
  {
   "cell_type": "code",
   "execution_count": null,
   "metadata": {
    "hidden": true
   },
   "outputs": [],
   "source": [
    "keyedExample\n",
    "newKeyed:`a xkey keyedExample   //changing our key to be the column `a instead \n",
    "newKeyed"
   ]
  },
  {
   "cell_type": "code",
   "execution_count": null,
   "metadata": {
    "hidden": true
   },
   "outputs": [],
   "source": [
    "newKeyed[3]    //Now the key has changed, we use our a values for retrieval"
   ]
  },
  {
   "cell_type": "markdown",
   "metadata": {
    "hidden": true
   },
   "source": [
    "##### Exercise \n",
    "The below will throw an error - do you know why? "
   ]
  },
  {
   "cell_type": "code",
   "execution_count": null,
   "metadata": {
    "hidden": true,
    "solution2": "hidden",
    "solution2_first": true
   },
   "outputs": [],
   "source": [
    "newKeyed[`mini]            "
   ]
  },
  {
   "cell_type": "markdown",
   "metadata": {
    "hidden": true,
    "solution2": "hidden"
   },
   "source": [
    "The reason for the error is that our key is no longer the value for the `b` column as we used before. Since our new key is `a` and this column has a type of long, passing a symbol value for retrieval will throw a `'type` error. If in doubt, checking the `meta` for types is very helpful."
   ]
  },
  {
   "cell_type": "markdown",
   "metadata": {
    "hidden": true
   },
   "source": [
    "To convert a keyed table back to a regular unkeyed table, we can also use `xkey` with an empty general list as the left operand."
   ]
  },
  {
   "cell_type": "code",
   "execution_count": null,
   "metadata": {
    "hidden": true
   },
   "outputs": [],
   "source": [
    "() xkey keyedExample"
   ]
  },
  {
   "cell_type": "markdown",
   "metadata": {
    "hidden": true
   },
   "source": [
    " ##### The Bang (`!`) operator \n",
    "There is another operator we can use to change the keys on a table - there is an overload of the `!` operator referred to as [unkey](https://code.kx.com/q/ref/enkey/#unkey) which will remove or add keys to a table."
   ]
  },
  {
   "cell_type": "code",
   "execution_count": null,
   "metadata": {
    "hidden": true
   },
   "outputs": [],
   "source": [
    "0!keyedExample        //Here the 0 means use 0 of the columns to key the table"
   ]
  },
  {
   "cell_type": "markdown",
   "metadata": {
    "hidden": true,
    "solution2": "hidden",
    "solution2_first": true
   },
   "source": [
    "##### Exercise \n",
    "\n",
    "Create a table called `bigExample` which combines the `example` and `complexTab` table to have the column order <code>`c`d`a`b c</code>. This table should be unkeyed. \n",
    "\n",
    "Note: there are many different ways of doing this"
   ]
  },
  {
   "cell_type": "code",
   "execution_count": null,
   "metadata": {
    "hidden": true,
    "solution2": "hidden"
   },
   "outputs": [],
   "source": [
    "show bigExample: 0!complexTab!example"
   ]
  },
  {
   "cell_type": "code",
   "execution_count": null,
   "metadata": {
    "hidden": true
   },
   "outputs": [],
   "source": [
    "//your answer here"
   ]
  },
  {
   "cell_type": "markdown",
   "metadata": {
    "heading_collapsed": true
   },
   "source": [
    "# Creating tables\n",
    "The syntax to create a table is as follows:\n",
    "\n",
    "` ([kcolname1:klist1;...;kcolnameM:klistM] colname1:list1;...;colnameN:listN) `\n",
    "\n",
    "where:\n",
    "+ `kcolname1` ... `kcolnameM` are the names of the key columns\n",
    "+ `klist1` ... `klistM` are the lists of key values associated with the respective key column\n",
    "+ `colname1` ... `colnameN` are the column names \n",
    "+ `list1` ... `listN` are the lists of values associated with the respective column and all lists are of equal length."
   ]
  },
  {
   "cell_type": "markdown",
   "metadata": {
    "heading_collapsed": true,
    "hidden": true
   },
   "source": [
    "## Unkeyed Tables\n",
    "For now, let's say that an unkeyed table is a table that doesn't have a primary key associated with it.\n"
   ]
  },
  {
   "cell_type": "markdown",
   "metadata": {
    "hidden": true
   },
   "source": [
    "### Creating a table with existing data  "
   ]
  },
  {
   "cell_type": "code",
   "execution_count": null,
   "metadata": {
    "hidden": true
   },
   "outputs": [],
   "source": [
    "show trade:([]sym:`JPM`IBM`BP;size:100 25 54;price:3.45 5.21 6.33)"
   ]
  },
  {
   "cell_type": "markdown",
   "metadata": {
    "hidden": true
   },
   "source": [
    "If there is a mix of atomic and list values kdb+/q will handle this in the same way it handles operations like addition and will fill the column accordingly with the atomic value:  "
   ]
  },
  {
   "cell_type": "code",
   "execution_count": null,
   "metadata": {
    "hidden": true
   },
   "outputs": [],
   "source": [
    "show trade:([]sym:`JPM`IBM`BP;size:100 25 54;price:3.45 5.21 6.33;ex:`NYSE)"
   ]
  },
  {
   "cell_type": "markdown",
   "metadata": {
    "hidden": true
   },
   "source": [
    "However, we can only do this when not all the values are atomic - if they all are it will throw an error as the table definition syntax requires lists in at least some columns"
   ]
  },
  {
   "cell_type": "code",
   "execution_count": null,
   "metadata": {
    "hidden": true
   },
   "outputs": [],
   "source": [
    "([]sym:`JPM;size:100;price:3.45) //error"
   ]
  },
  {
   "cell_type": "code",
   "execution_count": null,
   "metadata": {
    "hidden": true
   },
   "outputs": [],
   "source": [
    "([]sym:enlist[`JPM];size:enlist[100];price:enlist[3.45])  //if we make our atoms lists we can define a single row"
   ]
  },
  {
   "cell_type": "markdown",
   "metadata": {
    "hidden": true
   },
   "source": [
    "### Creating an empty table\n",
    "Below is a simple definition of an empty table with column names and empty lists. "
   ]
  },
  {
   "cell_type": "code",
   "execution_count": null,
   "metadata": {
    "hidden": true
   },
   "outputs": [],
   "source": [
    "show emptyTrade:([]sym:();size:();price:())\n",
    "// horizontal lines are the signature in the display of a table"
   ]
  },
  {
   "cell_type": "code",
   "execution_count": null,
   "metadata": {
    "hidden": true
   },
   "outputs": [],
   "source": [
    "meta emptyTrade    //we have no type information as we only used general lists"
   ]
  },
  {
   "cell_type": "markdown",
   "metadata": {
    "hidden": true
   },
   "source": [
    "We can also specify the type that we want each list to be associated with by typing the lists when defining:"
   ]
  },
  {
   "cell_type": "code",
   "execution_count": null,
   "metadata": {
    "hidden": true
   },
   "outputs": [],
   "source": [
    "show emptyTradeTyped:([]sym:`$();size:`long$();price:`float$())\n",
    "meta emptyTradeTyped"
   ]
  },
  {
   "cell_type": "markdown",
   "metadata": {
    "heading_collapsed": true,
    "hidden": true
   },
   "source": [
    "## Keyed Tables\n",
    "\n",
    "When defining a table, placing column(s) in the square brackets indicates a key:"
   ]
  },
  {
   "cell_type": "code",
   "execution_count": null,
   "metadata": {
    "hidden": true
   },
   "outputs": [],
   "source": [
    "show trade:([]sym:`JPM`IBM`BP;size:100 25 54;price:3.45 5.21 6.33)   // unkeyed table"
   ]
  },
  {
   "cell_type": "code",
   "execution_count": null,
   "metadata": {
    "hidden": true
   },
   "outputs": [],
   "source": [
    "show tradeKeyed:([sym:`JPM`IBM`BP]size:100 25 54;price:3.45 5.21 6.33)   // table keyed on sym"
   ]
  },
  {
   "cell_type": "markdown",
   "metadata": {
    "hidden": true,
    "solution2": "hidden",
    "solution2_first": true
   },
   "source": [
    "##### Exercise \n",
    "Create a table `quote` that looks like this:\n",
    "\n",
    "|Time|sym|bid|ask|\n",
    "|---|---|---|---|\n",
    "|2020.04.16D09:30:00.0000|GE|100|25|\n",
    "|2020.04.16D09:31:00.0000|GE|100|25|\n",
    "\n",
    "Create another table `quoteKey` that is the same as the above except it is keyed on `sym`. \n",
    "\n",
    "Do so by: \n",
    "*  Explicit table definition \n",
    "*  Modification of the `quote` table\n",
    "\n"
   ]
  },
  {
   "cell_type": "code",
   "execution_count": null,
   "metadata": {
    "hidden": true,
    "solution2": "hidden"
   },
   "outputs": [],
   "source": [
    "show quote:([]time:(2020.04.16D09:30:00.0000;2020.04.16D09:31:00.0000);sym:`GE`GE;bid:(100;100);ask:(25;25))"
   ]
  },
  {
   "cell_type": "code",
   "execution_count": null,
   "metadata": {
    "hidden": true,
    "solution2": "hidden"
   },
   "outputs": [],
   "source": [
    "show quoteKey:([sym:`GE`GE];time:(2020.04.16D09:30:00.0000;2020.04.16D09:31:00.0000);bid:(100;100);ask:(25;25))"
   ]
  },
  {
   "cell_type": "code",
   "execution_count": null,
   "metadata": {
    "hidden": true,
    "solution2": "hidden"
   },
   "outputs": [],
   "source": [
    "//modification of the quote table \n",
    "`sym xkey quote"
   ]
  },
  {
   "cell_type": "code",
   "execution_count": null,
   "metadata": {
    "hidden": true
   },
   "outputs": [],
   "source": [
    "//your answer here"
   ]
  },
  {
   "cell_type": "markdown",
   "metadata": {
    "heading_collapsed": true
   },
   "source": [
    "# Accessing tables\n",
    "We have outlined the differences between the two types of tables, due to their different structures accessing them will also be different. \n",
    "\n",
    "Let's break it down between accessing specific columns and rows."
   ]
  },
  {
   "cell_type": "markdown",
   "metadata": {
    "heading_collapsed": true,
    "hidden": true
   },
   "source": [
    "## Accessing columns\n"
   ]
  },
  {
   "cell_type": "markdown",
   "metadata": {
    "hidden": true
   },
   "source": [
    "### Unkeyed tables\n",
    "There are two notations that allows us to retrieve a column from an unkeyed table: \n",
    "* Back-tick notation (like dictionary retrieval)\n",
    "* Dot notation\n"
   ]
  },
  {
   "cell_type": "code",
   "execution_count": null,
   "metadata": {
    "hidden": true
   },
   "outputs": [],
   "source": [
    "trade[`sym] //retrieving the sym column using backtick notation \n",
    "trade.sym"
   ]
  },
  {
   "cell_type": "markdown",
   "metadata": {
    "hidden": true
   },
   "source": [
    "We can access columns using the dot notation however it's important to know that this applies to the global table. The dot notation should be avoided particuarly within functions, unless you are absolutely clear on what you are doing. "
   ]
  },
  {
   "cell_type": "code",
   "execution_count": null,
   "metadata": {
    "hidden": true
   },
   "outputs": [],
   "source": [
    "sum trade.size           //works fine"
   ]
  },
  {
   "cell_type": "code",
   "execution_count": null,
   "metadata": {
    "hidden": true
   },
   "outputs": [],
   "source": [
    "getSumSizes:{sum x.size}  //write a function that does the same\n",
    "getSumSizes trade         //q does not like this - it looks for a global x!"
   ]
  },
  {
   "cell_type": "markdown",
   "metadata": {
    "hidden": true
   },
   "source": [
    "However, if we use the back-tick notation we don't encounter the same issue: "
   ]
  },
  {
   "cell_type": "code",
   "execution_count": null,
   "metadata": {
    "hidden": true
   },
   "outputs": [],
   "source": [
    "getSumSizes:{sum x`size};   //changed to use ` notation\n",
    "getSumSizes trade           //this works"
   ]
  },
  {
   "cell_type": "markdown",
   "metadata": {
    "hidden": true,
    "solution2": "hidden",
    "solution2_first": true
   },
   "source": [
    "##### Exercise \n",
    "\n",
    "Extract the columns bid and ask from our `quote` table: "
   ]
  },
  {
   "cell_type": "code",
   "execution_count": null,
   "metadata": {
    "hidden": true,
    "solution2": "hidden"
   },
   "outputs": [],
   "source": [
    "quote\n",
    "quote[`bid`ask]             //we can specify both together"
   ]
  },
  {
   "cell_type": "code",
   "execution_count": null,
   "metadata": {
    "hidden": true
   },
   "outputs": [],
   "source": [
    "//your answer here"
   ]
  },
  {
   "cell_type": "markdown",
   "metadata": {
    "hidden": true
   },
   "source": [
    "### Keyed tables\n",
    "As keyed tables are like dictionaries, we need to access them using the same methods as we used on dictionaries. "
   ]
  },
  {
   "cell_type": "code",
   "execution_count": null,
   "metadata": {
    "hidden": true
   },
   "outputs": [],
   "source": [
    "tradeKey:([sym:`JPM`IBM`KX]size:10 20 30;price:1 2 3)\n",
    "tradeKey"
   ]
  },
  {
   "cell_type": "code",
   "execution_count": null,
   "metadata": {
    "hidden": true
   },
   "outputs": [],
   "source": [
    "key tradeKey  //will return the sym column as a table\n",
    "(key tradeKey)[`sym] //indexing into the table to return the values of the column sym"
   ]
  },
  {
   "cell_type": "markdown",
   "metadata": {
    "hidden": true
   },
   "source": [
    "We can do the same operation on the value columns that are contained in the `tradeKey` table"
   ]
  },
  {
   "cell_type": "code",
   "execution_count": null,
   "metadata": {
    "hidden": true
   },
   "outputs": [],
   "source": [
    "(value tradeKey)[`size]\n",
    "(value tradeKey)[`price]"
   ]
  },
  {
   "cell_type": "markdown",
   "metadata": {
    "hidden": true
   },
   "source": [
    "<img src=\"../qbies.png\" width=\"50px\" style=\"width: 50px;padding-right:5px;padding-top:12px;padding-left:5px;\" align=\"left\"/>\n",
    "\n",
    "<p style='color:#273a6e'><i> Keyed tables are accessed via their key, so  can't use the dot or back-tick notation like we did before with unkeyed tables. We will see the <code>exec</code> command in the Queries section will also allow us to access columns in a table.</i></p>\n",
    "\n"
   ]
  },
  {
   "cell_type": "markdown",
   "metadata": {
    "hidden": true
   },
   "source": [
    "Another option would be to remove the key on the table and then access the column from the unkeyed table. Let's check out which method is more performant:"
   ]
  },
  {
   "cell_type": "code",
   "execution_count": null,
   "metadata": {
    "hidden": true
   },
   "outputs": [],
   "source": [
    "//unkey then access \n",
    "\\ts:100000  (0! tradeKey)[`size]\n",
    "//access via value table - the most space performant as we're subsetting the full table \n",
    "  //to just the value table in our keyed table\n",
    "\\ts:100000  (value tradeKey)[`size]\n",
    "//access via exec - this is the most time performant \n",
    "\\ts:100000 exec size from tradeKey    "
   ]
  },
  {
   "cell_type": "markdown",
   "metadata": {
    "heading_collapsed": true,
    "hidden": true
   },
   "source": [
    "## Accessing rows"
   ]
  },
  {
   "cell_type": "markdown",
   "metadata": {
    "hidden": true
   },
   "source": [
    "### Unkeyed tables\n",
    "\n",
    "As unkeyed tables are lists of dictionaries, we can use list indexing to retrieve a particular row. "
   ]
  },
  {
   "cell_type": "code",
   "execution_count": null,
   "metadata": {
    "hidden": true
   },
   "outputs": [],
   "source": [
    "trade\n",
    "trade 1    //retrieving the second "
   ]
  },
  {
   "cell_type": "markdown",
   "metadata": {
    "hidden": true
   },
   "source": [
    "Similar to lists again, we can also use [#](https://code.kx.com/q/ref/take/) to get a subset of the rows:"
   ]
  },
  {
   "cell_type": "code",
   "execution_count": null,
   "metadata": {
    "hidden": true
   },
   "outputs": [],
   "source": [
    "3#1 2 3 4 5 //selecting the first 3 entries of the list\n",
    "2#trade    //selecting the first 2 entries of the trade table\n",
    "-2#trade    //selecting the last 2 entries of the trade table"
   ]
  },
  {
   "cell_type": "markdown",
   "metadata": {
    "hidden": true
   },
   "source": [
    "### Keyed table\n",
    "Like all dictionaries, a keyed table is accessed by key:"
   ]
  },
  {
   "cell_type": "code",
   "execution_count": null,
   "metadata": {
    "hidden": true
   },
   "outputs": [],
   "source": [
    "tradeKey \n",
    "tradeKey`JPM       //retrieve the row at that key - here the key is like the index"
   ]
  },
  {
   "cell_type": "markdown",
   "metadata": {
    "hidden": true
   },
   "source": [
    "If we wanted to retrieve more than one value we can't operate in the same way as a standard dictionary and just provide a list of keys: "
   ]
  },
  {
   "cell_type": "code",
   "execution_count": null,
   "metadata": {
    "hidden": true
   },
   "outputs": [],
   "source": [
    "tradeKey[`JPM`BP]  //try retrieve value for multiple keys"
   ]
  },
  {
   "cell_type": "markdown",
   "metadata": {
    "hidden": true
   },
   "source": [
    "If we want to return many values we need to supply our inputs like a table:"
   ]
  },
  {
   "cell_type": "code",
   "execution_count": null,
   "metadata": {
    "hidden": true
   },
   "outputs": [],
   "source": [
    "tradeKey[([]sym:`BP`IBM)] //BP doesn't exist in table therefore returning nulls for that sym"
   ]
  },
  {
   "cell_type": "markdown",
   "metadata": {
    "hidden": true,
    "solution2": "hidden",
    "solution2_first": true
   },
   "source": [
    "##### Exercise \n",
    "\n",
    "Update our `tradeKey` table to change the values for IBM to have a size of 40 and a price of 10."
   ]
  },
  {
   "cell_type": "code",
   "execution_count": null,
   "metadata": {
    "hidden": true,
    "solution2": "hidden"
   },
   "outputs": [],
   "source": [
    "tradeKey[`IBM]: 40 10 //indexing into the row correponding to the IBM key \n",
    "                        //reassigning the values to 40 and 10\n",
    "tradeKey"
   ]
  },
  {
   "cell_type": "code",
   "execution_count": null,
   "metadata": {
    "hidden": true
   },
   "outputs": [],
   "source": [
    "//your answer here"
   ]
  },
  {
   "cell_type": "markdown",
   "metadata": {
    "heading_collapsed": true,
    "hidden": true
   },
   "source": [
    "## Accessing a particular cell "
   ]
  },
  {
   "cell_type": "markdown",
   "metadata": {
    "hidden": true
   },
   "source": [
    "Putting this all together, we can continue to elide index into our tables to access particular cells. "
   ]
  },
  {
   "cell_type": "code",
   "execution_count": null,
   "metadata": {
    "hidden": true
   },
   "outputs": [],
   "source": [
    "//unkeyed table \n",
    "trade\n",
    "//keyed table \n",
    "tradeKey"
   ]
  },
  {
   "cell_type": "markdown",
   "metadata": {
    "hidden": true
   },
   "source": [
    "Let's suppose in both instances we want to return the size values for JPM and IBM: "
   ]
  },
  {
   "cell_type": "code",
   "execution_count": null,
   "metadata": {
    "hidden": true
   },
   "outputs": [],
   "source": [
    "//unkeyed table - first index by row, then by column\n",
    "trade[0 1;`size]\n",
    "//OR - first index by column, then by row\n",
    "trade[`size][0 1]  \n",
    "\n",
    "//Keyed table - first index by key, then by column \n",
    "tradeKey[([]sym: `JPM`IBM);`size]"
   ]
  },
  {
   "cell_type": "markdown",
   "metadata": {
    "hidden": true
   },
   "source": [
    "If we want to modify the size values for JPM and IBM to be 50 and 70 respectively we can do so via reassignment: "
   ]
  },
  {
   "cell_type": "code",
   "execution_count": null,
   "metadata": {
    "hidden": true
   },
   "outputs": [],
   "source": [
    "//unkeyed \n",
    "trade[0 1;`size]: 50 70 \n",
    "trade "
   ]
  },
  {
   "cell_type": "code",
   "execution_count": null,
   "metadata": {
    "hidden": true
   },
   "outputs": [],
   "source": [
    "//keyed \n",
    "tradeKey[([]sym: `JPM`IBM);`size]: 50 70 \n",
    "tradeKey"
   ]
  },
  {
   "cell_type": "markdown",
   "metadata": {
    "hidden": true,
    "solution2": "hidden",
    "solution2_first": true
   },
   "source": [
    "##### Exercise\n",
    "\n",
    "Amend the second row of our `example` table to change our column value for `b` to `exercise` and for `a` to 15."
   ]
  },
  {
   "cell_type": "code",
   "execution_count": null,
   "metadata": {
    "hidden": true,
    "solution2": "hidden"
   },
   "outputs": [],
   "source": [
    "example \n",
    "\n",
    "//we can do this individually: \n",
    "example[1;`a]: 15\n",
    "example[1;`b]: `exercise\n",
    "\n",
    "//or we can do them both together \n",
    "example[1;`a`b]:(15;`exercise)   \n",
    "\n",
    "//either method is fine!\n",
    "example"
   ]
  },
  {
   "cell_type": "code",
   "execution_count": null,
   "metadata": {
    "hidden": true
   },
   "outputs": [],
   "source": [
    "//your answer here"
   ]
  },
  {
   "cell_type": "markdown",
   "metadata": {
    "heading_collapsed": true
   },
   "source": [
    "# Inserting Data \n",
    "There are many ways to insert data into a table. The two simplest methods involve using the built-in functions\n",
    "* [insert](https://code.kx.com/q/ref/insert/) \n",
    "* [upsert](https://code.kx.com/q/ref/upsert/)"
   ]
  },
  {
   "cell_type": "markdown",
   "metadata": {
    "heading_collapsed": true,
    "hidden": true
   },
   "source": [
    "## Insert\n",
    "The insert function is used to append data to a table. The syntax is:\n",
    "\n",
    "    `tableName insert data"
   ]
  },
  {
   "cell_type": "markdown",
   "metadata": {
    "hidden": true
   },
   "source": [
    "<img src=\"../qbies.png\" width=\"50px\" style=\"width: 50px;padding-right:5px;padding-top:2px;padding-left:5px;\" align=\"left\"/>\n",
    "\n",
    "<p style='color:#273a6e'><i>Insert <b>requires</b> persistence of the inserted data, otherwise it will error - hence the use of the <code>`</code> to amend the table globally by reference. </i></p>"
   ]
  },
  {
   "cell_type": "markdown",
   "metadata": {
    "hidden": true
   },
   "source": [
    "### Unkeyed tables\n",
    "Let's take an empty table for this example and try to append some data to it using `insert`:"
   ]
  },
  {
   "cell_type": "code",
   "execution_count": null,
   "metadata": {
    "hidden": true
   },
   "outputs": [],
   "source": [
    "show trade:([]sym:`$();size:`long$();price:`float$()) // Creating an empty table\n",
    "meta trade"
   ]
  },
  {
   "cell_type": "code",
   "execution_count": null,
   "metadata": {
    "hidden": true
   },
   "outputs": [],
   "source": [
    "`trade insert(`BP;100;12.44) \n",
    "//insert returns the index/indices that the data has been inserted into"
   ]
  },
  {
   "cell_type": "code",
   "execution_count": null,
   "metadata": {
    "hidden": true
   },
   "outputs": [],
   "source": [
    "trade insert (`BP;100;12.44) \n",
    "//we get a type error if we try to apply the insert without the global reference"
   ]
  },
  {
   "cell_type": "markdown",
   "metadata": {
    "hidden": true,
    "solution2": "hidden",
    "solution2_first": true
   },
   "source": [
    "##### Exercise\n",
    "\n",
    "Insert a row into your `quote` table. \n",
    "* time:the timestamp right now\n",
    "* sym:`JPM\n",
    "* bid:120\n",
    "* ask:60"
   ]
  },
  {
   "cell_type": "code",
   "execution_count": null,
   "metadata": {
    "hidden": true,
    "solution2": "hidden"
   },
   "outputs": [],
   "source": [
    "quote \n",
    "`quote insert (.z.P;`JPM;120;60)\n",
    "quote"
   ]
  },
  {
   "cell_type": "code",
   "execution_count": null,
   "metadata": {
    "hidden": true
   },
   "outputs": [],
   "source": [
    "//your answer here"
   ]
  },
  {
   "cell_type": "markdown",
   "metadata": {
    "hidden": true
   },
   "source": [
    "We can also use dictionaries with insert:"
   ]
  },
  {
   "cell_type": "code",
   "execution_count": null,
   "metadata": {
    "hidden": true
   },
   "outputs": [],
   "source": [
    "`trade insert `price`sym`size!(12.45;`MSFT;400) //inserting one row using a dictionary\n",
    "trade"
   ]
  },
  {
   "cell_type": "markdown",
   "metadata": {
    "hidden": true
   },
   "source": [
    "### Keyed tables\n",
    "\n",
    "We can use insert in the same way as we have done above with unkeyed tables."
   ]
  },
  {
   "cell_type": "code",
   "execution_count": null,
   "metadata": {
    "hidden": true
   },
   "outputs": [],
   "source": [
    "show tradeKey:([sym:`$()]size:`long$();price:`float$()) //defining table\n",
    "`tradeKey insert(`BP;100;4.33)                          //works fine\n",
    "tradeKey                                                //our row has been added"
   ]
  },
  {
   "cell_type": "code",
   "execution_count": null,
   "metadata": {
    "hidden": true
   },
   "outputs": [],
   "source": [
    "`tradeKey insert `sym`price`size!(`KX;4.55;120)         //using a dictionary instead\n",
    "tradeKey "
   ]
  },
  {
   "cell_type": "markdown",
   "metadata": {
    "hidden": true
   },
   "source": [
    "However, this will throw an error if a record of that key already exists in the table:"
   ]
  },
  {
   "cell_type": "code",
   "execution_count": null,
   "metadata": {
    "hidden": true
   },
   "outputs": [],
   "source": [
    "`tradeKey insert(`BP;200;5.33)                           //insert error"
   ]
  },
  {
   "cell_type": "markdown",
   "metadata": {
    "hidden": true
   },
   "source": [
    "### Bulk inserts\n",
    "\n",
    "In the example above, we have inserted one entry into the trade table. The beauty of `insert` is that we can also perform bulk inserts:"
   ]
  },
  {
   "cell_type": "code",
   "execution_count": null,
   "metadata": {
    "hidden": true
   },
   "outputs": [],
   "source": [
    "// inserting two rows using a list of lists\n",
    "`trade insert(`IBM`AAPL;200 300;15.53 14.39)\n",
    "trade "
   ]
  },
  {
   "cell_type": "markdown",
   "metadata": {
    "hidden": true
   },
   "source": [
    "A drawback when using dictionaries is we can't bulk insert in the same way as we saw with the lists: "
   ]
  },
  {
   "cell_type": "code",
   "execution_count": null,
   "metadata": {
    "hidden": true
   },
   "outputs": [],
   "source": [
    "//inserting two rows using a dictionary\n",
    "`trade insert `sym`size`price!((`MSFT;`JPM);(400;200);(12.45;11.5)) "
   ]
  },
  {
   "cell_type": "markdown",
   "metadata": {
    "hidden": true
   },
   "source": [
    "We can get around that with relative ease by valuing our dictionary: "
   ]
  },
  {
   "cell_type": "code",
   "execution_count": null,
   "metadata": {
    "hidden": true
   },
   "outputs": [],
   "source": [
    "//keys in the dict need to match order of columns in the table\n",
    "`trade insert value `sym`size`price!((`MSFT;`JPM);(400;200);(12.45;11.5)) "
   ]
  },
  {
   "cell_type": "markdown",
   "metadata": {
    "hidden": true
   },
   "source": [
    "Finally, we can also use `insert` with another table with a consistent schema to append the table data to our target table: "
   ]
  },
  {
   "cell_type": "code",
   "execution_count": null,
   "metadata": {
    "hidden": true
   },
   "outputs": [],
   "source": [
    "//flipping our dictionary to a table\n",
    "show tab:flip `sym`size`price!((`KX;`KX);(400;200);(12.45;11.5))\n",
    "`trade insert tab "
   ]
  },
  {
   "cell_type": "code",
   "execution_count": null,
   "metadata": {
    "hidden": true
   },
   "outputs": [],
   "source": [
    "trade"
   ]
  },
  {
   "cell_type": "code",
   "execution_count": null,
   "metadata": {
    "hidden": true
   },
   "outputs": [],
   "source": [
    "`size`price`sym#tab                //reordering our tab table \n",
    "`trade insert `size`price`sym#tab  //we can insert this too \n",
    "trade "
   ]
  },
  {
   "cell_type": "markdown",
   "metadata": {
    "hidden": true
   },
   "source": [
    "By passing tables we can get the benefit of a bulk `insert`, while also getting the benefit of not having to ensure correct ordering on our data columns. In the event of missing columns, null data is used:"
   ]
  },
  {
   "cell_type": "code",
   "execution_count": null,
   "metadata": {
    "hidden": true
   },
   "outputs": [],
   "source": [
    "`sym`size#tab \n",
    "`trade insert `sym`size#tab\n",
    "trade"
   ]
  },
  {
   "cell_type": "markdown",
   "metadata": {
    "hidden": true
   },
   "source": [
    "This also applies to keyed tables, so long as we don't use any keys that are already present in the table: "
   ]
  },
  {
   "cell_type": "code",
   "execution_count": null,
   "metadata": {
    "hidden": true
   },
   "outputs": [],
   "source": [
    "`tradeKey insert flip `sym`size`price!(`FD`CITI;102 10;23.9 211.1)\n",
    "tradeKey"
   ]
  },
  {
   "cell_type": "markdown",
   "metadata": {
    "hidden": true,
    "solution2": "hidden",
    "solution2_first": true
   },
   "source": [
    "##### Exercise\n",
    "\n",
    "Given a `trade` table, use `insert` to add two new rows with the following values: \n",
    "\n",
    "```sym:`GE`MSFT,size:40 60,price:8.12 10.36```"
   ]
  },
  {
   "cell_type": "code",
   "execution_count": null,
   "metadata": {
    "hidden": true,
    "solution2": "hidden"
   },
   "outputs": [],
   "source": [
    "`trade insert (`GE`MSFT;40 60;8.12 10.36) //using a list of lists\n",
    "//or using a dictionary \n",
    "// `trade insert value `sym`size`price!((`GE;`MSFT);(40;60);(8.12;10.36))"
   ]
  },
  {
   "cell_type": "code",
   "execution_count": null,
   "metadata": {
    "hidden": true
   },
   "outputs": [],
   "source": [
    "//your answer here"
   ]
  },
  {
   "cell_type": "markdown",
   "metadata": {
    "heading_collapsed": true,
    "hidden": true
   },
   "source": [
    "## Upsert \n",
    "\n",
    "The upsert template is like `insert`, only `upsert` will work on a table passed either by value or by reference and so is more flexible than `insert`. The syntax is the same as insert:\n",
    "\n",
    "<code>\\`tableName upsert data</code> "
   ]
  },
  {
   "cell_type": "markdown",
   "metadata": {
    "hidden": true
   },
   "source": [
    "### Unkeyed tables\n",
    "All the examples for insert all work the same for `upsert`."
   ]
  },
  {
   "cell_type": "code",
   "execution_count": null,
   "metadata": {
    "hidden": true
   },
   "outputs": [],
   "source": [
    "show trade:([]sym:`$();size:`long$();price:`float$())\n",
    "`trade upsert (`GOOG;230;15.42)            //upserting one row\n",
    "`trade upsert `sym`size`price!(`JPM;300;20.31) //upserting a dictionary \n",
    "trade "
   ]
  },
  {
   "cell_type": "markdown",
   "metadata": {
    "hidden": true
   },
   "source": [
    "When using `upsert` we can both pass-by-name and pass-by-value:"
   ]
  },
  {
   "cell_type": "code",
   "execution_count": null,
   "metadata": {
    "hidden": true
   },
   "outputs": [],
   "source": [
    "trade upsert (`GS;340;30.4)  //we are returned the table with the new data \n",
    "trade                        //we can see the change isn't persisted however "
   ]
  },
  {
   "cell_type": "markdown",
   "metadata": {
    "hidden": true
   },
   "source": [
    "### Keyed tables\n",
    "With a keyed table, `upsert` works in the same way, however, the `upsert` function will **overwrite the key** if it's \n",
    "already present rather than throwing an error. \n"
   ]
  },
  {
   "cell_type": "code",
   "execution_count": null,
   "metadata": {
    "hidden": true
   },
   "outputs": [],
   "source": [
    "tradeKey       //our table from earlier"
   ]
  },
  {
   "cell_type": "code",
   "execution_count": null,
   "metadata": {
    "hidden": true
   },
   "outputs": [],
   "source": [
    "//upserting by reference \n",
    "`tradeKey upsert(`BP;200;5.33)    //upsert returns the table name, not the indices\n",
    "tradeKey                          //row at that key has been updated"
   ]
  },
  {
   "cell_type": "markdown",
   "metadata": {
    "hidden": true
   },
   "source": [
    "A benefit of the pass-by-value effect of `upsert` is we can add new data to our table and assign to a new value while leaving our original table untouched:"
   ]
  },
  {
   "cell_type": "code",
   "execution_count": null,
   "metadata": {
    "hidden": true
   },
   "outputs": [],
   "source": [
    "show tradeKey2: tradeKey upsert(`FD;400;10.13)    //can add new key\n",
    "tradeKey"
   ]
  },
  {
   "cell_type": "markdown",
   "metadata": {
    "hidden": true,
    "solution2": "hidden",
    "solution2_first": true
   },
   "source": [
    "##### Exercise\n",
    "\n",
    "Using the `quoteKey` table that we created in previous exercises, upsert a row with the current time, sym <code>\\`AAPL</code>, bid of 60 and an ask of 200 to the table `quoteKey` and check to see if has been updated. \n",
    "\n",
    "Try upserting it again to see what happens."
   ]
  },
  {
   "cell_type": "code",
   "execution_count": null,
   "metadata": {
    "hidden": true,
    "solution2": "hidden"
   },
   "outputs": [],
   "source": [
    "quoteKey"
   ]
  },
  {
   "cell_type": "code",
   "execution_count": null,
   "metadata": {
    "hidden": true,
    "solution2": "hidden"
   },
   "outputs": [],
   "source": [
    "`quoteKey upsert (`AAPL;.z.p;60;200)\n",
    "quoteKey"
   ]
  },
  {
   "cell_type": "code",
   "execution_count": null,
   "metadata": {
    "hidden": true,
    "solution2": "hidden"
   },
   "outputs": [],
   "source": [
    "`quoteKey upsert (`AAPL;.z.p;60;200) //you will see that the time has changed\n",
    "quoteKey"
   ]
  },
  {
   "cell_type": "code",
   "execution_count": null,
   "metadata": {
    "hidden": true
   },
   "outputs": [],
   "source": [
    "//your answer here"
   ]
  },
  {
   "cell_type": "markdown",
   "metadata": {
    "hidden": true
   },
   "source": [
    "### Bulk upserts "
   ]
  },
  {
   "cell_type": "markdown",
   "metadata": {
    "hidden": true
   },
   "source": [
    "Bulk additions to tables using `upsert` require data to be arranged row-by-row. "
   ]
  },
  {
   "cell_type": "code",
   "execution_count": null,
   "metadata": {
    "hidden": true
   },
   "outputs": [],
   "source": [
    "`trade upsert ((`KX;240;16.71);(`FD;250;17.34)) //upserting bulk\n",
    "//`trade insert (`KX`FD;240 250;16.71 17.34)     reminder - this was the insert syntax "
   ]
  },
  {
   "cell_type": "code",
   "execution_count": null,
   "metadata": {
    "hidden": true
   },
   "outputs": [],
   "source": [
    "trade //showing the new records inserted"
   ]
  },
  {
   "cell_type": "markdown",
   "metadata": {
    "hidden": true
   },
   "source": [
    "As with `insert` we can also use tables as bulk values to be added to our table, along with lists and dictionaries: "
   ]
  },
  {
   "cell_type": "code",
   "execution_count": null,
   "metadata": {
    "hidden": true
   },
   "outputs": [],
   "source": [
    "trade upsert trade    //doubling up our trade table, but not presisting the change"
   ]
  },
  {
   "cell_type": "markdown",
   "metadata": {
    "hidden": true
   },
   "source": [
    "On the plus side, this means that if we want to use a dictionary structure as a means of upserting data, we would need to flip the values to arrange them by row, or alternatively, flip the dictionary into a table: "
   ]
  },
  {
   "cell_type": "code",
   "execution_count": null,
   "metadata": {
    "hidden": true
   },
   "outputs": [],
   "source": [
    "trade upsert flip value `sym`size`price!(`JPM`MS;200 399; 10.2 39.5)  //passing a dictionary\n",
    "trade upsert flip `sym`size`price!(`JPM`MS;200 399; 10.2 39.5)        //passing a table"
   ]
  },
  {
   "cell_type": "markdown",
   "metadata": {
    "hidden": true
   },
   "source": [
    "Again, missing columns will be handled with nulls: "
   ]
  },
  {
   "cell_type": "code",
   "execution_count": null,
   "metadata": {
    "hidden": true
   },
   "outputs": [],
   "source": [
    "//passing a subsetted table\n",
    "trade upsert flip `sym`size#`sym`size`price!(`JPM`MS;200 399; 10.2 39.5)  "
   ]
  },
  {
   "cell_type": "markdown",
   "metadata": {
    "hidden": true,
    "solution2": "hidden",
    "solution2_first": true
   },
   "source": [
    "##### Exercise \n",
    "Given a table defined as follows: \n",
    "\n",
    "``tradeEx:([]sym:`JPM`IBM`BP;size:100 25 54;price:3.45 5.21 6.33)``\n",
    "\n",
    "Use `upsert` to add two new rows with the following values: \n",
    "\n",
    "```sym:`JPM`FD,size:50 50,price:4.76 3.21```"
   ]
  },
  {
   "cell_type": "code",
   "execution_count": null,
   "metadata": {
    "hidden": true,
    "solution2": "hidden"
   },
   "outputs": [],
   "source": [
    "show tradeEx:([]sym:`JPM`IBM`BP;size:100 25 54;price:3.45 5.21 6.33)  //defining our table"
   ]
  },
  {
   "cell_type": "code",
   "execution_count": null,
   "metadata": {
    "hidden": true,
    "solution2": "hidden"
   },
   "outputs": [],
   "source": [
    "tradeEx upsert ([] sym:`JPM`FD;size:50 50;price:4.76 3.21)  //bulk table upsert \n",
    "tradeEx upsert ((`JPM;50;4.76);(`FD;10;3.21))               //list of rows for upsert "
   ]
  },
  {
   "cell_type": "code",
   "execution_count": null,
   "metadata": {
    "hidden": true
   },
   "outputs": [],
   "source": [
    "//your answer here"
   ]
  }
 ],
 "metadata": {
  "kernelspec": {
   "display_name": "Python 3 (ipykernel)",
   "language": "python",
   "name": "python3"
  },
  "language_info": {
   "codemirror_mode": {
    "name": "ipython",
    "version": 3
   },
   "file_extension": ".py",
   "mimetype": "text/x-python",
   "name": "python",
   "nbconvert_exporter": "python",
   "pygments_lexer": "ipython3",
   "version": "3.11.10"
  },
  "toc": {
   "base_numbering": 1,
   "nav_menu": {},
   "number_sections": true,
   "sideBar": true,
   "skip_h1_title": false,
   "title_cell": "Table of Contents",
   "title_sidebar": "Contents",
   "toc_cell": false,
   "toc_position": {
    "height": "calc(100% - 180px)",
    "left": "10px",
    "top": "150px",
    "width": "384px"
   },
   "toc_section_display": true,
   "toc_window_display": true
  }
 },
 "nbformat": 4,
 "nbformat_minor": 4
}