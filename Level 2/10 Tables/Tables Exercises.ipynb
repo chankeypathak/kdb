{
 "cells": [
  {
   "cell_type": "code",
   "metadata": {
    "autorun": true,
    "editable": false,
    "tags": [
     "remove-cell"
    ],
    "jupyter": {
     "source_hidden": true,
     "outputs_hidden": true
    },
    "collapsed": true
   },
   "source": [
    "#;.pykx.disableJupyter()"
   ]
  },
  {
   "cell_type": "code",
   "metadata": {
    "autorun": true,
    "editable": false,
    "tags": [
     "remove-cell"
    ],
    "jupyter": {
     "source_hidden": true,
     "outputs_hidden": true
    },
    "collapsed": true
   },
   "source": [
    "# https://code.kx.com/pykx/3.0/examples/jupyter-integration.html#q-first-mode\n",
    "import pykx as kx\n",
    "kx.util.jupyter_qfirst_enable()"
   ]
  },
  {
   "cell_type": "markdown",
   "metadata": {},
   "source": [
    "# Kx Training: Exercise - Tables"
   ]
  },
  {
   "cell_type": "markdown",
   "metadata": {
    "heading_collapsed": true
   },
   "source": [
    "## Creating tables and investigation"
   ]
  },
  {
   "cell_type": "markdown",
   "metadata": {
    "heading_collapsed": true,
    "hidden": true
   },
   "source": [
    "### Unkeyed Tables"
   ]
  },
  {
   "cell_type": "markdown",
   "metadata": {
    "hidden": true,
    "solution2": "hidden",
    "solution2_first": true
   },
   "source": [
    "* Create a table called `quote` with columns\n",
    "        - sym:`IBM.L`VOD.L`VED.L\n",
    "        - price:50.3 12.1 151.56\n",
    "        - size: 1000 200 60"
   ]
  },
  {
   "cell_type": "code",
   "execution_count": null,
   "metadata": {
    "hidden": true,
    "scrolled": true,
    "solution2": "hidden"
   },
   "outputs": [],
   "source": [
    "quote:([]sym:`IBM.L`VOD.L`VED.L;price:50.3 12.1 151.56;size: 1000 200 60)\n",
    "quote"
   ]
  },
  {
   "cell_type": "code",
   "execution_count": null,
   "metadata": {
    "hidden": true,
    "scrolled": true
   },
   "outputs": [],
   "source": [
    "//your answer here "
   ]
  },
  {
   "cell_type": "markdown",
   "metadata": {
    "hidden": true,
    "solution2": "hidden",
    "solution2_first": true
   },
   "source": [
    "* How can we return the number of rows in this table?"
   ]
  },
  {
   "cell_type": "code",
   "execution_count": null,
   "metadata": {
    "hidden": true,
    "scrolled": true,
    "solution2": "hidden"
   },
   "outputs": [],
   "source": [
    "count quote"
   ]
  },
  {
   "cell_type": "code",
   "execution_count": null,
   "metadata": {
    "hidden": true,
    "scrolled": true
   },
   "outputs": [],
   "source": [
    "//your answer here"
   ]
  },
  {
   "cell_type": "markdown",
   "metadata": {
    "hidden": true,
    "solution2": "hidden",
    "solution2_first": true
   },
   "source": [
    "* What is the type of the table?"
   ]
  },
  {
   "cell_type": "code",
   "execution_count": null,
   "metadata": {
    "hidden": true,
    "scrolled": true,
    "solution2": "hidden"
   },
   "outputs": [],
   "source": [
    "type quote"
   ]
  },
  {
   "cell_type": "code",
   "execution_count": null,
   "metadata": {
    "hidden": true,
    "scrolled": true
   },
   "outputs": [],
   "source": [
    "//your answer here"
   ]
  },
  {
   "cell_type": "markdown",
   "metadata": {
    "hidden": true,
    "solution2": "hidden",
    "solution2_first": true
   },
   "source": [
    "* What command can we use to see the data types of each column of the table?"
   ]
  },
  {
   "cell_type": "code",
   "execution_count": null,
   "metadata": {
    "hidden": true,
    "scrolled": true,
    "solution2": "hidden"
   },
   "outputs": [],
   "source": [
    "meta quote"
   ]
  },
  {
   "cell_type": "code",
   "execution_count": null,
   "metadata": {
    "hidden": true,
    "scrolled": true
   },
   "outputs": [],
   "source": [
    "//your answer here"
   ]
  },
  {
   "cell_type": "markdown",
   "metadata": {
    "heading_collapsed": true,
    "hidden": true
   },
   "source": [
    "### Keyed Tables"
   ]
  },
  {
   "cell_type": "markdown",
   "metadata": {
    "hidden": true,
    "solution2": "hidden",
    "solution2_first": true
   },
   "source": [
    "* Create a keyed table `tradeKey` with the following data:\n",
    "\n",
    "\n",
    "    - id:1001 1002 1003 1004 1005 1006 1007 1008 1009 1010 (key)\n",
    "    - sym:`IBM`GE`JPM`BP`JPM`BP`JPM`ASD`JPM`IBM\n",
    "    - price:79 88 83 74 87 54 95 91 52 89\n",
    "    - size:117 123 112 166 136 137 144 128 120 130\n",
    "    - side:`B`S`B`S`B`S`B`B`S`B\n",
    "\n",
    "Keyed on `id`. Do so using the following methods:\n",
    "\n",
    "- Dictionary of flipped dictionaries (aka tables)\n",
    "- Table definition syntax"
   ]
  },
  {
   "cell_type": "code",
   "execution_count": null,
   "metadata": {
    "hidden": true,
    "scrolled": true,
    "solution2": "hidden"
   },
   "outputs": [],
   "source": [
    "// Dictionary of flipped dictionaries\n",
    "k:flip (enlist `id)!enlist 1001 1002 1003 1004 1005 1006 1007 1008 1009 1010\n",
    "v:flip `sym`price`size`side!(`IBM`GE`JPM`BP`JPM`BP`JPM`ASD`JPM`IBM;\n",
    "                             79 88 83 74 87 54 95 91 52 89;\n",
    "                             117 123 112 166 136 137 144 128 120 130;\n",
    "                             `B`S`B`S`B`S`B`B`S`B)\n",
    "show tradeKey:k!v"
   ]
  },
  {
   "cell_type": "code",
   "execution_count": null,
   "metadata": {
    "hidden": true,
    "scrolled": true,
    "solution2": "hidden"
   },
   "outputs": [],
   "source": [
    "// Table definition syntax\n",
    "tradeKey:([id:1001 1002 1003 1004 1005 1006 1007 1008 1009 1010]\n",
    "        sym:`IBM`GE`JPM`BP`JPM`BP`JPM`ASD`JPM`IBM;\n",
    "        price:iq:79 88 83 74 87 54 95 91 52 89;\n",
    "        size:117 123 112 166 136 137 144 128 120 130;\n",
    "        side:`B`S`B`S`B`S`B`B`S`B)\n",
    "\n",
    "show tradeKey"
   ]
  },
  {
   "cell_type": "code",
   "execution_count": null,
   "metadata": {
    "hidden": true,
    "scrolled": true
   },
   "outputs": [],
   "source": [
    "//your answer here"
   ]
  },
  {
   "cell_type": "markdown",
   "metadata": {
    "hidden": true,
    "solution2": "hidden",
    "solution2_first": true
   },
   "source": [
    "* Confirm that `tradeKey` is a keyed table"
   ]
  },
  {
   "cell_type": "code",
   "execution_count": null,
   "metadata": {
    "hidden": true,
    "scrolled": true,
    "solution2": "hidden"
   },
   "outputs": [],
   "source": [
    "99h~type tradeKey"
   ]
  },
  {
   "cell_type": "code",
   "execution_count": null,
   "metadata": {
    "hidden": true,
    "scrolled": true
   },
   "outputs": [],
   "source": [
    "//your answer here"
   ]
  },
  {
   "cell_type": "markdown",
   "metadata": {
    "hidden": true,
    "solution2": "hidden",
    "solution2_first": true
   },
   "source": [
    "* Extract the keys from the trade table\n"
   ]
  },
  {
   "cell_type": "code",
   "execution_count": null,
   "metadata": {
    "hidden": true,
    "scrolled": true,
    "solution2": "hidden"
   },
   "outputs": [],
   "source": [
    "key tradeKey"
   ]
  },
  {
   "cell_type": "code",
   "execution_count": null,
   "metadata": {
    "hidden": true,
    "scrolled": true
   },
   "outputs": [],
   "source": [
    "//your answer here"
   ]
  },
  {
   "cell_type": "markdown",
   "metadata": {
    "hidden": true,
    "solution2": "hidden",
    "solution2_first": true
   },
   "source": [
    "* Extract the values of the trade table"
   ]
  },
  {
   "cell_type": "code",
   "execution_count": null,
   "metadata": {
    "hidden": true,
    "scrolled": true,
    "solution2": "hidden"
   },
   "outputs": [],
   "source": [
    "value tradeKey"
   ]
  },
  {
   "cell_type": "code",
   "execution_count": null,
   "metadata": {
    "hidden": true,
    "scrolled": true
   },
   "outputs": [],
   "source": [
    "//your answer here"
   ]
  },
  {
   "cell_type": "markdown",
   "metadata": {
    "heading_collapsed": true
   },
   "source": [
    "## Manipulating tables"
   ]
  },
  {
   "cell_type": "markdown",
   "metadata": {
    "heading_collapsed": true,
    "hidden": true
   },
   "source": [
    "### Unkeyed Tables"
   ]
  },
  {
   "cell_type": "markdown",
   "metadata": {
    "hidden": true,
    "solution2": "hidden",
    "solution2_first": true
   },
   "source": [
    "* Return the `quote` table as a dictionary."
   ]
  },
  {
   "cell_type": "code",
   "execution_count": null,
   "metadata": {
    "hidden": true,
    "scrolled": true,
    "solution2": "hidden"
   },
   "outputs": [],
   "source": [
    "flip quote"
   ]
  },
  {
   "cell_type": "code",
   "execution_count": null,
   "metadata": {
    "hidden": true,
    "scrolled": true
   },
   "outputs": [],
   "source": [
    "//your answer here"
   ]
  },
  {
   "cell_type": "markdown",
   "metadata": {
    "hidden": true,
    "solution2": "hidden",
    "solution2_first": true
   },
   "source": [
    "* Use dictionary syntax to return the prices of the `quote` table as a list."
   ]
  },
  {
   "cell_type": "code",
   "execution_count": null,
   "metadata": {
    "hidden": true,
    "scrolled": true,
    "solution2": "hidden"
   },
   "outputs": [],
   "source": [
    "quote `price\n",
    "quote[`price]"
   ]
  },
  {
   "cell_type": "code",
   "execution_count": null,
   "metadata": {
    "hidden": true,
    "scrolled": true
   },
   "outputs": [],
   "source": [
    "//your answer here"
   ]
  },
  {
   "cell_type": "markdown",
   "metadata": {
    "hidden": true,
    "solution2": "hidden",
    "solution2_first": true
   },
   "source": [
    "* Use dot syntax to return the sym column as a list."
   ]
  },
  {
   "cell_type": "code",
   "execution_count": null,
   "metadata": {
    "hidden": true,
    "scrolled": true,
    "solution2": "hidden"
   },
   "outputs": [],
   "source": [
    "quote.sym"
   ]
  },
  {
   "cell_type": "code",
   "execution_count": null,
   "metadata": {
    "hidden": true,
    "scrolled": true
   },
   "outputs": [],
   "source": [
    "//your answer here"
   ]
  },
  {
   "cell_type": "markdown",
   "metadata": {
    "hidden": true,
    "solution2": "hidden",
    "solution2_first": true
   },
   "source": [
    "* Rename the first two columns of the table to SYM and PRICE"
   ]
  },
  {
   "cell_type": "code",
   "execution_count": null,
   "metadata": {
    "hidden": true,
    "scrolled": true,
    "solution2": "hidden"
   },
   "outputs": [],
   "source": [
    "`SYM`PRICE xcol quote"
   ]
  },
  {
   "cell_type": "code",
   "execution_count": null,
   "metadata": {
    "hidden": true,
    "scrolled": true
   },
   "outputs": [],
   "source": [
    "//your answer here"
   ]
  },
  {
   "cell_type": "markdown",
   "metadata": {
    "hidden": true,
    "solution2": "hidden",
    "solution2_first": true
   },
   "source": [
    "* Order the table descending by size"
   ]
  },
  {
   "cell_type": "code",
   "execution_count": null,
   "metadata": {
    "hidden": true,
    "scrolled": true,
    "solution2": "hidden"
   },
   "outputs": [],
   "source": [
    "`size xdesc quote"
   ]
  },
  {
   "cell_type": "code",
   "execution_count": null,
   "metadata": {
    "hidden": true,
    "scrolled": true
   },
   "outputs": [],
   "source": [
    "//your answer here"
   ]
  },
  {
   "cell_type": "markdown",
   "metadata": {
    "hidden": true,
    "solution2": "hidden",
    "solution2_first": true
   },
   "source": [
    "* Reorder the columns so that price and size are the other way round."
   ]
  },
  {
   "cell_type": "code",
   "execution_count": null,
   "metadata": {
    "hidden": true,
    "scrolled": true,
    "solution2": "hidden"
   },
   "outputs": [],
   "source": [
    "`sym`size`price xcols quote  //if you're getting confused between xcol and xcols, it may be helpful to think \n",
    "                                //xcols has an (s) for re-Sorting"
   ]
  },
  {
   "cell_type": "code",
   "execution_count": null,
   "metadata": {
    "hidden": true,
    "scrolled": true
   },
   "outputs": [],
   "source": [
    "//your answer here"
   ]
  },
  {
   "cell_type": "markdown",
   "metadata": {
    "hidden": true,
    "solution2": "hidden",
    "solution2_first": true
   },
   "source": [
    "Consider the two following tables:\n",
    "\n",
    "  \n",
    "  `` t3:([] sym:`a`b`c`d; price:1 2 3 4f;size:100 200 300 400)\n",
    "t4:([] sym:`a`c`f; price:11 3 11f;size:100 300 1000)``\n",
    "    \n",
    "* Retrieve the rows where t3 and t4 are the same"
   ]
  },
  {
   "cell_type": "code",
   "execution_count": null,
   "metadata": {
    "hidden": true,
    "scrolled": true,
    "solution2": "hidden"
   },
   "outputs": [],
   "source": [
    "show t3:([] sym:`a`b`c`d; price:1 2 3 4f;size:100 200 300 400)\n",
    "show t4:([] sym:`a`c`f; price:11 3 11f;size:100 300 1000)\n",
    "t3 where t3 in t4  "
   ]
  },
  {
   "cell_type": "code",
   "execution_count": null,
   "metadata": {
    "hidden": true,
    "scrolled": true,
    "solution2": "hidden"
   },
   "outputs": [],
   "source": [
    "t3 inter t4   //finding the intersection will also work"
   ]
  },
  {
   "cell_type": "code",
   "execution_count": null,
   "metadata": {
    "hidden": true,
    "scrolled": true
   },
   "outputs": [],
   "source": [
    "//your answer here"
   ]
  },
  {
   "cell_type": "markdown",
   "metadata": {
    "hidden": true,
    "solution2": "hidden",
    "solution2_first": true
   },
   "source": [
    "* Retrieve the row indices of t3 which are in t4"
   ]
  },
  {
   "cell_type": "code",
   "execution_count": null,
   "metadata": {
    "hidden": true,
    "scrolled": true,
    "solution2": "hidden"
   },
   "outputs": [],
   "source": [
    "where t3 in t4"
   ]
  },
  {
   "cell_type": "code",
   "execution_count": null,
   "metadata": {
    "hidden": true,
    "scrolled": true
   },
   "outputs": [],
   "source": [
    "//your answer here"
   ]
  },
  {
   "cell_type": "markdown",
   "metadata": {
    "hidden": true,
    "solution2": "hidden",
    "solution2_first": true
   },
   "source": [
    "* Retrieve the union set of t3 and t4"
   ]
  },
  {
   "cell_type": "code",
   "execution_count": null,
   "metadata": {
    "hidden": true,
    "scrolled": true,
    "solution2": "hidden"
   },
   "outputs": [],
   "source": [
    "t3 union t4"
   ]
  },
  {
   "cell_type": "code",
   "execution_count": null,
   "metadata": {
    "hidden": true,
    "scrolled": true
   },
   "outputs": [],
   "source": [
    "//your answer here"
   ]
  },
  {
   "cell_type": "markdown",
   "metadata": {
    "hidden": true,
    "solution2": "hidden",
    "solution2_first": true
   },
   "source": [
    "* Retrieve the rows in t3, except for the ones in t4"
   ]
  },
  {
   "cell_type": "code",
   "execution_count": null,
   "metadata": {
    "hidden": true,
    "scrolled": true,
    "solution2": "hidden"
   },
   "outputs": [],
   "source": [
    "t3 except t4"
   ]
  },
  {
   "cell_type": "code",
   "execution_count": null,
   "metadata": {
    "hidden": true,
    "scrolled": true
   },
   "outputs": [],
   "source": [
    "//your answer here"
   ]
  },
  {
   "cell_type": "markdown",
   "metadata": {
    "heading_collapsed": true,
    "hidden": true
   },
   "source": [
    "### Keyed Tables"
   ]
  },
  {
   "cell_type": "markdown",
   "metadata": {
    "hidden": true,
    "solution2": "hidden",
    "solution2_first": true
   },
   "source": [
    "* Extract the values of the sym column from the `tradeKey` table"
   ]
  },
  {
   "cell_type": "code",
   "execution_count": null,
   "metadata": {
    "hidden": true,
    "scrolled": true,
    "solution2": "hidden"
   },
   "outputs": [],
   "source": [
    "(value tradeKey)[`sym]"
   ]
  },
  {
   "cell_type": "code",
   "execution_count": null,
   "metadata": {
    "hidden": true,
    "scrolled": true
   },
   "outputs": [],
   "source": [
    "//your answer here"
   ]
  },
  {
   "cell_type": "markdown",
   "metadata": {
    "hidden": true,
    "solution2": "hidden",
    "solution2_first": true
   },
   "source": [
    "* Extract the row values (sym, price, size and side) for id `1005` and `1008` from the `tradeKey` table"
   ]
  },
  {
   "cell_type": "code",
   "execution_count": null,
   "metadata": {
    "hidden": true,
    "scrolled": true,
    "solution2": "hidden"
   },
   "outputs": [],
   "source": [
    "tradeKey[([]id:1005 1008)]"
   ]
  },
  {
   "cell_type": "code",
   "execution_count": null,
   "metadata": {
    "hidden": true,
    "scrolled": true
   },
   "outputs": [],
   "source": [
    "//your answer here"
   ]
  },
  {
   "cell_type": "markdown",
   "metadata": {
    "hidden": true,
    "solution2": "hidden",
    "solution2_first": true
   },
   "source": [
    "* Extract the price value for `tradeKey` id `1002`"
   ]
  },
  {
   "cell_type": "code",
   "execution_count": null,
   "metadata": {
    "hidden": true,
    "scrolled": true,
    "solution2": "hidden"
   },
   "outputs": [],
   "source": [
    "tradeKey[([]id:enlist 1002);`price]"
   ]
  },
  {
   "cell_type": "code",
   "execution_count": null,
   "metadata": {
    "hidden": true,
    "scrolled": true
   },
   "outputs": [],
   "source": [
    "//your answer here"
   ]
  },
  {
   "cell_type": "markdown",
   "metadata": {
    "hidden": true,
    "solution2": "hidden",
    "solution2_first": true
   },
   "source": [
    "* Modify the side for `tradeKey` id `1009` to be `` `B``"
   ]
  },
  {
   "cell_type": "code",
   "execution_count": null,
   "metadata": {
    "hidden": true,
    "scrolled": true,
    "solution2": "hidden"
   },
   "outputs": [],
   "source": [
    "tradeKey[([]id:enlist 1009);`side]:enlist `B\n",
    "show tradeKey"
   ]
  },
  {
   "cell_type": "code",
   "execution_count": null,
   "metadata": {
    "hidden": true,
    "scrolled": true
   },
   "outputs": [],
   "source": [
    "//your answer here"
   ]
  },
  {
   "cell_type": "markdown",
   "metadata": {
    "hidden": true,
    "solution2": "hidden",
    "solution2_first": true
   },
   "source": [
    "* Unkey the `tradeKey` table and assign it to the variable `unkeyedTrade`"
   ]
  },
  {
   "cell_type": "code",
   "execution_count": null,
   "metadata": {
    "hidden": true,
    "scrolled": true,
    "solution2": "hidden"
   },
   "outputs": [],
   "source": [
    "unkeyedTrade:0!tradeKey\n",
    "//or\n",
    "unkeyedTrade:() xkey tradeKey\n",
    "show unkeyedTrade"
   ]
  },
  {
   "cell_type": "code",
   "execution_count": null,
   "metadata": {
    "hidden": true,
    "scrolled": true
   },
   "outputs": [],
   "source": [
    "//your answer here"
   ]
  },
  {
   "cell_type": "markdown",
   "metadata": {
    "heading_collapsed": true
   },
   "source": [
    "## Appending records to tables"
   ]
  },
  {
   "cell_type": "markdown",
   "metadata": {
    "heading_collapsed": true,
    "hidden": true
   },
   "source": [
    "### Unkeyed Tables"
   ]
  },
  {
   "cell_type": "markdown",
   "metadata": {
    "hidden": true,
    "solution2": "hidden",
    "solution2_first": true
   },
   "source": [
    "* Create the table \n",
    "\n",
    "```t1:([] sym:`a`b`c`d`c`d; price:1 2 3 4 8 9f)```\n",
    "\n",
    "Use the insert syntax to insert the symbols <code>\\`e</code> and <code>\\`g</code> and the prices 5 and 7. Do it as a bulk insert."
   ]
  },
  {
   "cell_type": "code",
   "execution_count": null,
   "metadata": {
    "hidden": true,
    "scrolled": true,
    "solution2": "hidden"
   },
   "outputs": [],
   "source": [
    "show t1:([] sym:`a`b`c`d`c`d; price:1 2 3 4 3 4f)\n",
    "`t1 insert (`e`g;5 7f)\n",
    "t1"
   ]
  },
  {
   "cell_type": "code",
   "execution_count": null,
   "metadata": {
    "hidden": true,
    "scrolled": true,
    "solution2": "hidden"
   },
   "outputs": [],
   "source": [
    "//alternatively as a table insert: \n",
    "`t1 insert ([]sym:`e`g; price:5 7f)"
   ]
  },
  {
   "cell_type": "code",
   "execution_count": null,
   "metadata": {
    "hidden": true,
    "scrolled": true
   },
   "outputs": [],
   "source": [
    "//your answer here"
   ]
  },
  {
   "cell_type": "markdown",
   "metadata": {
    "hidden": true,
    "solution2": "hidden",
    "solution2_first": true
   },
   "source": [
    "* Use the join (,) syntax to do the same thing"
   ]
  },
  {
   "cell_type": "code",
   "execution_count": null,
   "metadata": {
    "hidden": true,
    "scrolled": true,
    "solution2": "hidden"
   },
   "outputs": [],
   "source": [
    "t1:([] sym:`a`b`c`d`c`d; price:1 2 3 4 3 4f)     \n",
    "show t1,:([]sym:`e`g;price:5 7f)          //join and amend in place \n",
    "meta t1 "
   ]
  },
  {
   "cell_type": "code",
   "execution_count": null,
   "metadata": {
    "hidden": true,
    "scrolled": true
   },
   "outputs": [],
   "source": [
    "//your answer here"
   ]
  },
  {
   "cell_type": "markdown",
   "metadata": {
    "hidden": true,
    "solution2": "hidden",
    "solution2_first": true
   },
   "source": [
    "* Extract the 3rd row from t1. What is it's type?"
   ]
  },
  {
   "cell_type": "code",
   "execution_count": null,
   "metadata": {
    "hidden": true,
    "scrolled": true,
    "solution2": "hidden"
   },
   "outputs": [],
   "source": [
    "t1 2\n",
    "type t1 2 "
   ]
  },
  {
   "cell_type": "code",
   "execution_count": null,
   "metadata": {
    "hidden": true,
    "scrolled": true
   },
   "outputs": [],
   "source": [
    "//your answer here"
   ]
  },
  {
   "cell_type": "markdown",
   "metadata": {
    "hidden": true,
    "solution2": "hidden",
    "solution2_first": true
   },
   "source": [
    "* Extract the distinct items from t1"
   ]
  },
  {
   "cell_type": "code",
   "execution_count": null,
   "metadata": {
    "hidden": true,
    "scrolled": true,
    "solution2": "hidden"
   },
   "outputs": [],
   "source": [
    "t1 \n",
    "distinct t1  //will return a table of the distinct rows in our data"
   ]
  },
  {
   "cell_type": "code",
   "execution_count": null,
   "metadata": {
    "hidden": true,
    "scrolled": true
   },
   "outputs": [],
   "source": [
    "//your answer here"
   ]
  },
  {
   "cell_type": "markdown",
   "metadata": {
    "hidden": true,
    "solution2": "hidden",
    "solution2_first": true
   },
   "source": [
    "* Using the distinct items from `t1` as defined above, create `t2` which is `t1` with an additional column, size. Size should be of type int and can be calculated as `100*1+(index in list)`"
   ]
  },
  {
   "cell_type": "code",
   "execution_count": null,
   "metadata": {
    "hidden": true,
    "scrolled": true,
    "solution2": "hidden"
   },
   "outputs": [],
   "source": [
    "show t2: distinct t1\n",
    "t2[`size]: `int$100*1+til count distinct t1\n",
    "meta t2\n",
    "t2"
   ]
  },
  {
   "cell_type": "code",
   "execution_count": null,
   "metadata": {
    "hidden": true,
    "scrolled": true
   },
   "outputs": [],
   "source": [
    "//your answer here"
   ]
  },
  {
   "cell_type": "markdown",
   "metadata": {
    "hidden": true,
    "solution2": "hidden",
    "solution2_first": true
   },
   "source": [
    "* Run the code:\n",
    "\n",
    "    <code>t2 upsert flip (\\`a\\`g;1 2;3 5)</code>\n",
    "    \n",
    "    Why does it fail?"
   ]
  },
  {
   "cell_type": "markdown",
   "metadata": {
    "hidden": true,
    "solution2": "hidden"
   },
   "source": [
    "The numbers in the new rows are longs by default, size and price columns are int and float"
   ]
  },
  {
   "cell_type": "code",
   "execution_count": null,
   "metadata": {
    "hidden": true,
    "scrolled": true,
    "solution2": "hidden"
   },
   "outputs": [],
   "source": [
    "flip (`a`g;1 2; 3 5)             //we are using flip here to format the data as rows\n",
    "t2 upsert flip (`a`g;1 2; 3 5)   //we get a type error "
   ]
  },
  {
   "cell_type": "code",
   "execution_count": null,
   "metadata": {
    "hidden": true,
    "scrolled": true,
    "solution2": "hidden"
   },
   "outputs": [],
   "source": [
    "//first step - check our types! \n",
    "show tabTypes:0!meta t2                           //unkeying so we can add a new column using dictionary notation\n",
    "tabTypes[`newDataTypes]:type each (`a`g;1 2; 3 5) //checking the type of each of our new data\n",
    "tabTypes                                          //can see a disagreement between the type of size"
   ]
  },
  {
   "cell_type": "code",
   "execution_count": null,
   "metadata": {
    "hidden": true,
    "scrolled": true
   },
   "outputs": [],
   "source": [
    "//your answer here"
   ]
  },
  {
   "cell_type": "markdown",
   "metadata": {
    "hidden": true,
    "solution2": "hidden",
    "solution2_first": true
   },
   "source": [
    "* Correct the code so that it works without an error."
   ]
  },
  {
   "cell_type": "code",
   "execution_count": null,
   "metadata": {
    "hidden": true,
    "scrolled": true,
    "solution2": "hidden"
   },
   "outputs": [],
   "source": [
    "t2 upsert flip (`a`g;1 2f;3 5)"
   ]
  },
  {
   "cell_type": "code",
   "execution_count": null,
   "metadata": {
    "hidden": true,
    "scrolled": true
   },
   "outputs": [],
   "source": [
    "//your answer here"
   ]
  },
  {
   "cell_type": "markdown",
   "metadata": {
    "heading_collapsed": true,
    "hidden": true
   },
   "source": [
    "### Keyed Tables"
   ]
  },
  {
   "cell_type": "markdown",
   "metadata": {
    "hidden": true,
    "solution2": "hidden",
    "solution2_first": true
   },
   "source": [
    "* Add the following new rows to the keyed `tradeKey` table\n",
    "\n",
    "\n",
    "    id   | sym   price   size     side\n",
    "    -----| -----------------------------\n",
    "    1011 | `BP    81      111     `B\n",
    "    1012 | `JPM   65      156     `B"
   ]
  },
  {
   "cell_type": "code",
   "execution_count": null,
   "metadata": {
    "hidden": true,
    "scrolled": true,
    "solution2": "hidden"
   },
   "outputs": [],
   "source": [
    "`tradeKey insert flip `id`sym`price`size`side!(1011 1012;`BP`JPM;81 65;111 156;`B`B)\n",
    "//or \n",
    "`tradeKey upsert flip `id`sym`price`size`side!(1011 1012;`BP`JPM;81 65;111 156;`B`B)"
   ]
  },
  {
   "cell_type": "code",
   "execution_count": null,
   "metadata": {
    "hidden": true,
    "scrolled": true
   },
   "outputs": [],
   "source": [
    "//your answer here"
   ]
  },
  {
   "cell_type": "markdown",
   "metadata": {
    "hidden": true,
    "solution2": "hidden",
    "solution2_first": true
   },
   "source": [
    "* Update the information for `tradeKey` id `1001` to the following:\n",
    "\n",
    "\n",
    "    id   | sym   price   size     side\n",
    "    -----| -----------------------------\n",
    "    1001 | `BP    85      115     `B"
   ]
  },
  {
   "cell_type": "code",
   "execution_count": null,
   "metadata": {
    "hidden": true,
    "scrolled": true,
    "solution2": "hidden"
   },
   "outputs": [],
   "source": [
    "`tradeKey upsert(1001;`BP;85;115;`B)"
   ]
  },
  {
   "cell_type": "code",
   "execution_count": null,
   "metadata": {
    "hidden": true,
    "scrolled": true
   },
   "outputs": [],
   "source": [
    "//your answer here"
   ]
  },
  {
   "cell_type": "markdown",
   "metadata": {
    "heading_collapsed": true
   },
   "source": [
    "## Functions"
   ]
  },
  {
   "cell_type": "markdown",
   "metadata": {
    "hidden": true,
    "solution2": "hidden",
    "solution2_first": true
   },
   "source": [
    "* Create a function `returnKeyedTable` which takes as input:<br> \n",
    "\n",
    "\n",
    "    - t  - table name (as symbol)\n",
    "    - k - key(s) to key on\n",
    "\n",
    "Returns the specified table keyed on k -  the underlying table should not be changed\n",
    "\n",
    "Example of Code\n",
    "    \n",
    "    returnKeyedTable[`trade;`sym]                                        // returns a keys version of the table\n",
    "    sym| time                          size price side exchange\n",
    "    ---| ------------------------------------------------------\n",
    "    GE | 2016.04.22D15:02:31.169380000 150  1025  B    N\n",
    "    BP | 2016.04.22D15:02:31.169380000 210  1050  S    L\n",
    "\n",
    "    trade                                                                // but doesn't alter the underlying table \n",
    "    time                          sym size price side exchange\n",
    "    ----------------------------------------------------------\n",
    "    2016.04.22D15:02:31.169380000 GE  150  1025  B    N\n",
    "    2016.04.22D15:02:31.169380000 BP  210  1050  S    L"
   ]
  },
  {
   "cell_type": "code",
   "execution_count": null,
   "metadata": {
    "hidden": true,
    "solution2": "hidden"
   },
   "outputs": [],
   "source": [
    "returnKeyedTable:{[t;k]k xkey get t}"
   ]
  },
  {
   "cell_type": "code",
   "execution_count": null,
   "metadata": {
    "hidden": true
   },
   "outputs": [],
   "source": [
    "//your answer here"
   ]
  },
  {
   "cell_type": "markdown",
   "metadata": {
    "hidden": true
   },
   "source": [
    "Test your function using the code below"
   ]
  },
  {
   "cell_type": "code",
   "execution_count": null,
   "metadata": {
    "hidden": true
   },
   "outputs": [],
   "source": [
    "trade:flip`time`sym`size`prize`side`exchange!(2#2016.04.22D15:02:31.169380000;`GE`BP;150 210;1025 1050;`B`S;`N`L)\n",
    "returnKeyedTable[`trade;`sym] "
   ]
  },
  {
   "cell_type": "markdown",
   "metadata": {
    "hidden": true,
    "solution2": "hidden",
    "solution2_first": true
   },
   "source": [
    "* Create a function `applyKeyToTable` which takes as input:<br> \n",
    "\n",
    "\n",
    "    - t  - table name (as symbol)\n",
    "    - k - key(s) to key on. If this list is empty, the table should be unkeyed\n",
    "\n",
    "Returns the name of the table. The underlying table should be keyed / unkeyed as per the supplied argument\n",
    "\n",
    "Example of Code\n",
    "    \n",
    "    applyKeyToTable[`trade;`sym]\t\t\t\t\t          // alters the underlying table and just returns the table name\n",
    "    `trade\n",
    "\n",
    "    trade\n",
    "    sym| time                          size price side exchange\n",
    "    ---| ------------------------------------------------------\n",
    "    GE | 2016.04.22D15:02:31.169380000 150  1025  B    N\n",
    "    BP | 2016.04.22D15:02:31.169380000 210  1050  S    L"
   ]
  },
  {
   "cell_type": "code",
   "execution_count": null,
   "metadata": {
    "hidden": true,
    "solution2": "hidden"
   },
   "outputs": [],
   "source": [
    "applyKeyToTable:{[t;k]k xkey t}"
   ]
  },
  {
   "cell_type": "code",
   "execution_count": null,
   "metadata": {
    "hidden": true
   },
   "outputs": [],
   "source": [
    "//your answer here"
   ]
  },
  {
   "cell_type": "markdown",
   "metadata": {
    "hidden": true
   },
   "source": [
    "Test your function using the code below"
   ]
  },
  {
   "cell_type": "code",
   "execution_count": null,
   "metadata": {
    "hidden": true
   },
   "outputs": [],
   "source": [
    "applyKeyToTable[`trade;`sym] \n",
    "trade //should change"
   ]
  },
  {
   "cell_type": "markdown",
   "metadata": {
    "hidden": true,
    "solution2": "hidden",
    "solution2_first": true
   },
   "source": [
    "* For the next function, we will create a table `randomTable` with 20 rows and the following columns: \n",
    "     * sym - random selection from <code>\\`AAPL\\`MSFT\\`FD\\`KX</code>\n",
    "     * time - random timestamp between midnight and the current time \n",
    "     * price - random decimal price between 20-40\n",
    "     * qty - random quantity between 100-1000\n"
   ]
  },
  {
   "cell_type": "code",
   "execution_count": null,
   "metadata": {
    "hidden": true,
    "scrolled": true,
    "solution2": "hidden"
   },
   "outputs": [],
   "source": [
    "rows:20;\n",
    "randomTable:([] sym: rows?`AAPL`MSFT`FD`KX;\n",
    "                time: .z.d + rows?.z.t; \n",
    "                price: 20+rows?20f;\n",
    "                qty:100+rows?901 )\n",
    "randomTable"
   ]
  },
  {
   "cell_type": "code",
   "execution_count": null,
   "metadata": {
    "hidden": true,
    "scrolled": true
   },
   "outputs": [],
   "source": [
    "//your answer here"
   ]
  },
  {
   "cell_type": "markdown",
   "metadata": {
    "hidden": true,
    "solution2": "hidden",
    "solution2_first": true
   },
   "source": [
    "* Create function `appendData` that takes as an input `randomTable`, either as a table value, or as a symbol and a list of data in dictionary format and returns randomTable with the data appended. Run the function with the following dictionary as input - <code>\\`sym\\`time\\`price\\`qty!(\\`KX\\`FD;2#.z.p;54.4 52.1;300 300)</code>. \n",
    "\n",
    "This should not affect the global randomTable. "
   ]
  },
  {
   "cell_type": "code",
   "execution_count": null,
   "metadata": {
    "hidden": true,
    "solution2": "hidden"
   },
   "outputs": [],
   "source": [
    "randomTable\n",
    "data:`sym`time`price`qty!(`KX`FD;2#.z.p;54.4 52.1;300 300)"
   ]
  },
  {
   "cell_type": "code",
   "execution_count": null,
   "metadata": {
    "hidden": true,
    "solution2": "hidden"
   },
   "outputs": [],
   "source": [
    "appendData:{[tab;dataDict] if[-11h~type tab;tab:get tab]; //if passed by reference (i.e. sym) get it's value\n",
    "                    tab upsert flip dataDict}             //can't use insert, as we don't want to persist\n",
    "//                  tab,flip dataDict}                    //could use this either"
   ]
  },
  {
   "cell_type": "code",
   "execution_count": null,
   "metadata": {
    "hidden": true,
    "solution2": "hidden"
   },
   "outputs": [],
   "source": [
    "appendData[`randomTable;data]\n",
    "appendData[randomTable;data]"
   ]
  },
  {
   "cell_type": "code",
   "execution_count": null,
   "metadata": {
    "hidden": true
   },
   "outputs": [],
   "source": [
    "//your answer here"
   ]
  },
  {
   "cell_type": "markdown",
   "metadata": {
    "hidden": true,
    "solution2": "hidden",
    "solution2_first": true
   },
   "source": [
    "* Define the following two tables with the corresponding columns and types:\n",
    "\n",
    "**trade**\n",
    "\n",
    "* time (timestamp)\n",
    "* sym (symbol)\n",
    "* size (long)\n",
    "* price (long)\n",
    "* side (symbol)\n",
    "* exchange (symbol)\n",
    "\n",
    "**quote**\n",
    "\n",
    "* time (timestamp)\n",
    "* sym (symbol)\n",
    "* bid (long)\n",
    "* ask (long)\n",
    "* bidSize (long)\n",
    "* askSize (long)\n",
    "* exchange (symbol)\n",
    "\n",
    "Define a variable **BATCH** and assign it the value `1b` (true)"
   ]
  },
  {
   "cell_type": "code",
   "execution_count": null,
   "metadata": {
    "hidden": true,
    "solution2": "hidden"
   },
   "outputs": [],
   "source": [
    "trade:([]time:`timestamp$();sym:`$();size:`long$();price:`long$();side:`$();exchange:`$());\n",
    "quote:([]time:`timestamp$();sym:`$();bid:`long$();ask:`long$();bidSize:`long$();askSize:`long$();exchange:`$());\n",
    "BATCH:1b"
   ]
  },
  {
   "cell_type": "code",
   "execution_count": null,
   "metadata": {
    "hidden": true
   },
   "outputs": [],
   "source": [
    "//your answer here"
   ]
  },
  {
   "cell_type": "markdown",
   "metadata": {
    "hidden": true,
    "solution2": "hidden",
    "solution2_first": true
   },
   "source": [
    "* Create a function `upd` which takes as input:<br> \n",
    "    * t - the name of a table (a symbol) e.g. `trade` or `quote`\n",
    "    * d - the data - this should  be a list, where each item in the list is an atom or list itself corresponding to the columns in the associated table (`trade` or `quote`)\n",
    "\n",
    "**The function should (if BATCH is true):**\n",
    "    - insert the data into the appropriate table\n",
    "    - return the indices that the records were inserted at (e.g. 0 1 for the first 2 records inserted)\n",
    "\n",
    "**The function should (if BATCH is false):**\n",
    "    - not insert anything into the trade or quote tables\n",
    "    - return a table populated with the data that was passed in\n",
    "\n",
    "**If everything has been defined correctly, the following code snippets should all match examples**\n",
    "\n",
    "Example of Code:\n",
    "\n",
    "    BATCH:0b\t\t\t\t\t\t\t\t\t\t\t\t\t\t\t\t// start by testing in non-batch mode\n",
    "    upd[`trade;(2#.z.P;`ASD`IBM;300 400;4000 6000;`O`P;`N`D)]\t\t\t   // test with two records\n",
    "    time                          sym size price side exchange\t\t\t  // copy of table returned\n",
    "    ----------------------------------------------------------\n",
    "    2016.03.19D12:17:50.871658000 ASD 300  4000  O    N\n",
    "    2016.03.19D12:17:50.871658000 IBM 400  6000  P    D\n",
    "    \n",
    "    trade\t\t\t\t\t\t\t\t\t\t\t\t\t\t\t\t    // underlying table should be unchanged\n",
    "    time sym size price side exchange\n",
    "    ---------------------------------"
   ]
  },
  {
   "cell_type": "code",
   "execution_count": null,
   "metadata": {
    "hidden": true,
    "solution2": "hidden"
   },
   "outputs": [],
   "source": [
    "upd:{[t;d]$[BATCH;t insert d;get[t]upsert flip(),/:d]}"
   ]
  },
  {
   "cell_type": "code",
   "execution_count": null,
   "metadata": {
    "hidden": true
   },
   "outputs": [],
   "source": [
    "//your answer here"
   ]
  },
  {
   "cell_type": "markdown",
   "metadata": {
    "hidden": true
   },
   "source": [
    "Test your function using the code below"
   ]
  },
  {
   "cell_type": "code",
   "execution_count": null,
   "metadata": {
    "hidden": true
   },
   "outputs": [],
   "source": [
    "BATCH:0b\n",
    "upd[`trade;(2#.z.P;`ASD`IBM;300 400;4000 6000;`O`P;`N`D)]  // test with two records\n",
    "trade                                                      // underlying table should be unchanged"
   ]
  },
  {
   "cell_type": "code",
   "execution_count": null,
   "metadata": {
    "hidden": true
   },
   "outputs": [],
   "source": [
    "BATCH:0b\n",
    "upd[`quote;(.z.P;`MSFT;745;755;100;200;`T)]                // should work with a single row also\n",
    "quote  "
   ]
  },
  {
   "cell_type": "code",
   "execution_count": null,
   "metadata": {
    "hidden": true
   },
   "outputs": [],
   "source": [
    "BATCH:1b                                                   // Batch mode on\n",
    "upd[`quote;(.z.P;`APPL;15;20;190;650;`T)]                  // indices returned\n",
    "quote  "
   ]
  },
  {
   "cell_type": "code",
   "execution_count": null,
   "metadata": {
    "hidden": true
   },
   "outputs": [],
   "source": [
    "upd[`quote;(.z.P;`SHL;945;1055;200;250;`X)]\n",
    "quote  "
   ]
  },
  {
   "cell_type": "code",
   "execution_count": null,
   "metadata": {
    "hidden": true
   },
   "outputs": [],
   "source": [
    "upd[`trade;(2#.z.P;`ASD`IBM;300 400;4000 6000;`O`P;`N`D)]\n",
    "trade"
   ]
  },
  {
   "cell_type": "code",
   "execution_count": null,
   "metadata": {
    "hidden": true
   },
   "outputs": [],
   "source": []
  }
 ],
 "metadata": {
  "kernelspec": {
   "display_name": "Python 3 (ipykernel)",
   "language": "python",
   "name": "python3"
  },
  "language_info": {
   "codemirror_mode": {
    "name": "ipython",
    "version": 3
   },
   "file_extension": ".py",
   "mimetype": "text/x-python",
   "name": "python",
   "nbconvert_exporter": "python",
   "pygments_lexer": "ipython3",
   "version": "3.11.10"
  },
  "toc": {
   "base_numbering": 1,
   "nav_menu": {},
   "number_sections": true,
   "sideBar": true,
   "skip_h1_title": false,
   "title_cell": "Table of Contents",
   "title_sidebar": "Contents",
   "toc_cell": false,
   "toc_position": {},
   "toc_section_display": true,
   "toc_window_display": false
  }
 },
 "nbformat": 4,
 "nbformat_minor": 4
}