{
 "cells": [
  {
   "cell_type": "code",
   "metadata": {
    "autorun": true,
    "editable": false,
    "tags": [
     "remove-cell"
    ],
    "jupyter": {
     "source_hidden": true,
     "outputs_hidden": true
    },
    "collapsed": true
   },
   "source": [
    "#;.pykx.disableJupyter()"
   ]
  },
  {
   "cell_type": "code",
   "metadata": {
    "autorun": true,
    "editable": false,
    "tags": [
     "remove-cell"
    ],
    "jupyter": {
     "source_hidden": true,
     "outputs_hidden": true
    },
    "collapsed": true
   },
   "source": [
    "# https://code.kx.com/pykx/3.0/examples/jupyter-integration.html#q-first-mode\n",
    "import pykx as kx\n",
    "kx.util.jupyter_qfirst_enable()"
   ]
  },
  {
   "cell_type": "markdown",
   "metadata": {
    "heading_collapsed": true
   },
   "source": [
    "# Dictionaries\n",
    "\n",
    "**Learning Outcomes**\n",
    "\n",
    "To understand: \n",
    "* How to create a dictionary\n",
    "* How to use a dictionary\n",
    "* How to amend a dictionary\n",
    "* How to combine dictionaries"
   ]
  },
  {
   "cell_type": "markdown",
   "metadata": {
    "heading_collapsed": true
   },
   "source": [
    "# Introduction\n",
    "[Dictionaries](https://en.wikipedia.org/wiki/Associative_array) are a key-value data structure that associates a *key* with a *value*. Dictionaries in kdb+/q are created by making an association between two lists of equal length and provide the foundation for creating tables in kdb+. "
   ]
  },
  {
   "cell_type": "markdown",
   "metadata": {
    "heading_collapsed": true,
    "hidden": true
   },
   "source": [
    "## Dictionary decomposition\n",
    "Dictionaries are a first order datatype in kdb+/q with an associated value of `99h`. "
   ]
  },
  {
   "cell_type": "code",
   "execution_count": null,
   "metadata": {
    "hidden": true
   },
   "outputs": [],
   "source": [
    "show d: `a`b!1 2  //simple dictionary\n",
    "type d            //type\n",
    "key d             //keys list \n",
    "value d           //value list \n",
    "count d           //how many associations we have"
   ]
  },
  {
   "cell_type": "markdown",
   "metadata": {
    "hidden": true
   },
   "source": [
    "Since dictionaries are first order datatypes, we can apply functions to them: "
   ]
  },
  {
   "cell_type": "code",
   "execution_count": null,
   "metadata": {
    "hidden": true
   },
   "outputs": [],
   "source": [
    "d\n",
    "d + 3\n",
    "d % 1.5  \n",
    "d * 1 2   //pairwise vector multiplication\n",
    "d * 1 2 3 //length error"
   ]
  },
  {
   "cell_type": "markdown",
   "metadata": {
    "heading_collapsed": true
   },
   "source": [
    "# Creating a dictionary\n",
    "\n",
    "The primitive [`!`](https://code.kx.com/q/ref/dict/) (spoken as \"bang\") is used to create dictionaries - we can simply place a `!` between our list of keys and our list of values:"
   ]
  },
  {
   "cell_type": "code",
   "execution_count": null,
   "metadata": {
    "hidden": true
   },
   "outputs": [],
   "source": [
    "names:`john`steve`rachel\n",
    "ages:20 31 22\n",
    "show dict:names!ages;  // define a dictionary called dict"
   ]
  },
  {
   "cell_type": "markdown",
   "metadata": {
    "hidden": true
   },
   "source": [
    "Neither the keys nor values need be simple lists, either of them can be general lists - they just need to be the same length. Below are some examples:"
   ]
  },
  {
   "cell_type": "code",
   "execution_count": null,
   "metadata": {
    "hidden": true
   },
   "outputs": [],
   "source": [
    "(`Arthur`Dent; `Zaphod`Beeblebrox; `Ford`Prefect)! 100 42 150 //using nested symbol lists\n",
    "\n",
    "1001 1002 1003!(`Arthur`Dent; `Zaphod`Beeblebrox; `Ford`Prefect)"
   ]
  },
  {
   "cell_type": "markdown",
   "metadata": {
    "hidden": true,
    "solution2": "hidden",
    "solution2_first": true
   },
   "source": [
    "##### Exercise \n",
    "\n",
    "Create a dictionary called `food` which contains the following:\n",
    "* <code>\\`milk\\`bread\\`biscuits</code> as a key\n",
    "* <code>1.3 2.0 3.5</code> as a value\n"
   ]
  },
  {
   "cell_type": "code",
   "execution_count": null,
   "metadata": {
    "hidden": true,
    "solution2": "hidden"
   },
   "outputs": [],
   "source": [
    "food:`milk`bread`biscuits!1.3 2.0 3.5\n",
    "food"
   ]
  },
  {
   "cell_type": "code",
   "execution_count": null,
   "metadata": {
    "hidden": true
   },
   "outputs": [],
   "source": [
    "//write your answer here"
   ]
  },
  {
   "cell_type": "markdown",
   "metadata": {
    "heading_collapsed": true,
    "hidden": true
   },
   "source": [
    "## Implicit dictionary typing\n",
    "\n",
    "We can create an empty untyped dictionary using empty key and value lists, or an empty typed dictionary by casting our empty key and value lists: "
   ]
  },
  {
   "cell_type": "code",
   "execution_count": null,
   "metadata": {
    "hidden": true
   },
   "outputs": [],
   "source": [
    "show a:()!()          //general dictionary - currently untyped \n",
    "type value a\n",
    "show b:(`$())!\"f\"$()  //typed empty dictionary - will force conformity to this datatype for any updates\n",
    "type value b"
   ]
  },
  {
   "cell_type": "markdown",
   "metadata": {
    "hidden": true
   },
   "source": [
    "The untyped dictionary above is interesting - while it currently isn't typed, it will assume a \"typing\" of the first inserted value. \n",
    "\n",
    "If we wanted to create a *true* general dictionary that won't lose it's \"untyped\" nature we can do so as follows: "
   ]
  },
  {
   "cell_type": "code",
   "execution_count": null,
   "metadata": {
    "hidden": true
   },
   "outputs": [],
   "source": [
    "guaranteedUnTyped: enlist[`]!enlist(::)   //we're using enlist here because ! only works with lists\n",
    "type value guaranteedUnTyped"
   ]
  },
  {
   "cell_type": "markdown",
   "metadata": {
    "hidden": true,
    "solution2": "hidden",
    "solution2_first": true
   },
   "source": [
    "##### Exercise\n",
    "\n",
    "Create a single element dictionary called `months`, with one key `January` and a value of 1"
   ]
  },
  {
   "cell_type": "code",
   "execution_count": null,
   "metadata": {
    "hidden": true,
    "solution2": "hidden"
   },
   "outputs": [],
   "source": [
    "//we don't need the square brackets on the RHS because of operator precendence\n",
    "show months: enlist[`January]! enlist 1    "
   ]
  },
  {
   "cell_type": "code",
   "execution_count": null,
   "metadata": {
    "hidden": true
   },
   "outputs": [],
   "source": [
    "//your answer here"
   ]
  },
  {
   "cell_type": "markdown",
   "metadata": {
    "heading_collapsed": true,
    "hidden": true
   },
   "source": [
    "## Column dictionaries\n",
    "\n",
    "Column dictionaries are the foundation for tables. These are a special subset of dictionaries with a mapping from a simple list of symbols to a rectangular list of lists."
   ]
  },
  {
   "cell_type": "code",
   "execution_count": null,
   "metadata": {
    "hidden": true
   },
   "outputs": [],
   "source": [
    "columnDict: `col1`col2!(1 2 3; 4 5 6)\n",
    "columnDict"
   ]
  },
  {
   "cell_type": "markdown",
   "metadata": {
    "heading_collapsed": true
   },
   "source": [
    "# Dictionary Retrieval\n",
    "\n",
    "Since dictionaries are commonly used for mappings, it's important we understand how we can use them to retrieve the values associated with our keys or vice versa."
   ]
  },
  {
   "cell_type": "markdown",
   "metadata": {
    "heading_collapsed": true,
    "hidden": true
   },
   "source": [
    "## Key lookup \n",
    "In most cases dictionaries are accessed by specifying the key(s) we wish to access and the corresponding values are returned."
   ]
  },
  {
   "cell_type": "code",
   "execution_count": null,
   "metadata": {
    "hidden": true
   },
   "outputs": [],
   "source": [
    "dict\n",
    "dict `john\n",
    "dict[`john]  //functional syntax \n",
    "dict[`sarah] //value that isn't in our dictionary- we get a null of the same type as our first dictionary value "
   ]
  },
  {
   "cell_type": "markdown",
   "metadata": {
    "hidden": true
   },
   "source": [
    "We will get a type error if we try to pass keys that do not match the type of our key list: "
   ]
  },
  {
   "cell_type": "code",
   "execution_count": null,
   "metadata": {
    "hidden": true
   },
   "outputs": [],
   "source": [
    "dict[\"igor\"]"
   ]
  },
  {
   "cell_type": "markdown",
   "metadata": {
    "hidden": true
   },
   "source": [
    "Dictionaries are very useful for mappings because we can pass not just one input, but many input values, effectively mapping our list to the same domain as our dictionary"
   ]
  },
  {
   "cell_type": "code",
   "execution_count": null,
   "metadata": {
    "hidden": true
   },
   "outputs": [],
   "source": [
    "L:`john`rachel`sarah`rachel\n",
    "dict[L]      //by providing a list of keys we can retrieve multiple values"
   ]
  },
  {
   "cell_type": "markdown",
   "metadata": {
    "hidden": true,
    "solution2": "hidden",
    "solution2_first": true
   },
   "source": [
    "##### Exercise \n",
    "\n",
    "Using the `food` dictionary that we have defined in the our previous exercise, find the value corresponding with milk."
   ]
  },
  {
   "cell_type": "code",
   "execution_count": null,
   "metadata": {
    "hidden": true,
    "solution2": "hidden"
   },
   "outputs": [],
   "source": [
    "food[`milk] //functional syntax \n",
    "food`milk "
   ]
  },
  {
   "cell_type": "code",
   "execution_count": null,
   "metadata": {
    "hidden": true
   },
   "outputs": [],
   "source": [
    "//write your answer here "
   ]
  },
  {
   "cell_type": "markdown",
   "metadata": {
    "heading_collapsed": true,
    "hidden": true
   },
   "source": [
    "## Reverse Lookup \n",
    "We can use the `?` operator to find items in a dictionary- just like we did with lists! For a dictionary this will return the key associated with that value:"
   ]
  },
  {
   "cell_type": "code",
   "execution_count": null,
   "metadata": {
    "hidden": true
   },
   "outputs": [],
   "source": [
    "10 20 30 40?20 //finds the first index that the value occured at\n",
    "\n",
    "dict\n",
    "dict?20 \n",
    "dict?24        //if the value isn't there, it returns a null of the same type as the first key"
   ]
  },
  {
   "cell_type": "markdown",
   "metadata": {
    "hidden": true,
    "solution2": "hidden",
    "solution2_first": true
   },
   "source": [
    "##### Exercise \n",
    "\n",
    "Create a birth month dictionary (`birthMonth`) and create entries for John, Steve and Rachel -> JAN,SEPT,OCT accordingly. Store the keys as symbols, and values as strings. \n",
    "\n",
    "Using this dictionary find out:  \n",
    "* What is Steve's birth month?\n",
    "* Whose birthday is in October?"
   ]
  },
  {
   "cell_type": "code",
   "execution_count": null,
   "metadata": {
    "hidden": true,
    "solution2": "hidden"
   },
   "outputs": [],
   "source": [
    "//dictionary definition\n",
    "show birthMonth: `john`steve`rachel!(\"JAN\";\"SEPT\";\"OCT\")\n",
    "\n",
    "//When is steves birth month?\n",
    "birthMonth[`steve]\n",
    "\n",
    "//Whose birth month is October?\n",
    "birthMonth?\"OCT\""
   ]
  },
  {
   "cell_type": "code",
   "execution_count": null,
   "metadata": {
    "hidden": true
   },
   "outputs": [],
   "source": [
    "//your answer here"
   ]
  },
  {
   "cell_type": "markdown",
   "metadata": {
    "heading_collapsed": true
   },
   "source": [
    "# Amending dictionaries\n",
    "Now that we know how to create a dictionary, we will discuss how to amend an entry in our dictionary."
   ]
  },
  {
   "cell_type": "markdown",
   "metadata": {
    "heading_collapsed": true,
    "hidden": true
   },
   "source": [
    "## Updating values \n",
    "Taking the dictionary `dict` from above, let's say that we need to update some people's ages. We can update a dictionary value by specifying the key and using explicit reassignment."
   ]
  },
  {
   "cell_type": "code",
   "execution_count": null,
   "metadata": {
    "hidden": true
   },
   "outputs": [],
   "source": [
    "show dict\n",
    "dict[`rachel] //extracting the existing value\n",
    "dict[`rachel]:26        // set a value\n",
    "dict"
   ]
  },
  {
   "cell_type": "markdown",
   "metadata": {
    "hidden": true
   },
   "source": [
    "If we want to decrease John's age by 1, we can also do the following:"
   ]
  },
  {
   "cell_type": "code",
   "execution_count": null,
   "metadata": {
    "hidden": true
   },
   "outputs": [],
   "source": [
    "dict[`john]-:1             // decrement a value \n",
    "dict \n",
    "\n",
    "dict[`john]:dict[`john]-1   \n",
    "dict "
   ]
  },
  {
   "cell_type": "markdown",
   "metadata": {
    "hidden": true,
    "solution2": "hidden",
    "solution2_first": true
   },
   "source": [
    "##### Exercise \n",
    "\n",
    "Using our dictionary `birthMonth` from previous questions, update Steve's birth month to the shorthand \"AUG\" for August."
   ]
  },
  {
   "cell_type": "code",
   "execution_count": null,
   "metadata": {
    "hidden": true,
    "solution2": "hidden"
   },
   "outputs": [],
   "source": [
    "//dictionary definition\n",
    "birthMonth:`john`steve`rachel!(\"JAN\";\"SEPT\";\"OCT\");\n",
    "//reassigning the value for `steve\n",
    "birthMonth[`steve]:\"AUG\";\n",
    "//updated dictionary\n",
    "birthMonth"
   ]
  },
  {
   "cell_type": "code",
   "execution_count": null,
   "metadata": {
    "hidden": true
   },
   "outputs": [],
   "source": [
    "//your answer here"
   ]
  },
  {
   "cell_type": "markdown",
   "metadata": {
    "heading_collapsed": true,
    "hidden": true
   },
   "source": [
    "## Removing entries\n",
    "We can use [`_`](https://code.kx.com/q/ref/drop/#drop-keys-from-a-dictionary)(referred to as [drop](https://code.kx.com/q/ref/drop/#drop-keys-from-a-dictionary)) to remove key-value pairs from a dictionary. "
   ]
  },
  {
   "cell_type": "code",
   "execution_count": null,
   "metadata": {
    "hidden": true
   },
   "outputs": [],
   "source": [
    "//with a list\n",
    "2 _ til 10   //using _ with a list to remove the first 2 items\n",
    "//creating a dictionary\n",
    "show dict: `tom`brian`steve`sarah`jane`joanne!(18 19 20 31 21 27)"
   ]
  },
  {
   "cell_type": "markdown",
   "metadata": {
    "hidden": true
   },
   "source": [
    "If we want to remove Tom and Jane from our dictionary we can do the below:"
   ]
  },
  {
   "cell_type": "code",
   "execution_count": null,
   "metadata": {
    "hidden": true
   },
   "outputs": [],
   "source": [
    "`tom`jane _ dict           // whitespace is required to the left of _\n",
    "`joanne _ dict             // remove one entry\n",
    "`mark`sarah _ dict         // removing a key that does not exist has no effect & won't error\n",
    "key[dict] _ dict           // returns an empty dictionary"
   ]
  },
  {
   "cell_type": "markdown",
   "metadata": {
    "hidden": true,
    "solution2": "hidden",
    "solution2_first": true
   },
   "source": [
    "##### Exercise \n",
    "\n",
    "Return the `birthMonth` dictionary without the entry for John:"
   ]
  },
  {
   "cell_type": "code",
   "execution_count": null,
   "metadata": {
    "hidden": true,
    "solution2": "hidden"
   },
   "outputs": [],
   "source": [
    "//dictionary definition\n",
    "show birthMonth \n",
    "\n",
    "//returning without John's key value\n",
    "`john _ birthMonth"
   ]
  },
  {
   "cell_type": "code",
   "execution_count": null,
   "metadata": {
    "hidden": true
   },
   "outputs": [],
   "source": [
    "//your answer here"
   ]
  },
  {
   "cell_type": "markdown",
   "metadata": {
    "heading_collapsed": true,
    "hidden": true
   },
   "source": [
    "## Subsetting entries \n",
    "We can use the primitive `#`(referred to as \"take\") to explicitly choose only certain values in our dictionary: "
   ]
  },
  {
   "cell_type": "code",
   "execution_count": null,
   "metadata": {
    "hidden": true
   },
   "outputs": [],
   "source": [
    "`tom`jane # dict            //selecting just the values for Tom and Jane\n",
    "`timothy`sarah # dict       //selecting values that aren't present assigns a null value to that key\n",
    "23^`timothy`sarah # dict    //setting a default of 23 for any missing values"
   ]
  },
  {
   "cell_type": "markdown",
   "metadata": {
    "heading_collapsed": true,
    "hidden": true
   },
   "source": [
    "## Appending to a dictionary\n",
    "Adding a new value to a dictionary is simple and is done in the same way as amending a dictionary:\n"
   ]
  },
  {
   "cell_type": "code",
   "execution_count": null,
   "metadata": {
    "hidden": true
   },
   "outputs": [],
   "source": [
    "dict\n",
    "\n",
    "//adding one new value\n",
    "dict[`tim]:35;           //the assignment method\n",
    "dict\n",
    "\n",
    "//can add in bulk\n",
    "dict[`sally`joe]: 23 52  //assignment is pairwise between the keys and the supplied vector\n",
    "dict"
   ]
  },
  {
   "cell_type": "markdown",
   "metadata": {
    "hidden": true,
    "solution2": "hidden",
    "solution2_first": true
   },
   "source": [
    "##### Exercise\n",
    "\n",
    "Add Tom and Brian's birth months (FEB,DEC) to our `birthMonth` dictionary - this time add them as symbols."
   ]
  },
  {
   "cell_type": "code",
   "execution_count": null,
   "metadata": {
    "hidden": true,
    "solution2": "hidden"
   },
   "outputs": [],
   "source": [
    "birthMonth                //our starting dictionary\n",
    "type value birthMonth     //the implicit dictionary type is general \n",
    "\n",
    "//assigning new values as symbols\n",
    "birthMonth[`tom`brian]:`FEB`DEC\n",
    "\n",
    "birthMonth"
   ]
  },
  {
   "cell_type": "markdown",
   "metadata": {
    "hidden": true,
    "solution2": "hidden"
   },
   "source": [
    "The reason the above does not throw an error when in other cases it would is because list of string lists are general lists so the dictionary will accept any type input. "
   ]
  },
  {
   "cell_type": "code",
   "execution_count": null,
   "metadata": {
    "hidden": true
   },
   "outputs": [],
   "source": [
    "//your answer here"
   ]
  },
  {
   "cell_type": "markdown",
   "metadata": {
    "heading_collapsed": true
   },
   "source": [
    "# Combining dictionaries\n",
    "We will often have to work with and manipulate multiple dictionaries and it is important to understand how to combine them, either through operations like addition, or joining."
   ]
  },
  {
   "cell_type": "markdown",
   "metadata": {
    "heading_collapsed": true,
    "hidden": true
   },
   "source": [
    "## Joining two dictionaries\n",
    "\n",
    "The join operator `,` can be used to merge two dictionaries, let's create two dictionaries with uncommon keys and merge them:"
   ]
  },
  {
   "cell_type": "code",
   "execution_count": null,
   "metadata": {
    "hidden": true
   },
   "outputs": [],
   "source": [
    "d1:`AAPL`IBM`KX!10 20 30\n",
    "d1\n",
    "\n",
    "d2:`FD`MSFT!40 50\n",
    "d2\n",
    "\n",
    "d1,d2               //Using the join operator "
   ]
  },
  {
   "cell_type": "markdown",
   "metadata": {
    "hidden": true
   },
   "source": [
    "The join operator `,` uses upsert semantics meaning if the key exists it will update the dictionary with the corresponding value. If the value does not exist, it will insert a new key value pair.  Let's look at what happens when we join two dictionaries with common keys."
   ]
  },
  {
   "cell_type": "code",
   "execution_count": null,
   "metadata": {
    "hidden": true
   },
   "outputs": [],
   "source": [
    "//new dictionaries\n",
    "d1:`AAPL`IBM`KX!10 20 30\n",
    "d2:`KX`FD`MRP!100 200 300    \n",
    "\n",
    "key[d1] inter key[d2]        //common key Kx"
   ]
  },
  {
   "cell_type": "code",
   "execution_count": null,
   "metadata": {
    "hidden": true
   },
   "outputs": [],
   "source": [
    "d1,d2                        //value in d2 prevails\n",
    "d2,d1                        //value in d1 prevails\n",
    "(d2,d1)~d1,d2"
   ]
  },
  {
   "cell_type": "markdown",
   "metadata": {
    "hidden": true,
    "solution2": "hidden",
    "solution2_first": true
   },
   "source": [
    "##### Exercise \n",
    "\n",
    "Using the dictionaries, <code>d1:\\`a\\`b\\`c!1 2 3</code> and <code>d2:\\`a\\`b\\`d!2 2 5</code>\n",
    "\n",
    "Create a dictionary `d3` by combining `d1` and `d2` - we want the values in `d2` to take priority."
   ]
  },
  {
   "cell_type": "code",
   "execution_count": null,
   "metadata": {
    "hidden": true,
    "solution2": "hidden"
   },
   "outputs": [],
   "source": [
    "d1:`a`b`c!1 2 3\n",
    "d2:`a`b`d!2 2 5\n",
    "\n",
    "d3:d1,d2\n",
    "d3"
   ]
  },
  {
   "cell_type": "code",
   "execution_count": null,
   "metadata": {
    "hidden": true
   },
   "outputs": [],
   "source": [
    "//your answer here"
   ]
  },
  {
   "cell_type": "markdown",
   "metadata": {
    "heading_collapsed": true,
    "hidden": true
   },
   "source": [
    "## Coalesce ^\n",
    "\n",
    "The Coalesce operator is similar to `,` in that it employs upsert semantics to merge two dictionaries."
   ]
  },
  {
   "cell_type": "code",
   "execution_count": null,
   "metadata": {
    "hidden": true
   },
   "outputs": [],
   "source": [
    "d1:`a`b`c!10 20 30\n",
    "d1\n",
    "\n",
    "d2:`b`c`d!200 0N 400\n",
    "d2\n",
    "\n",
    "d1^d2   //rather than keeping the null value of c in d2, the value from d1 is retained"
   ]
  },
  {
   "cell_type": "markdown",
   "metadata": {
    "hidden": true,
    "solution2": "hidden",
    "solution2_first": true
   },
   "source": [
    "##### Exercise \n",
    "\n",
    "Given our previous dictionary `d3`(<code>d3:\\`a\\`b\\`c\\`d!2 2 3 5</code>) and a new dictionary <code>d4:\\`c\\`d\\`e\\`f!20 0N 31 5</code>, use these to create the following dictionary: \n",
    "\n",
    "A.\n",
    "\n",
    "    a| 2 \n",
    "    b| 2 \n",
    "    c| 20 \n",
    "    d| 5 \n",
    "    e| 31 \n",
    "    f| 5  "
   ]
  },
  {
   "cell_type": "code",
   "execution_count": null,
   "metadata": {
    "hidden": true,
    "solution2": "hidden"
   },
   "outputs": [],
   "source": [
    "d3:`a`b`c`d!2 2 3 5\n",
    "d4:`c`d`e`f!20 0N 31 5\n",
    "//The resultant dictionary has the same values as the values from d4, except where d4 values are null. \n",
    "//The resultant dictionary has been filled with the d3 value\n",
    "d3^d4"
   ]
  },
  {
   "cell_type": "code",
   "execution_count": null,
   "metadata": {
    "hidden": true
   },
   "outputs": [],
   "source": [
    "//write your answer here "
   ]
  },
  {
   "cell_type": "markdown",
   "metadata": {
    "heading_collapsed": true,
    "hidden": true
   },
   "source": [
    "## Mathematical Operations\n",
    "\n",
    "Following the general pattern that we have seen up until now, arithmetic operators are executed on common keys. If uncommon keys exists, they will remain unchanged."
   ]
  },
  {
   "cell_type": "code",
   "execution_count": null,
   "metadata": {
    "hidden": true
   },
   "outputs": [],
   "source": [
    "d1:`IBM`FD`KX!10 20 30\n",
    "d1\n",
    "\n",
    "d2:`FD`KX`MRP!200 300 400\n",
    "d2 \n",
    "\n",
    "d1+d2 "
   ]
  },
  {
   "cell_type": "markdown",
   "metadata": {
    "hidden": true,
    "solution2": "hidden",
    "solution2_first": true
   },
   "source": [
    "##### Exercise \n",
    "\n",
    "Using the previously defined dictionaries `d3` and `d4`, use them to create the below dictionary. \n",
    "    \n",
    "    c| 6.666667 \n",
    "    d| 0n\n",
    "    e| 31 \n",
    "    f| 5 \n",
    "    a| 2 \n",
    "    b| 2 "
   ]
  },
  {
   "cell_type": "code",
   "execution_count": null,
   "metadata": {
    "hidden": true,
    "solution2": "hidden"
   },
   "outputs": [],
   "source": [
    "d3:`a`b`c`d!2 2 3 5\n",
    "d4:`c`d`e`f!20 0N 31 5\n",
    "\n",
    "\n",
    "//the dictionary has been unaffected in uncommon keys, for common keys c and d they have been divided\n",
    "    //our first \"hint\" it's division is that our type has changed - 6.666667 and 0n show us that\n",
    "d4%d3"
   ]
  },
  {
   "cell_type": "code",
   "execution_count": null,
   "metadata": {
    "hidden": true
   },
   "outputs": [],
   "source": [
    "//your answer here"
   ]
  }
 ],
 "metadata": {
  "kernelspec": {
   "display_name": "Python 3 (ipykernel)",
   "language": "python",
   "name": "python3"
  },
  "language_info": {
   "codemirror_mode": {
    "name": "ipython",
    "version": 3
   },
   "file_extension": ".py",
   "mimetype": "text/x-python",
   "name": "python",
   "nbconvert_exporter": "python",
   "pygments_lexer": "ipython3",
   "version": "3.11.10"
  },
  "toc": {
   "base_numbering": 1,
   "nav_menu": {},
   "number_sections": true,
   "sideBar": true,
   "skip_h1_title": false,
   "title_cell": "Table of Contents",
   "title_sidebar": "Contents",
   "toc_cell": false,
   "toc_position": {
    "height": "calc(100% - 180px)",
    "left": "10px",
    "top": "150px",
    "width": "384px"
   },
   "toc_section_display": true,
   "toc_window_display": true
  }
 },
 "nbformat": 4,
 "nbformat_minor": 4
}