{
 "cells": [
  {
   "cell_type": "code",
   "metadata": {
    "autorun": true,
    "editable": false,
    "tags": [
     "remove-cell"
    ],
    "jupyter": {
     "source_hidden": true,
     "outputs_hidden": true
    },
    "collapsed": true
   },
   "source": [
    "#;.pykx.disableJupyter()"
   ]
  },
  {
   "cell_type": "code",
   "metadata": {
    "autorun": true,
    "editable": false,
    "tags": [
     "remove-cell"
    ],
    "jupyter": {
     "source_hidden": true,
     "outputs_hidden": true
    },
    "collapsed": true
   },
   "source": [
    "# https://code.kx.com/pykx/3.0/examples/jupyter-integration.html#q-first-mode\n",
    "import pykx as kx\n",
    "kx.util.jupyter_qfirst_enable()"
   ]
  },
  {
   "cell_type": "markdown",
   "metadata": {
    "heading_collapsed": true
   },
   "source": [
    "##### Initialization"
   ]
  },
  {
   "cell_type": "code",
   "execution_count": 1,
   "metadata": {
    "hidden": true
   },
   "outputs": [
    {
     "data": {
      "text/plain": [
       "`:quote.csv\r\n"
      ]
     },
     "execution_count": 1,
     "metadata": {},
     "output_type": "execute_result"
    },
    {
     "data": {
      "text/plain": [
       "`:readFile.txt\r\n"
      ]
     },
     "execution_count": 1,
     "metadata": {},
     "output_type": "execute_result"
    },
    {
     "data": {
      "text/plain": [
       "-552 -552 -552i\r\n"
      ]
     },
     "execution_count": 1,
     "metadata": {},
     "output_type": "execute_result"
    },
    {
     "data": {
      "text/plain": [
       "`:CEOs.json\r\n"
      ]
     },
     "execution_count": 1,
     "metadata": {},
     "output_type": "execute_result"
    }
   ],
   "source": [
    "quote:([]sym:`JPM`GE`BP;ask:23.5 33.2 45.9;bid:12 41 46) //generate and save quote table\n",
    "save`quote.csv\n",
    "\n",
    "`:readFile.txt 0: ()\n",
    "\n",
    "neg[h:hopen `:readFile.txt] each (\"First line\";\"Second line\";\"Third line\")\n",
    "hclose h\n",
    "\n",
    "animals:([]name:`tiger`redPanda`tarantula`flamingo;color:(\"orange\";\"red\";\"brown\";\"pink\");lifespan:12 9 20 35i)\n",
    "\n",
    "CEOs:([]company:(\"Apple\";\"Google\";\"Facebook\";\"Amazon\");sym:`AAPL`GOOG`FB`AMZN;name:(\"Tim Cook\";\"Sundar Pichai\";\"Mark Zuckerberg\";\"Jeff Bezos\"))\n",
    "save `$\":CEOs.json\""
   ]
  },
  {
   "cell_type": "markdown",
   "metadata": {},
   "source": [
    "# Kx Training: Exercises - Working with Files"
   ]
  },
  {
   "cell_type": "markdown",
   "metadata": {
    "heading_collapsed": true
   },
   "source": [
    "## Saving Files"
   ]
  },
  {
   "cell_type": "markdown",
   "metadata": {
    "hidden": true,
    "solution2": "hidden",
    "solution2_first": true
   },
   "source": [
    "* `saveBinary` - accepts a file path and any object (e.g. atom, list, table etc) as its two arguments, writes the object to disk in binary (kdb+/q serialized format) and returns the path to that file indicating a successful write.\n",
    "\n",
    "Example:\n",
    "\n",
    "    saveBinary[`:myList;til 10]\n",
    "    `:myList"
   ]
  },
  {
   "cell_type": "code",
   "execution_count": null,
   "metadata": {
    "hidden": true,
    "solution2": "hidden"
   },
   "outputs": [],
   "source": [
    "saveBinary:set                 //this is what set does!\n",
    "saveBinary[`:myList;til 10 ]   //saving down a list"
   ]
  },
  {
   "cell_type": "code",
   "execution_count": null,
   "metadata": {
    "hidden": true
   },
   "outputs": [],
   "source": [
    "//your answer here"
   ]
  },
  {
   "cell_type": "markdown",
   "metadata": {
    "hidden": true,
    "solution2": "hidden",
    "solution2_first": true
   },
   "source": [
    "*  `saveBinaryFromVariable` - accepts a symbol (e.g <code>\\`newList</code>) as its sole argument, which represents the name of a variable in the q process - the function should save the variable in the current working directory and return the name of the variable indicating a successful write\n",
    "\n",
    "*Code golf solution - 16 characters including {}*\n",
    "\n",
    "Example:\n",
    "\n",
    "    newList: (`a`b`c;til 10)\n",
    "    saveBinaryFromVariable `newList\n",
    "    `newList"
   ]
  },
  {
   "cell_type": "code",
   "execution_count": null,
   "metadata": {
    "hidden": true,
    "solution2": "hidden"
   },
   "outputs": [],
   "source": [
    "saveBinaryFromVariable:{[variableName] \n",
    "                hsym[variableName] set variableName;\n",
    "                variableName}\n",
    "\n",
    "newList: (`a`b`c;til 10)\n",
    "saveBinaryFromVariable `newList\n",
    "`newList in key `:."
   ]
  },
  {
   "cell_type": "code",
   "execution_count": null,
   "metadata": {
    "hidden": true,
    "solution2": "hidden"
   },
   "outputs": [],
   "source": [
    "//code golf solution\n",
    "saveBinaryFromVariable:{hsym[x]set x;x}\n",
    "saveBinaryFromVariable `newList"
   ]
  },
  {
   "cell_type": "code",
   "execution_count": null,
   "metadata": {
    "hidden": true
   },
   "outputs": [],
   "source": [
    "//your answer here "
   ]
  },
  {
   "cell_type": "markdown",
   "metadata": {
    "heading_collapsed": true
   },
   "source": [
    "## Read Files"
   ]
  },
  {
   "cell_type": "markdown",
   "metadata": {
    "hidden": true,
    "solution2": "hidden",
    "solution2_first": true
   },
   "source": [
    "Create the below functions: \n",
    "\n",
    "* `isFile` - accepts a file path (e.g. <code>\\`:randomFile.txt</code>) as its argument, returns `1b` if the file exists and is a normal file, `0b` if doesn't exist or it is a folder. \n",
    "\n",
    "Example: \n",
    "\n",
    "    isFile[`$\":Working with Files Exercise.ipynb\"]    <- this file exists\n",
    "    1b\n",
    "    \n",
    "    isFile[`$\":.ipynb_checkpoints\"]                   <- this is a folder\n",
    "    0b\n",
    "    \n",
    "    isFile[`$\"randomFile.txt\"]                        <- this file does not exist\n",
    "    0b"
   ]
  },
  {
   "cell_type": "code",
   "execution_count": null,
   "metadata": {
    "hidden": true,
    "solution2": "hidden"
   },
   "outputs": [],
   "source": [
    "isFile:{-11h~type key hsym x}\n",
    "key `:.\n",
    "isFile[`$\":Working with Files Exercise.ipynb\"] //this file \n",
    "isFile[`$\":.ipynb_checkpoints\"] //is a directory\n",
    "isFile[`$\"randomFile.txt\"] //doesn't exist"
   ]
  },
  {
   "cell_type": "code",
   "execution_count": null,
   "metadata": {
    "hidden": true
   },
   "outputs": [],
   "source": [
    "//your answer here "
   ]
  },
  {
   "cell_type": "markdown",
   "metadata": {
    "hidden": true,
    "solution2": "hidden",
    "solution2_first": true
   },
   "source": [
    "* `readText` - accepts a file path  (e.g. <code>\\`:randomFile.txt</code>) as its sole argument and returns the lines of text in the file.\n",
    "\n",
    "Example:\n",
    "\n",
    "    readText[`:readFile.txt]\n",
    "    \"First Line\"\n",
    "    \"Second Line\"\n",
    "    \"Third Line\""
   ]
  },
  {
   "cell_type": "code",
   "execution_count": null,
   "metadata": {
    "hidden": true,
    "solution2": "hidden"
   },
   "outputs": [],
   "source": [
    "readText:read0           //this is already what read0 does! \n",
    "readText[`:readFile.txt]"
   ]
  },
  {
   "cell_type": "code",
   "execution_count": null,
   "metadata": {
    "hidden": true
   },
   "outputs": [],
   "source": [
    "//your answer here "
   ]
  },
  {
   "cell_type": "markdown",
   "metadata": {
    "hidden": true,
    "solution2": "hidden",
    "solution2_first": true
   },
   "source": [
    "* `readBinary` - accepts a file path (e.g <code>\\`:myList</code> ) to a binary file as its sole argument, reads that file from disk and returns a q object\n",
    "\n",
    "Example:\n",
    "\n",
    "    readBinary `:myList \n",
    "    0 1 2 3 4 5 6 7 8 9"
   ]
  },
  {
   "cell_type": "code",
   "execution_count": null,
   "metadata": {
    "hidden": true,
    "solution2": "hidden"
   },
   "outputs": [],
   "source": [
    "readBinary:get \n",
    "readBinary `:myList "
   ]
  },
  {
   "cell_type": "code",
   "execution_count": null,
   "metadata": {
    "hidden": true
   },
   "outputs": [],
   "source": [
    "//your answer here "
   ]
  },
  {
   "cell_type": "markdown",
   "metadata": {
    "hidden": true,
    "solution2": "hidden",
    "solution2_first": true
   },
   "source": [
    "* `loadCSV1` - accepts two arguments: file path and types, where file path is a symbol or hsym and types is a string. The function will load in a table from the CSV file and cast the columns to the specified type. The function implementation should use 0: <br>\n",
    "Note: we assume the data in the CSV file includes a table heading.\n",
    "\n",
    "A `` `:quote.csv`` file and a `quote` table have been generated for you to test with\n",
    "\n",
    "Example:\n",
    "\n",
    "    loadCSV1[`:quote.csv;\"SFJ\"]\n",
    "    sym ask  bid\n",
    "    ------------\n",
    "    JPM 23.5 12 \n",
    "    GE  33.2 41 \n",
    "    BP  45.9 46 \n",
    "\n",
    "    quote~loadCSV1[`:quote.csv;\"SFJ\"]\n",
    "    1b"
   ]
  },
  {
   "cell_type": "code",
   "execution_count": null,
   "metadata": {
    "hidden": true,
    "solution2": "hidden"
   },
   "outputs": [],
   "source": [
    "loadCSV1:{(y;enlist\",\") 0:x}     // This uses 0: to read in the file and specifies the types being read \n",
    "\n",
    "loadCSV1[`:quote.csv;\"SFJ\"]\n",
    "\n",
    "quote~loadCSV1[`:quote.csv;\"SFJ\"]"
   ]
  },
  {
   "cell_type": "code",
   "execution_count": null,
   "metadata": {
    "hidden": true
   },
   "outputs": [],
   "source": [
    "//your answer here "
   ]
  },
  {
   "cell_type": "markdown",
   "metadata": {
    "hidden": true,
    "solution2": "hidden",
    "solution2_first": true
   },
   "source": [
    "* `loadJSON` - accepts a file path, where file path is a symbol or hsym. The function will load in the table from the JSON and save it as a variable and returns the variable name indicating a successful load.\n",
    "\n",
    "A `` `:CEOs.json`` file has been generated for you to test with\n",
    "\n",
    "Example:\n",
    "\n",
    "    loadJSON[`:CEOs.json]\n",
    "    `CEOs"
   ]
  },
  {
   "cell_type": "code",
   "execution_count": null,
   "metadata": {
    "hidden": true,
    "solution2": "hidden"
   },
   "outputs": [],
   "source": [
    "loadJSON:load\n",
    "\n",
    "loadJSON[`CEOs.json]\n",
    "\n",
    "CEOs"
   ]
  },
  {
   "cell_type": "code",
   "execution_count": null,
   "metadata": {
    "hidden": true
   },
   "outputs": [],
   "source": [
    "//your answer here"
   ]
  },
  {
   "cell_type": "markdown",
   "metadata": {
    "heading_collapsed": true
   },
   "source": [
    "## Writing to Files"
   ]
  },
  {
   "cell_type": "markdown",
   "metadata": {
    "hidden": true,
    "solution2": "hidden",
    "solution2_first": true
   },
   "source": [
    "\n",
    "* `writeText` - accepts a file path (e.g. <code>\\`:randomFile.txt</code>) and a list of strings (to be written, e.g `(\"Line 0\";\"Line 1\")`) as its two arguments, writes those lines to the file and returns the file path indicating a successful write.\n",
    "\n",
    "Example: \n",
    "\n",
    "    writeText[`:randomFile.txt;(\"Line 0\";\"Line 1\")]\n",
    "    `:randomFile.txt"
   ]
  },
  {
   "cell_type": "code",
   "execution_count": null,
   "metadata": {
    "hidden": true,
    "solution2": "hidden"
   },
   "outputs": [],
   "source": [
    "writeText:{[filePath;stringsToWrite]\n",
    "                h:hopen filePath;            //opening a handle to the file\n",
    "                neg[h] each stringsToWrite;  //negative handle writes on new lines \n",
    "                hclose h;                    //removing our connection to the file\n",
    "                filePath                     //returning as requested the file path\n",
    " }\n",
    "writeText[`:randomFile.txt;(\"Line 0\";\"Line 1\")]"
   ]
  },
  {
   "cell_type": "code",
   "execution_count": null,
   "metadata": {
    "hidden": true,
    "solution2": "hidden"
   },
   "outputs": [],
   "source": [
    "//we could do more checks and use protected evaluation\n",
    "writeText:{[filePath;stringsToWrite]\n",
    "                if[()~key filePath;   //check if file exists first before writing \n",
    "                    0N!\"File doesn't exist. Creating new file \", string filePath]; //hopen filePath will create the file if it does not already exist\n",
    "                h:hopen filePath;\n",
    "                //adding protected eval here - just wrapping original funciton in lambda, \n",
    "                @[{neg[x] each y}[h];               //monadic funciton to apply\n",
    "                        stringsToWrite;             //funciton input \n",
    "                        {[err] '\"Error writing to file - \",err}];  //function evaluated if error \n",
    "                hclose h;                           //removing our connection to the file \n",
    "                filePath                            //returning as requested the file path\n",
    " }\n",
    "writeText[`:randomFile.txt;(\"Line 0\";\"Line 1\")]"
   ]
  },
  {
   "cell_type": "code",
   "execution_count": null,
   "metadata": {
    "hidden": true
   },
   "outputs": [],
   "source": [
    "//your answer here "
   ]
  },
  {
   "cell_type": "markdown",
   "metadata": {
    "hidden": true,
    "solution2": "hidden",
    "solution2_first": true
   },
   "source": [
    "* `changeDelimiter` - accepts a file path  (e.g. <code>\\`:randomFile.txt</code>), old delimiter, and new delimiter as its arguments and does not need to return anything (It can if you wish). The function should modify the file by replacing the old delimiter with the new one.\n",
    "\n",
    "Example:\n",
    "\n",
    "    changeDelimiter[`:randomFile.txt;\" \";\",\"]\n",
    "    \"Line,0\"\n",
    "    \"Line,1\""
   ]
  },
  {
   "cell_type": "code",
   "execution_count": null,
   "metadata": {
    "hidden": true,
    "solution2": "hidden"
   },
   "outputs": [],
   "source": [
    "changeDelimiter:{x 0: ssr[;y;z]each read0 x;read0 x} //change delimiter and read in updated file to return\n",
    "changeDelimiter[`:randomFile.txt;\" \";\",\"]"
   ]
  },
  {
   "cell_type": "code",
   "execution_count": null,
   "metadata": {
    "hidden": true
   },
   "outputs": [],
   "source": [
    "//your answer here "
   ]
  },
  {
   "cell_type": "markdown",
   "metadata": {
    "hidden": true,
    "solution2": "hidden",
    "solution2_first": true
   },
   "source": [
    "* `writeCSV` - accepts a file path  (e.g. <code>\\`:myTable.csv</code>) and a table. The function should write the table to disk in CSV format and return the file path indicating a successful write. An `animals` table has been created for you to test your code\n",
    "\n",
    "Example:\n",
    "\n",
    "    writeCSV[`:myTable.csv;animals]\n",
    "    `:myTable.csv"
   ]
  },
  {
   "cell_type": "code",
   "execution_count": null,
   "metadata": {
    "hidden": true,
    "solution2": "hidden"
   },
   "outputs": [],
   "source": [
    "writeCSV:{x 0: csv 0: y}\n",
    "\n",
    "writeCSV[`:myTable.csv;animals]"
   ]
  },
  {
   "cell_type": "code",
   "execution_count": null,
   "metadata": {
    "hidden": true
   },
   "outputs": [],
   "source": [
    "//your answer here "
   ]
  },
  {
   "cell_type": "code",
   "execution_count": null,
   "metadata": {
    "hidden": true
   },
   "outputs": [],
   "source": [
    "//you can test out your answer using your loadCSV1 function\n",
    "loadCSV1[`:myTable.csv;\"S*J\"]"
   ]
  },
  {
   "cell_type": "markdown",
   "metadata": {
    "heading_collapsed": true
   },
   "source": [
    "## Complex Functions"
   ]
  },
  {
   "cell_type": "markdown",
   "metadata": {
    "hidden": true,
    "solution2": "hidden",
    "solution2_first": true
   },
   "source": [
    "* `writePipeDelimitedTable` - accepts a file path and a q table as its two arguments, writes the q table to the file in text format, delimited by pipe (|), and returns the file path indicating a successful write\n",
    "\n",
    "*Code golf solution 12 character including {}*\n",
    "\n",
    "Example:\n",
    "\n",
    "    trade:([]date:.z.d+til 10;sym:10?`IBM`KX`JPM;price:10?100.)\n",
    "    writePipeDelimitedTable[`:myPipeFile.txt;trade]\n",
    "    `:myPipeFile.txt"
   ]
  },
  {
   "cell_type": "code",
   "execution_count": null,
   "metadata": {
    "hidden": true,
    "solution2": "hidden"
   },
   "outputs": [],
   "source": [
    "trade:([]date:.z.d+til 10;sym:10?`IBM`KX`JPM;price:10?100.) //creating trade table\n",
    "writePipeDelimitedTable:{[filePath;table]\n",
    "         filePath 0: \"|\" 0: table }      //we can use 0: to first parse the table to pipe delimited strings \n",
    "                                            //then we use 0: to save the string data to the filename provided\n",
    "                                            //more info here: https://code.kx.com/q/ref/file-text/#save-text\n",
    "writePipeDelimitedTable[`:myPipeFile.txt;10 sublist trade]\n",
    "/read0 `:myPipeFile.txt"
   ]
  },
  {
   "cell_type": "code",
   "execution_count": null,
   "metadata": {
    "hidden": true,
    "solution2": "hidden"
   },
   "outputs": [],
   "source": [
    "//code golf solution\n",
    "writePipeDelimitedTable:{x 0:\"|\"0:y}\n",
    "writePipeDelimitedTable[`:myPipeFile.txt;10 sublist trade]\n",
    "read0 `:myPipeFile.txt"
   ]
  },
  {
   "cell_type": "code",
   "execution_count": null,
   "metadata": {
    "hidden": true
   },
   "outputs": [],
   "source": [
    "//your answer here "
   ]
  },
  {
   "cell_type": "markdown",
   "metadata": {
    "hidden": true,
    "solution2": "hidden",
    "solution2_first": true
   },
   "source": [
    "*  `readBinaryAndCreateVariable` - accepts a symbol (not a hsym) (e.g <code>\\`myList</code>) as its sole argument, which represents the name of a binary file in the current directory (`\\pwd`). <br> The function should read in this binary file and create a global variable in the root namespace of the process with this name, and the variable should contain whatever is in the file. <br> Finally the function should return the argument that was passed in, indicating successful creation of the variable \n",
    "\n",
    "*Code golf solution - 18 characters including {}*\n",
    "\n",
    "Example:\n",
    "\n",
    "    `:myList set til 10\n",
    "    `:myList\n",
    "    \n",
    "    readBinaryAndCreateVariable[`myList]\n",
    "    `myList\n",
    "    \n",
    "    myList\n",
    "    0 1 2 3 4 5 6 7 8 9"
   ]
  },
  {
   "cell_type": "code",
   "execution_count": null,
   "metadata": {
    "hidden": true,
    "solution2": "hidden"
   },
   "outputs": [],
   "source": [
    "readBinaryAndCreateVariable:{[filenameOnDisk] \n",
    "            fileHandle: hsym filenameOnDisk;  //getting the hsym of the filename\n",
    "            v: get fileHandle;                //retreive the kdb+/q value \n",
    "            filenameOnDisk set v              //setting the value as a variable locally\n",
    "    };\n",
    "`:myList set til 10                           //making a variable in the local directory for testing \n",
    "\n",
    "readBinaryAndCreateVariable[`myList]\n",
    "myList "
   ]
  },
  {
   "cell_type": "code",
   "execution_count": null,
   "metadata": {
    "hidden": true,
    "solution2": "hidden"
   },
   "outputs": [],
   "source": [
    "readBinaryAndCreateVariable:{x set get hsym x}   //code golf \n",
    "readBinaryAndCreateVariable `myList \n",
    "myList "
   ]
  },
  {
   "cell_type": "code",
   "execution_count": null,
   "metadata": {
    "hidden": true
   },
   "outputs": [],
   "source": [
    "//your answer here "
   ]
  },
  {
   "cell_type": "markdown",
   "metadata": {
    "hidden": true,
    "solution2": "hidden",
    "solution2_first": true
   },
   "source": [
    "* `loadCSV2` - accepts arguments; file path and types, where file path is a symbol or hsym and types is a string. The function will load in the table from the CSV and cast the columns to the specified type. The function implementation should NOT use 0: <br>\n",
    "Note: we assume the data in the CSV includes a table heading. You can use the same `` `:quote.csv`` file generated previously.\n",
    "\n",
    "Example:\n",
    "\n",
    "    loadCSV2[`:quote.csv;\"SFJ\"]\n",
    "    sym ask  bid\n",
    "    ------------\n",
    "    JPM 23.5 12 \n",
    "    GE  33.2 41 \n",
    "    BP  45.9 46 \n",
    "\n",
    "    quote~loadCSV2[`:quote.csv;\"SFJ\"]\n",
    "    1b"
   ]
  },
  {
   "cell_type": "code",
   "execution_count": null,
   "metadata": {
    "hidden": true,
    "solution2": "hidden"
   },
   "outputs": [],
   "source": [
    "loadCSV2:{\n",
    "    txt:read0 x;             // reads in the file as text\n",
    "    c:`$\",\"vs txt 0;         // indexes into the first item (\"row\"), splits it based on \",\" and then casts to syms - this defines our column headers\n",
    "    d:y$flip \",\"vs'1_txt;    // takes the remaining \"rows\" (drops first row), splits them based on \",\" and casts to the correct type for each column - values \n",
    "    flip c!d                 // creates the output table from the column headers (keys) and values\n",
    "    }\n",
    "\n",
    "loadCSV2[`:quote.csv;\"SFJ\"]\n",
    "quote~loadCSV2[`:quote.csv;\"SFJ\"]"
   ]
  },
  {
   "cell_type": "code",
   "execution_count": null,
   "metadata": {
    "hidden": true
   },
   "outputs": [],
   "source": [
    "//your answer here "
   ]
  }
 ],
 "metadata": {
  "kernelspec": {
   "display_name": "Python 3 (ipykernel)",
   "language": "python",
   "name": "python3"
  },
  "language_info": {
   "codemirror_mode": {
    "name": "ipython",
    "version": 3
   },
   "file_extension": ".py",
   "mimetype": "text/x-python",
   "name": "python",
   "nbconvert_exporter": "python",
   "pygments_lexer": "ipython3",
   "version": "3.11.10"
  },
  "toc": {
   "base_numbering": 1,
   "nav_menu": {},
   "number_sections": true,
   "sideBar": true,
   "skip_h1_title": false,
   "title_cell": "Table of Contents",
   "title_sidebar": "Contents",
   "toc_cell": false,
   "toc_position": {},
   "toc_section_display": true,
   "toc_window_display": false
  }
 },
 "nbformat": 4,
 "nbformat_minor": 4
}