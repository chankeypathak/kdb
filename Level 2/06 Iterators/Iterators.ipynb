{
 "cells": [
  {
   "cell_type": "code",
   "metadata": {
    "autorun": true,
    "editable": false,
    "tags": [
     "remove-cell"
    ],
    "jupyter": {
     "source_hidden": true,
     "outputs_hidden": true
    },
    "collapsed": true
   },
   "source": [
    "#;.pykx.disableJupyter()"
   ]
  },
  {
   "cell_type": "code",
   "metadata": {
    "autorun": true,
    "editable": false,
    "tags": [
     "remove-cell"
    ],
    "jupyter": {
     "source_hidden": true,
     "outputs_hidden": true
    },
    "collapsed": true
   },
   "source": [
    "# https://code.kx.com/pykx/3.0/examples/jupyter-integration.html#q-first-mode\n",
    "import pykx as kx\n",
    "kx.util.jupyter_qfirst_enable()"
   ]
  },
  {
   "cell_type": "markdown",
   "metadata": {
    "heading_collapsed": true
   },
   "source": [
    "# Iterators\n",
    "**Learning objectives**\n",
    "\n",
    "To understand:\n",
    "* What are iterators?\n",
    "* Mapping iterators\n",
    "* Accumulating iterators\n",
    "* Where to learn more"
   ]
  },
  {
   "cell_type": "markdown",
   "metadata": {
    "heading_collapsed": true
   },
   "source": [
    "# Iterators - Introduction"
   ]
  },
  {
   "cell_type": "markdown",
   "metadata": {
    "hidden": true
   },
   "source": [
    "Iterators (previously known as adverbs) modify the behaviour of a **function** in the following way:\n",
    "* Changes the function's application so that it is applied **iteratively**. \n",
    "* Replaces the use of loops as commonly seen in other programming languages "
   ]
  },
  {
   "cell_type": "markdown",
   "metadata": {
    "heading_collapsed": true
   },
   "source": [
    "# What are iterators?"
   ]
  },
  {
   "cell_type": "markdown",
   "metadata": {
    "heading_collapsed": true,
    "hidden": true
   },
   "source": [
    "##### Latent Iteration \n",
    "\n",
    "Before moving onto the specific iteration functions note that kdb+/q, in many cases, already acts in  a *vector* fashion, with 2 vectors:"
   ]
  },
  {
   "cell_type": "code",
   "execution_count": null,
   "metadata": {
    "hidden": true
   },
   "outputs": [],
   "source": [
    "1 2 3+ 2 3 4 //natively pairwise"
   ]
  },
  {
   "cell_type": "markdown",
   "metadata": {
    "hidden": true
   },
   "source": [
    "or with a scalar (atomic value) and a vector:"
   ]
  },
  {
   "cell_type": "code",
   "execution_count": null,
   "metadata": {
    "hidden": true
   },
   "outputs": [],
   "source": [
    "2* 5 6 7 "
   ]
  },
  {
   "cell_type": "markdown",
   "metadata": {
    "hidden": true
   },
   "source": [
    "No need for loops!\n",
    "\n",
    "Cases with ambiguity will throw an error - e.g. if we try to add `2 3` to `4 5 6`:"
   ]
  },
  {
   "cell_type": "code",
   "execution_count": null,
   "metadata": {
    "hidden": true
   },
   "outputs": [],
   "source": [
    "2 3 + 4 5 6"
   ]
  },
  {
   "cell_type": "markdown",
   "metadata": {},
   "source": [
    "# Mapping iterators\n",
    "Modify a function's application to iterate across every item in a list and are kdb+'s idea of a \"for\" loop. "
   ]
  },
  {
   "cell_type": "markdown",
   "metadata": {},
   "source": [
    "This iteration is explicit in our naming of these operators, all of which are known as some variant of \"each\": \n",
    "\n",
    "* each - (`each`)\n",
    "* parallel each - (`peach`) \n",
    "* each-both - (`'`)\n",
    "* each left - (`\\:` note leaning left at top)\n",
    "* each right - (`/:` note leaning right at top)\n",
    "* each prior - (`':` or `prior`)\n"
   ]
  },
  {
   "cell_type": "markdown",
   "metadata": {
    "heading_collapsed": true
   },
   "source": [
    "## each\n",
    "The [`each`](https://code.kx.com/v2/ref/each/) iterator is used to apply a function to each item in a list - similar to \"for x in list; do function(x)\" in other languages.  "
   ]
  },
  {
   "cell_type": "markdown",
   "metadata": {
    "hidden": true
   },
   "source": [
    "With a list of lists, we can use the operator count to tell us how many items we have in our list: "
   ]
  },
  {
   "cell_type": "code",
   "execution_count": null,
   "metadata": {
    "hidden": true
   },
   "outputs": [],
   "source": [
    "show L:(1 2 3;10 20i;30 40 50f;60)\n",
    "count L   //we have 4 items in our list"
   ]
  },
  {
   "cell_type": "markdown",
   "metadata": {
    "hidden": true
   },
   "source": [
    "To modify `count` so that it applies to each element in the list, use `each`: "
   ]
  },
  {
   "cell_type": "code",
   "execution_count": null,
   "metadata": {
    "hidden": true
   },
   "outputs": [],
   "source": [
    "count L\n",
    "count each L //how many elements are in each list"
   ]
  },
  {
   "cell_type": "markdown",
   "metadata": {
    "hidden": true
   },
   "source": [
    "We can apply different monadic functions to the **each** iterator. See some examples below: "
   ]
  },
  {
   "cell_type": "code",
   "execution_count": null,
   "metadata": {
    "hidden": true
   },
   "outputs": [],
   "source": [
    "type each L     // determining the type of each list\n",
    "reverse each L  // reverse each list"
   ]
  },
  {
   "cell_type": "markdown",
   "metadata": {
    "hidden": true
   },
   "source": [
    "The above examples use infix notation, i.e. `monadicFunc each arg_list`.\n",
    "\n",
    "We can also use the bracket notation:"
   ]
  },
  {
   "cell_type": "code",
   "execution_count": null,
   "metadata": {
    "hidden": true
   },
   "outputs": [],
   "source": [
    "each[avg;L]   //each modifies the behaviour of avg so that it is applied to each item of the list L "
   ]
  },
  {
   "cell_type": "markdown",
   "metadata": {
    "hidden": true
   },
   "source": [
    "`each` will not work with multivalent functions, only functions which take one argument. \n",
    "\n",
    "The keyword [`in`](https://code.kx.com/q/ref/in/) as an example takes two inputs: "
   ]
  },
  {
   "cell_type": "code",
   "execution_count": null,
   "metadata": {
    "hidden": true
   },
   "outputs": [],
   "source": [
    "3 in 1 2      //in takes two inputs\n",
    "3 in 1 2 3 4  //infix notation \n",
    "in[3;1 2 3 5] //functional notation"
   ]
  },
  {
   "cell_type": "code",
   "execution_count": null,
   "metadata": {
    "hidden": true
   },
   "outputs": [],
   "source": [
    "3 in each (1; 1 2 ; 3 4 )  //this doesn't work - how would you write this functionally?"
   ]
  },
  {
   "cell_type": "markdown",
   "metadata": {
    "hidden": true
   },
   "source": [
    "We can project the function `in` to a single input function by fixing the first parameter:"
   ]
  },
  {
   "cell_type": "code",
   "execution_count": null,
   "metadata": {
    "hidden": true
   },
   "outputs": [],
   "source": [
    "isThreeIn:3 in        // create a projection of in, making a monadic function that can now be used with each\n",
    "isThreeIn"
   ]
  },
  {
   "cell_type": "code",
   "execution_count": null,
   "metadata": {
    "hidden": true
   },
   "outputs": [],
   "source": [
    "isThreeIn 2 3 4 5"
   ]
  },
  {
   "cell_type": "code",
   "execution_count": null,
   "metadata": {
    "hidden": true
   },
   "outputs": [],
   "source": [
    "isThreeIn each(1;1 4;2 3;3 5 6)"
   ]
  },
  {
   "cell_type": "markdown",
   "metadata": {
    "hidden": true
   },
   "source": [
    "<img src=\"../qbies.png\" width=\"50px\" style=\"width: 50px;padding-right:5px;padding-top:15px;padding-left:5px;\" align=\"left\"/>\n",
    "\n",
    "<p style='color:#273a6e'><i> Since <code>each</code> applies functions to every argument in a list, aggregate functions like <code>max</code> which we have seen return atomic values, will return <b>lists</b> of atomic values when used in conjunction with each. </i></p>\n"
   ]
  },
  {
   "cell_type": "markdown",
   "metadata": {
    "hidden": true,
    "solution2": "hidden",
    "solution2_first": true
   },
   "source": [
    "##### Exercise \n",
    "`L:(1 2 3;10 20i;30 40 50f;60)`\n",
    "* Find the first element of L (no iterator required) \n",
    "* Find the first element of each item in L (indexing won't work for this - do you know why?)\n",
    "* Find the min of each element of L"
   ]
  },
  {
   "cell_type": "code",
   "execution_count": null,
   "metadata": {
    "hidden": true,
    "solution": "shown",
    "solution2": "hidden"
   },
   "outputs": [],
   "source": [
    "show L:(1 2 3;10 20i;30 40 50f;60)"
   ]
  },
  {
   "cell_type": "code",
   "execution_count": null,
   "metadata": {
    "hidden": true,
    "solution": "shown",
    "solution2": "hidden"
   },
   "outputs": [],
   "source": [
    "//first element of L\n",
    "first L \n",
    "first each L "
   ]
  },
  {
   "cell_type": "code",
   "execution_count": null,
   "metadata": {
    "hidden": true,
    "solution2": "hidden"
   },
   "outputs": [],
   "source": [
    "// (indexing won't work for this - do you know why?)\n",
    "L[;0]  //elide the index for each item "
   ]
  },
  {
   "cell_type": "code",
   "execution_count": null,
   "metadata": {
    "hidden": true,
    "solution2": "hidden"
   },
   "outputs": [],
   "source": [
    "//this doesn't work because not each item in our list L is a list itself \n",
    "type each L  //the final item is an atom, and we can't index into an atomic value \n",
    "3f[0]"
   ]
  },
  {
   "cell_type": "code",
   "execution_count": null,
   "metadata": {
    "hidden": true,
    "solution": "hidden",
    "solution2": "hidden"
   },
   "outputs": [],
   "source": [
    "//mininum element in each item of L\n",
    "min each L"
   ]
  },
  {
   "cell_type": "code",
   "execution_count": null,
   "metadata": {
    "hidden": true
   },
   "outputs": [],
   "source": [
    "//Write your code here\n"
   ]
  },
  {
   "cell_type": "markdown",
   "metadata": {
    "hidden": true,
    "solution2": "hidden",
    "solution2_first": true
   },
   "source": [
    "##### Exercise \n",
    "\n",
    "Using the keyword [`within`](https://code.kx.com/q/ref/within/) (and by creating a projection) test if `5` is within each of the following ranges: `(3 6; 4 8; 10 15)`"
   ]
  },
  {
   "cell_type": "code",
   "execution_count": null,
   "metadata": {
    "hidden": true,
    "solution2": "hidden"
   },
   "outputs": [],
   "source": [
    "within[5] each (3 6; 4 8; 10 15)"
   ]
  },
  {
   "cell_type": "code",
   "execution_count": null,
   "metadata": {
    "hidden": true
   },
   "outputs": [],
   "source": [
    "//Write your code here \n"
   ]
  },
  {
   "cell_type": "markdown",
   "metadata": {
    "heading_collapsed": true
   },
   "source": [
    "## Parallel each (`':` or `peach`)\n",
    "\n",
    "[Parallel each](https://code.kx.com/q/basics/peach/) - `peach` is the same as `each` but makes use of secondary threads if available. "
   ]
  },
  {
   "cell_type": "markdown",
   "metadata": {
    "hidden": true
   },
   "source": [
    "We can check if we have secondary threads with the following command: "
   ]
  },
  {
   "cell_type": "code",
   "execution_count": null,
   "metadata": {
    "hidden": true
   },
   "outputs": [],
   "source": [
    "//check secondary thread setting \n",
    "\\s       "
   ]
  },
  {
   "cell_type": "code",
   "execution_count": null,
   "metadata": {
    "hidden": true
   },
   "outputs": [],
   "source": [
    "\\t:100 ({sum exp x?1.0}' )4#1000000  / each"
   ]
  },
  {
   "cell_type": "code",
   "execution_count": null,
   "metadata": {
    "hidden": true
   },
   "outputs": [],
   "source": [
    "\\t:100 ({sum exp x?1.0}':)4#1000000  / peach"
   ]
  },
  {
   "cell_type": "markdown",
   "metadata": {
    "hidden": true
   },
   "source": [
    "<img src=\"../qbies.png\" width=\"50px\" style=\"width: 50px;padding-right:5px;padding-top:15px;padding-left:5px;\" align=\"left\"/>\n",
    "\n",
    "<p style='color:#273a6e'><i> An important thing to know about parallel execution in kdb+/q is that secondary threads can't update the main process - we will get a <code>noupdate</code> error if our code tries to! </i></p>"
   ]
  },
  {
   "cell_type": "markdown",
   "metadata": {},
   "source": [
    "## each-both\n",
    "\n",
    "The dyadic iterator `'` (known as [each-both](https://code.kx.com/q/ref/maps/#each)), modifies a functions operation to use the items from two lists of the same length in a pairwise fashion (or using a list and an atom). "
   ]
  },
  {
   "cell_type": "markdown",
   "metadata": {},
   "source": [
    "This dyadic iterator can be applied to a dyadic function. Let's take `#` as an example:"
   ]
  },
  {
   "cell_type": "code",
   "execution_count": null,
   "metadata": {},
   "outputs": [],
   "source": [
    "H:(\"the\";\"quick\";\"brown\";\"fox\")   // list\n",
    "3#H                               // take the first 3 items of the list"
   ]
  },
  {
   "cell_type": "markdown",
   "metadata": {},
   "source": [
    "To see the pairwise nature of each-both we change the left-hand-side argument to be a list of equal length to our list `H`: "
   ]
  },
  {
   "cell_type": "code",
   "execution_count": null,
   "metadata": {},
   "outputs": [],
   "source": [
    "1 2 3 4#'H       //infix - pairing the operation # to be applied between corresponding values in H and (1 2 3 4) \n",
    "'[#][1 2 3 4;H]  //funcitonal notation - ' is operating on # to modify it's behaviour\n",
    "#'[1 2 3 4;H]    //another funtional form (without being \"funcitonal\" about the arugment to ')"
   ]
  },
  {
   "cell_type": "markdown",
   "metadata": {},
   "source": [
    "We can use the each-both iterator with an atom also:"
   ]
  },
  {
   "cell_type": "code",
   "execution_count": null,
   "metadata": {},
   "outputs": [],
   "source": [
    "3#'H                         // \"3 take each-both\" - here the atomic value is extended, like with 2 + 1 2 3 \n",
    "#[3] each H                  // equivalent - since we're not using pairwise nature"
   ]
  },
  {
   "cell_type": "markdown",
   "metadata": {},
   "source": [
    "\n",
    "`3#'H` (three take each-both H) returns the first three items of each item."
   ]
  },
  {
   "cell_type": "markdown",
   "metadata": {},
   "source": [
    "<img src=\"../qbies.png\" width=\"50px\" style=\"width: 50px;padding-right:5px;padding-top:5px;padding-left:5px;\" align=\"left\"/>\n",
    "\n",
    "<p style='color:#273a6e'><i> Each-both can only be applied to lists of equal length or when using a list with an atom.</i></p>"
   ]
  },
  {
   "cell_type": "markdown",
   "metadata": {},
   "source": [
    "Returning to our example using `in` from before, we can avoid the projection by instead using `'` for this purpose."
   ]
  },
  {
   "cell_type": "code",
   "execution_count": null,
   "metadata": {},
   "outputs": [],
   "source": [
    "3 in'(1;1 4;2 3;3 5 6)\n",
    "3 3 3 3 in'(1;1 4;2 3;3 5 6)  //equivalent"
   ]
  },
  {
   "cell_type": "markdown",
   "metadata": {},
   "source": [
    "If we wanted to do this pairwise for other values we can extend to that: "
   ]
  },
  {
   "cell_type": "code",
   "execution_count": null,
   "metadata": {},
   "outputs": [],
   "source": [
    "3 1 2 4 in' (1;1 4;2 3;3 5 6)"
   ]
  },
  {
   "cell_type": "markdown",
   "metadata": {
    "solution2": "hidden",
    "solution2_first": true
   },
   "source": [
    "##### Exercise\n",
    "Join `(\"ni ff\";1 2 3)` and `(\"o tsalB\";4 5)` so that numbers are together and letters are together and assign this new list to a variable `spaceship`. Finally, reverse the order of each item of the list."
   ]
  },
  {
   "cell_type": "code",
   "execution_count": null,
   "metadata": {
    "solution": "hidden",
    "solution2": "hidden"
   },
   "outputs": [],
   "source": [
    "//joining and assigning to new variable spaceship \n",
    "show spaceship: (\"ni ff\";1 2 3),'(\"o tsalB\";4 5)"
   ]
  },
  {
   "cell_type": "code",
   "execution_count": null,
   "metadata": {
    "solution": "hidden",
    "solution2": "hidden"
   },
   "outputs": [],
   "source": [
    "//reversing each item \n",
    "show spaceship:reverse each spaceship"
   ]
  },
  {
   "cell_type": "code",
   "execution_count": null,
   "metadata": {},
   "outputs": [],
   "source": [
    "//Write your code here"
   ]
  },
  {
   "cell_type": "markdown",
   "metadata": {
    "heading_collapsed": true
   },
   "source": [
    "##  each-left (`\\:`) and each-right (`/:`)\n",
    "\n",
    "If we have two lists and we want to use one list as an individual argument and the other list as an iterative input we can use these two iterators."
   ]
  },
  {
   "cell_type": "markdown",
   "metadata": {
    "hidden": true
   },
   "source": [
    "The iterators [each-left](https://code.kx.com/q/ref/maps/#each-left-and-each-right) and [each-right](https://code.kx.com/q/ref/maps/#each-left-and-each-right), denoted by `\\:` (backslash colon) and `/:` (forward slash colon) modify dyadic functions and operators. \n",
    "\n",
    "Each-left will modify a function to take the entire second argument as one input, and then apply the function iteratively to each item of the first argument. Similarly, each-right does the same but in the other direction.\n",
    "\n",
    "**each-right**\n",
    "\n",
    "Previously we tried to add `2 3` to `3 4 5` which threw a `'length` error. If we want to add `2 3` to each item of `3 4 5` we can do so using each-right (`/:`) to modify `+` as follows:"
   ]
  },
  {
   "cell_type": "code",
   "execution_count": null,
   "metadata": {
    "hidden": true
   },
   "outputs": [],
   "source": [
    "2 3 +/: 3 4 5   //adding 2 3 to each item to the right"
   ]
  },
  {
   "cell_type": "markdown",
   "metadata": {
    "hidden": true
   },
   "source": [
    "This is the same as individually doing:"
   ]
  },
  {
   "cell_type": "code",
   "execution_count": null,
   "metadata": {
    "hidden": true
   },
   "outputs": [],
   "source": [
    "(2 3) + 3\n",
    "(2 3) + 4\n",
    "(2 3) + 5"
   ]
  },
  {
   "cell_type": "markdown",
   "metadata": {
    "hidden": true
   },
   "source": [
    "Other examples:"
   ]
  },
  {
   "cell_type": "code",
   "execution_count": null,
   "metadata": {
    "hidden": true
   },
   "outputs": [],
   "source": [
    "2 3 ,/: 3 4 5   //joining 2 3 to each item to the right\n",
    "2 3 */: 3 4 5   //multiplying 2 3 by each item to the right"
   ]
  },
  {
   "cell_type": "markdown",
   "metadata": {
    "hidden": true
   },
   "source": [
    "Applying `/:` returns a list with the same number of items as our RHS argument since that is what we have iterated over. In the case of `+` and `*` each sublist has the same number of items as our LHS. \n",
    "\n",
    "**each-left**\n",
    "\n",
    "What do you expect to be different in our output and behaviour when we use `\\:`? "
   ]
  },
  {
   "cell_type": "code",
   "execution_count": null,
   "metadata": {
    "hidden": true
   },
   "outputs": [],
   "source": [
    "2 3 +\\: 3 4 5   //adding 3 4 5 to each item to the left\n",
    "2 3 ,\\: 3 4 5   //joining 3 4 5 to each item to the left\n",
    "2 3 *\\: 3 4 5   //multiplying 3 4 5 by each item to the left"
   ]
  },
  {
   "cell_type": "markdown",
   "metadata": {
    "hidden": true
   },
   "source": [
    "Looking at the `in` operator again, we can extend our behaviour beyond our previous example and check for multiple values as follows:"
   ]
  },
  {
   "cell_type": "code",
   "execution_count": null,
   "metadata": {
    "hidden": true
   },
   "outputs": [],
   "source": [
    "3 in'(1;1 4;2 3;3 5 6)         //previously \n",
    "3 4 in/:(1;1 4;2 3;3 5 6)      //extended to check for both 3 and 4  "
   ]
  },
  {
   "cell_type": "markdown",
   "metadata": {
    "hidden": true
   },
   "source": [
    "Take time to work through what's really happening in the above and make sure you're comfortable with it!"
   ]
  },
  {
   "cell_type": "markdown",
   "metadata": {
    "hidden": true
   },
   "source": [
    "**Common usage** \n",
    "\n",
    "Knowing what we now know about iterators, we can extend the functionality of `like` to compare our string with multiple patterns.  "
   ]
  },
  {
   "cell_type": "code",
   "execution_count": null,
   "metadata": {
    "hidden": true
   },
   "outputs": [],
   "source": [
    "show L:(\"kdb+ is the fastest time-series database\";\"kdb+/q  has a lambda architecture\";\"q is the programming language\") \n",
    "L like\\: \"*kdb+*\" "
   ]
  },
  {
   "cell_type": "markdown",
   "metadata": {
    "hidden": true
   },
   "source": [
    "We might want to check for a number of patterns within a column. \n",
    "\n",
    "We can use `/:` to check if our column matches any of our patterns: "
   ]
  },
  {
   "cell_type": "code",
   "execution_count": null,
   "metadata": {
    "hidden": true
   },
   "outputs": [],
   "source": [
    "//defining orderIDs and patterns we are searching for \n",
    "ids: (\"A123\";\"A234\";\"B123\";\"B234\")\n",
    "patterns:(\"A*\";\"*123\") "
   ]
  },
  {
   "cell_type": "code",
   "execution_count": null,
   "metadata": {
    "hidden": true
   },
   "outputs": [],
   "source": [
    "//looking for our patterns \n",
    "patternCheck: ids like/: patterns    //we get booleans indicating for each id if they match the pattern\n",
    "patternCheck"
   ]
  },
  {
   "cell_type": "code",
   "execution_count": null,
   "metadata": {
    "hidden": true
   },
   "outputs": [],
   "source": [
    "//do we have any matches? Which IDs matched? \n",
    "any patternCheck                          //using \"any\" we can check if the ids match with any of the patterns\n",
    "ids where any patternCheck                //putting it together using \"where\" we can retrieve the matching IDs!"
   ]
  },
  {
   "cell_type": "markdown",
   "metadata": {
    "hidden": true
   },
   "source": [
    "<img src=\"../qbies.png\" width=\"50px\" style=\"width: 50px;padding-right:5px;padding-top:10px;padding-left:5px;\" align=\"left\"/>\n",
    "\n",
    "<p style='color:#273a6e'><i>Checking for multiple patterns in string columns within a table is a <b>very</b> common occurrence! The syntax for this is <code>any stringCol like/: patterns</code>.</i></p>"
   ]
  },
  {
   "cell_type": "markdown",
   "metadata": {
    "hidden": true,
    "solution2": "hidden",
    "solution2_first": true
   },
   "source": [
    "##### Exercise\n",
    "Create a multiplication matrix using the list `0 1 2 3 4`. That is, a matrix whose (ij) entry is `i*j` which should look like:\n",
    "\n",
    "\n",
    "    0  0  0  0  0\n",
    "    0  1  2  3  4\n",
    "    0  2  4  6  8\n",
    "    0  3  6  9  12\n",
    "    0  4  8  12 16"
   ]
  },
  {
   "cell_type": "code",
   "execution_count": null,
   "metadata": {
    "hidden": true,
    "solution2": "hidden"
   },
   "outputs": [],
   "source": [
    "row: til 5 \n",
    "row*/:row    //multiply by each right\n",
    "row*\\:row    //multiplying by each left is the same in this case since both sides are the same i.e. row~row"
   ]
  },
  {
   "cell_type": "code",
   "execution_count": null,
   "metadata": {
    "hidden": true
   },
   "outputs": [],
   "source": [
    "//write your code here"
   ]
  },
  {
   "cell_type": "markdown",
   "metadata": {
    "hidden": true,
    "solution2": "hidden",
    "solution2_first": true
   },
   "source": [
    "##### Bonus Code Golf Answer\n",
    "\n",
    "Code golf is the like the real game of golf where scoring lower is better! If you want to challenge yourself the minimal character count for this is 11 - can you get it?"
   ]
  },
  {
   "cell_type": "code",
   "execution_count": null,
   "metadata": {
    "hidden": true,
    "solution2": "hidden"
   },
   "outputs": [],
   "source": [
    "i*\\:i:til 5"
   ]
  },
  {
   "cell_type": "markdown",
   "metadata": {
    "heading_collapsed": true
   },
   "source": [
    "## Each Prior (`':` or `prior`)\n",
    "[Each prior](https://code.kx.com/q/ref/maps/#each-prior) `':` modifies a dyadic function to apply the function to each adjacent pair of items in a list."
   ]
  },
  {
   "cell_type": "markdown",
   "metadata": {
    "hidden": true
   },
   "source": [
    " The `prior` iterator is [uniform](https://code.kx.com/q/basics/glossary/#uniform-function) on its argument, meaning that the output is the same length as the input.\n",
    " \n",
    "Each prior can be called either using `':` or by the keyword `prior` and is best illustrated by example:"
   ]
  },
  {
   "cell_type": "code",
   "execution_count": null,
   "metadata": {
    "hidden": true
   },
   "outputs": [],
   "source": [
    "0 +': 1 2 3\n",
    "+':[1 2 3]         //same result as above but different syntax\n",
    "prior[+;1 2 3]     //using prior - infix syntax (+) prior 1 2 3"
   ]
  },
  {
   "cell_type": "markdown",
   "metadata": {
    "hidden": true
   },
   "source": [
    "In all the above return, our result is 1 (the first element) joined with (1+2) then (2+3). "
   ]
  },
  {
   "cell_type": "markdown",
   "metadata": {
    "hidden": true
   },
   "source": [
    "<img src=\"../qbies.png\" width=\"50px\" style=\"width: 50px;padding-right:5px;padding-top:5px;padding-left:5px;\" align=\"left\"/>\n",
    "\n",
    "<p style='color:#273a6e'><i> It is good coding practice to use the <code>prior</code> keyword for clarity.</i></p> "
   ]
  },
  {
   "cell_type": "markdown",
   "metadata": {
    "hidden": true
   },
   "source": [
    "It is more common to use `-` with this iterator since in time-series analysis its usually more helpful to know how something has changed: "
   ]
  },
  {
   "cell_type": "code",
   "execution_count": null,
   "metadata": {
    "hidden": true
   },
   "outputs": [],
   "source": [
    "0 -': 1 2 3 60 62 62\n",
    "-':[1 2 3 60 62 62] //same result as above but different syntax"
   ]
  },
  {
   "cell_type": "markdown",
   "metadata": {
    "hidden": true
   },
   "source": [
    "<img src=\"../qbies.png\" width=\"50px\" style=\"width: 50px;padding-right:5px;padding-top:15px;padding-left:5px;\" align=\"left\"/>\n",
    "\n",
    "<p style='color:#273a6e'><i> Some uses of each prior were so common that keywords were added to perform those operations - e.g. <code>deltas</code> which is actually <code>-':</code>.  It is good coding practice to use <code>deltas</code>. </i></p> "
   ]
  },
  {
   "cell_type": "code",
   "execution_count": null,
   "metadata": {
    "hidden": true
   },
   "outputs": [],
   "source": [
    "-':[200 300 100 500 400 200 100 -200 400 -100]\n",
    "deltas 200 300 100 500 400 200 100 -200 400 -100 "
   ]
  },
  {
   "cell_type": "markdown",
   "metadata": {
    "hidden": true,
    "solution2": "hidden",
    "solution2_first": true
   },
   "source": [
    "##### Exercise \n",
    "\n",
    "* Create a function called `myMax` that will return the max of two inputs\n",
    "* Use this function with each Prior (`':`) to return the pairwise rolling maximum across the list `(20 30 2 3 20 40 70)`"
   ]
  },
  {
   "cell_type": "code",
   "execution_count": null,
   "metadata": {
    "hidden": true,
    "solution2": "hidden"
   },
   "outputs": [],
   "source": [
    "myMax:{max x,y}\n",
    "myMax':[20 30 2 3 20 40 70]"
   ]
  },
  {
   "cell_type": "code",
   "execution_count": null,
   "metadata": {
    "hidden": true
   },
   "outputs": [],
   "source": [
    "//Write your code here"
   ]
  },
  {
   "cell_type": "markdown",
   "metadata": {
    "heading_collapsed": true
   },
   "source": [
    "# Further Reading \n",
    " \n",
    "Iterators are a very interesting and advanced topic in kdb+/q - there is a good chance the more of them you use, the more efficient your code is."
   ]
  },
  {
   "cell_type": "markdown",
   "metadata": {
    "hidden": true
   },
   "source": [
    "**Accumulating iterators**\n",
    "\n",
    "[Accumulation](https://code.kx.com/q/ref/accumulators/) iterators execute repeatedly over the values returned from calling the modified function. \n",
    "\n",
    "There are two accumulator iterations in kdb+/q, both of which operate in the exact same fashion, excepting their return value. These functions are: \n",
    "* Scan (`\\`) \n",
    "* Over (`/`)\n",
    "\n",
    "The difference between the two is that when scan (`\\`) returns the intermediate values associated with each execution, while over (`/`) returns just the final value. Over requires less memory. \n",
    "\n",
    "These are *advanced iterators* and are covered in the **Advanced kdb+** course, though some small introduction to these is given in the Practical Guidance sheet. \n",
    "\n",
    "* The [Iterators](https://code.kx.com/q/wp/iterators/) whitepaper offers a thorough treatment and would be considered valuable additional reading."
   ]
  }
 ],
 "metadata": {
  "kernelspec": {
   "display_name": "Python 3 (ipykernel)",
   "language": "python",
   "name": "python3"
  },
  "language_info": {
   "codemirror_mode": {
    "name": "ipython",
    "version": 3
   },
   "file_extension": ".py",
   "mimetype": "text/x-python",
   "name": "python",
   "nbconvert_exporter": "python",
   "pygments_lexer": "ipython3",
   "version": "3.11.10"
  },
  "toc": {
   "base_numbering": 1,
   "nav_menu": {},
   "number_sections": true,
   "sideBar": true,
   "skip_h1_title": false,
   "title_cell": "Table of Contents",
   "title_sidebar": "Contents",
   "toc_cell": false,
   "toc_position": {
    "height": "calc(100% - 180px)",
    "left": "10px",
    "top": "150px",
    "width": "272px"
   },
   "toc_section_display": true,
   "toc_window_display": true
  }
 },
 "nbformat": 4,
 "nbformat_minor": 2
}