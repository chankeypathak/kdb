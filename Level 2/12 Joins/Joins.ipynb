{
 "cells": [
  {
   "cell_type": "code",
   "metadata": {
    "autorun": true,
    "editable": false,
    "tags": [
     "remove-cell"
    ],
    "jupyter": {
     "source_hidden": true,
     "outputs_hidden": true
    },
    "collapsed": true
   },
   "source": [
    "#;.pykx.disableJupyter()"
   ]
  },
  {
   "cell_type": "code",
   "metadata": {
    "autorun": true,
    "editable": false,
    "tags": [
     "remove-cell"
    ],
    "jupyter": {
     "source_hidden": true,
     "outputs_hidden": true
    },
    "collapsed": true
   },
   "source": [
    "# https://code.kx.com/pykx/3.0/examples/jupyter-integration.html#q-first-mode\n",
    "import pykx as kx\n",
    "kx.util.jupyter_qfirst_enable()"
   ]
  },
  {
   "cell_type": "markdown",
   "metadata": {
    "heading_collapsed": true
   },
   "source": [
    "# Joins"
   ]
  },
  {
   "cell_type": "markdown",
   "metadata": {
    "hidden": true
   },
   "source": [
    "**Learning Outcomes**\n",
    "\n",
    "To understand: \n",
    "+ Simple table joins\n",
    "+ Common Keyed joins - lj, ij\n",
    "+ Bitemporal (asof) joins \n",
    "+ How to use aj "
   ]
  },
  {
   "cell_type": "markdown",
   "metadata": {
    "heading_collapsed": true
   },
   "source": [
    "# Introduction \n",
    "\n",
    "In a conventional database [joins](https://code.kx.com/q/basics/joins/) are primarily associated with tables, in which a join is used to extract data from a lookup table based on a common column or key."
   ]
  },
  {
   "cell_type": "markdown",
   "metadata": {
    "heading_collapsed": true
   },
   "source": [
    "# Simple Table Joins\n",
    "A join combines data from two tables, or from a table and a dictionary. These subsequent joins are considered to be *simple* joins as they do not require the tables to be modified (e.g. keyed) or structured in a particular way (.e.g time sorted) before  joining. "
   ]
  },
  {
   "cell_type": "markdown",
   "metadata": {
    "heading_collapsed": true,
    "hidden": true
   },
   "source": [
    "## Join rows using  `,`\n",
    "\n",
    "The [join operator (`,`)](https://code.kx.com/q/ref/join/) is defined for all datatypes and will perform the action of joining the RHS to the end of the LHS input. We can use `,` to append a record to (a copy of) a table, but no type checking will be performed."
   ]
  },
  {
   "cell_type": "code",
   "execution_count": null,
   "metadata": {
    "hidden": true
   },
   "outputs": [],
   "source": [
    "show t:([] name:`Harry`Ron`Hermione; iq:98 42 126)\n",
    "meta t"
   ]
  },
  {
   "cell_type": "code",
   "execution_count": null,
   "metadata": {
    "hidden": true
   },
   "outputs": [],
   "source": [
    "//joining a dictionary to a table (i.e. a list of dictionaries)\n",
    "show newT:t,`name`iq!(`Dobby; `12)\n",
    "\n",
    "//joining a table (i.e. a list of dictionaries), to a table (i.e. a list of dictionaries)\n",
    "t,([]name:enlist`Dobby;iq:enlist `12)\n",
    "\n",
    "//we see the type of iq is now a mixed list\n",
    "meta newT"
   ]
  },
  {
   "cell_type": "markdown",
   "metadata": {
    "hidden": true
   },
   "source": [
    "We don't see the same behaviour when the keys do not match: "
   ]
  },
  {
   "cell_type": "code",
   "execution_count": null,
   "metadata": {
    "hidden": true
   },
   "outputs": [],
   "source": [
    "t\n",
    "t,flip (`name`iq2!(enlist `Bumble;59))  //the columns aren't the same now"
   ]
  },
  {
   "cell_type": "markdown",
   "metadata": {
    "hidden": true
   },
   "source": [
    "Two keyed tables with the same matching columns can be joined with `,` as well. The right operand is upserted into the left."
   ]
  },
  {
   "cell_type": "code",
   "execution_count": null,
   "metadata": {
    "hidden": true
   },
   "outputs": [],
   "source": [
    "show kt:([eid:1001 1002 1003] name:`Harry`Ron`Hermione; iq:98 42 126)\n",
    "show kt1:([eid:1003 1004] name:`Hermione`Hagrid; iq:`z`)\n",
    "/kt,(([]eid:1003 1004)!([]name:`Hermione`Hagrid;iq:`z`))   //alternative syntax as dictionary of tables\n",
    "kt,kt1                                               //upsert"
   ]
  },
  {
   "cell_type": "markdown",
   "metadata": {
    "hidden": true,
    "solution2": "hidden",
    "solution2_first": true
   },
   "source": [
    "##### Exercise\n",
    "\n",
    "Use `,` to join the following data:\n",
    "    \n",
    "    d:`name`iq!(`Sirius`Ginny;59 42)\n",
    "\n",
    " to `t` as: \n",
    "\n",
    "1. A single row nested in the table `t`\n",
    "* Two separate rows in `t`"
   ]
  },
  {
   "cell_type": "code",
   "execution_count": null,
   "metadata": {
    "hidden": true,
    "solution2": "hidden"
   },
   "outputs": [],
   "source": [
    "show d:`name`iq!(`Sirius`Ginny;59 42)\n",
    "t"
   ]
  },
  {
   "cell_type": "code",
   "execution_count": null,
   "metadata": {
    "hidden": true,
    "solution2": "hidden"
   },
   "outputs": [],
   "source": [
    "t,d       //joining one dictionary to a table (i.e. a list of dictionaries) - each displayed as a row"
   ]
  },
  {
   "cell_type": "code",
   "execution_count": null,
   "metadata": {
    "hidden": true,
    "solution2": "hidden"
   },
   "outputs": [],
   "source": [
    "t,flip d  //swapping our dictionary to a table so each entry is a row before joining"
   ]
  },
  {
   "cell_type": "code",
   "execution_count": null,
   "metadata": {
    "hidden": true
   },
   "outputs": [],
   "source": [
    "//your answer here"
   ]
  },
  {
   "cell_type": "markdown",
   "metadata": {
    "heading_collapsed": true,
    "hidden": true
   },
   "source": [
    "## Join columns using `,'`\n",
    "\n",
    "Two tables with the same number of records can be joined pairwise (or \"sideways\") with join-each `,'` to create a column join in which the columns are aligned in parallel."
   ]
  },
  {
   "cell_type": "code",
   "execution_count": null,
   "metadata": {
    "hidden": true
   },
   "outputs": [],
   "source": [
    "([] c1:`a`b`c),'([] c2:100 200 300)         //join each item of c1 to the correponding item in c2"
   ]
  },
  {
   "cell_type": "markdown",
   "metadata": {
    "hidden": true
   },
   "source": [
    "If we wanted to add a new constant column, we could do the following: "
   ]
  },
  {
   "cell_type": "code",
   "execution_count": null,
   "metadata": {
    "hidden": true
   },
   "outputs": [],
   "source": [
    "//joining our RHS dictionary to each of the dictionaries to the left\n",
    "([] c1:`a`b`c),\\:enlist[`c3]!enlist `constant"
   ]
  },
  {
   "cell_type": "markdown",
   "metadata": {
    "hidden": true
   },
   "source": [
    "This explains why if we use this method we can expect columns to be overwritten:"
   ]
  },
  {
   "cell_type": "code",
   "execution_count": null,
   "metadata": {
    "hidden": true
   },
   "outputs": [],
   "source": [
    "([] c1:`a`b`c; c2:1 2 3),'([] c2:100 200 300)    // overwrites common columns "
   ]
  },
  {
   "cell_type": "markdown",
   "metadata": {
    "hidden": true
   },
   "source": [
    " ##### Keyed Tables \n",
    "\n",
    "A sideways join on keyed tables requires that the key records conform, meaning that the key columns must have identical *meta* - i.e same table columns and column types. "
   ]
  },
  {
   "cell_type": "code",
   "execution_count": null,
   "metadata": {
    "hidden": true
   },
   "outputs": [],
   "source": [
    "([k:1 2 3] v1:10 20 30),'([k:3 4 5] v2:1000 2000 3000)"
   ]
  },
  {
   "cell_type": "markdown",
   "metadata": {
    "hidden": true
   },
   "source": [
    "If these were the same column, the value per our RHS dictionary prevails"
   ]
  },
  {
   "cell_type": "code",
   "execution_count": null,
   "metadata": {
    "hidden": true
   },
   "outputs": [],
   "source": [
    "([k:1 2 3] v1:10 20 30),'([k:3 4 5] v1:1000 2000 3000)"
   ]
  },
  {
   "cell_type": "markdown",
   "metadata": {
    "hidden": true,
    "solution2": "hidden",
    "solution2_first": true
   },
   "source": [
    "Thinking back to Dictionaries - can you remember which operator we can use here to retain the values in our LHS table, if they exist in the LHS and not the RHS? "
   ]
  },
  {
   "cell_type": "code",
   "execution_count": null,
   "metadata": {
    "hidden": true,
    "solution2": "hidden"
   },
   "outputs": [],
   "source": [
    "([k:1 2 3] v1:10 20 30)^'([k:3 4 5] v1:1000 2000 3000)  //^ will fill null values in the RHS with the LHS"
   ]
  },
  {
   "cell_type": "markdown",
   "metadata": {
    "hidden": true,
    "solution2": "hidden",
    "solution2_first": true
   },
   "source": [
    "##### Exercise\n",
    "\n",
    "Create the following tables:\n",
    "\n",
    "    t1:([] sym:`a`b`c`d; price:1 2 3 4f)\n",
    "    t2:([] size:3 4 2 5)\n",
    "    t3:([] sym: `e`f`a; price: 10 20 30f)\n",
    "\n",
    "1. Use the join `,'` operator to update the table `t1` to have a `size` column as per `t2`.\n",
    "2. Use the join `,` operator to combine the `t1` and `t3` tables so the final table has 7 rows. \n",
    "3. Apply a key of `sym` to each of t1 and t3. Join these keyed tables so the final table has prices for all syms, and the final value of `a` is 1 i.e. table `t1` values are prioritized.  "
   ]
  },
  {
   "cell_type": "code",
   "execution_count": null,
   "metadata": {
    "hidden": true,
    "solution2": "hidden"
   },
   "outputs": [],
   "source": [
    "t1:([] sym:`a`b`c`d; price:1 2 3 4f)\n",
    "t2:([] size:3 4 2 5)\n",
    "t3:([] sym: `e`f`a; price: 10 20 30f)"
   ]
  },
  {
   "cell_type": "code",
   "execution_count": null,
   "metadata": {
    "hidden": true,
    "solution2": "hidden"
   },
   "outputs": [],
   "source": [
    "//Question 1  \n",
    "t1,'t2       //joining t2 as a column to t1"
   ]
  },
  {
   "cell_type": "code",
   "execution_count": null,
   "metadata": {
    "hidden": true,
    "solution2": "hidden"
   },
   "outputs": [],
   "source": [
    "//Question 2 \n",
    "t1,t3      //joining t3 as extra rows to t1"
   ]
  },
  {
   "cell_type": "code",
   "execution_count": null,
   "metadata": {
    "hidden": true,
    "solution2": "hidden"
   },
   "outputs": [],
   "source": [
    "//Question 3 \n",
    "`sym xkey `t1\n",
    "`sym xkey `t3\n",
    "t1 \n",
    "t3\n",
    "t3^'t1     //we only want to fill in with t3, we want to keep our values in t1"
   ]
  },
  {
   "cell_type": "code",
   "execution_count": null,
   "metadata": {
    "hidden": true
   },
   "outputs": [],
   "source": [
    "//your answer here"
   ]
  },
  {
   "cell_type": "markdown",
   "metadata": {
    "heading_collapsed": true
   },
   "source": [
    "# Keyed Joins\n",
    "Some joins are keyed, meaning that when using two tables the keys in the RHS table will determine the way in which we \"match\" records within the LHS table."
   ]
  },
  {
   "cell_type": "markdown",
   "metadata": {
    "hidden": true
   },
   "source": [
    "Here is a list of keyed joins in q:\n",
    "- [Left Join](https://code.kx.com/v2/ref/lj/) - `lj`\n",
    "- [Inner Join](https://code.kx.com/v2/ref/ij/) - `ij`\n",
    "\n",
    "The below joins will be discussed in the practical guidance notebook:\n",
    "- [Union join](https://code.kx.com/q/ref/uj/) - `uj`  \n",
    "- [Equi join](https://code.kx.com/q/ref/ej/) - `ej`\n",
    "- [Plus Join](https://code.kx.com/v2/ref/pj/) - `pj`"
   ]
  },
  {
   "cell_type": "markdown",
   "metadata": {
    "heading_collapsed": true,
    "hidden": true
   },
   "source": [
    "## Left Join  `lj`\n",
    "\n",
    "[Left Join](https://code.kx.com/q/ref/lj/) `lj` is most commonly used to supplement a time-series table with reference data - this appends new columns to our time-series LHS table. The `lj` is one of the most frequently used joins in kdb+/q."
   ]
  },
  {
   "cell_type": "markdown",
   "metadata": {
    "hidden": true
   },
   "source": [
    "<img src=\"../LeftJoin.png\" width=\"200\" height=\"200\">"
   ]
  },
  {
   "cell_type": "markdown",
   "metadata": {
    "hidden": true
   },
   "source": [
    "The syntax is:\n",
    "\n",
    "    <time-series table> lj <reference (keyed) table>   "
   ]
  },
  {
   "cell_type": "markdown",
   "metadata": {
    "hidden": true
   },
   "source": [
    "Using the `lj` operator, we can join both these tables together so our trade table is supplemented with the reference information "
   ]
  },
  {
   "cell_type": "code",
   "execution_count": null,
   "metadata": {
    "hidden": true
   },
   "outputs": [],
   "source": [
    "show trade:([]time:09:00+10*til 5;sym:`JPM`GE`JPM`IBM`GE;price:30+5?3.;size:5?20) "
   ]
  },
  {
   "cell_type": "code",
   "execution_count": null,
   "metadata": {
    "hidden": true
   },
   "outputs": [],
   "source": [
    "//created a key table keyed on sym\n",
    "show reference:([sym:`JPM`IBM`GS]companyName:`$(\"JP Morgan\";\"International Business Machines\";\"Goldman Sachs\");sector:`Banking`IT`Banking) "
   ]
  },
  {
   "cell_type": "code",
   "execution_count": null,
   "metadata": {
    "hidden": true
   },
   "outputs": [],
   "source": [
    "trade lj reference   //the common sym column is how we match between the two tables \n",
    "                        //reference data is only returned for syms that are present in our reference table"
   ]
  },
  {
   "cell_type": "markdown",
   "metadata": {
    "hidden": true
   },
   "source": [
    "We know that we need the right hand table to be keyed but what happens if we key the `trade` table ?"
   ]
  },
  {
   "cell_type": "code",
   "execution_count": null,
   "metadata": {
    "hidden": true
   },
   "outputs": [],
   "source": [
    "(1!trade) lj reference"
   ]
  },
  {
   "cell_type": "markdown",
   "metadata": {
    "hidden": true
   },
   "source": [
    "The key on our LHS table does not affect our join operation, but we see the format of the table returned is determined by the LHS time-series table. "
   ]
  },
  {
   "cell_type": "markdown",
   "metadata": {
    "hidden": true,
    "solution2": "hidden",
    "solution2_first": true
   },
   "source": [
    "<img src=\"../qbies.png\" width=\"50px\" style=\"width: 50px;padding-right:5px;padding-top:2px;padding-left:5px;\" align=\"left\"/>\n",
    "\n",
    "<p style='color:#273a6e'><i>Be careful of common columns in your two tables! When using a <code>lj</code> kdb+/q assumes that the data in the reference table is what we want to keep, so therefore this is the value we will have in our final table. Be particularly careful with <code>time</code> columns! </i></p>"
   ]
  },
  {
   "cell_type": "code",
   "execution_count": null,
   "metadata": {
    "hidden": true,
    "solution2": "hidden"
   },
   "outputs": [],
   "source": [
    "show r2:reference,\\:enlist[`price]! enlist 3f"
   ]
  },
  {
   "cell_type": "code",
   "execution_count": null,
   "metadata": {
    "hidden": true,
    "solution2": "hidden"
   },
   "outputs": [],
   "source": [
    "trade lj r2    //we have overwritten our price column!"
   ]
  },
  {
   "cell_type": "markdown",
   "metadata": {
    "hidden": true,
    "solution2": "hidden",
    "solution2_first": true
   },
   "source": [
    "##### Exercise\n",
    "Create a second reference table `reference1` consisting of company and [RIC](https://en.wikipedia.org/wiki/Reuters_Instrument_Code) number. The table should be keyed on companyName.\n",
    "\n",
    "RICS: \n",
    "* JP Morgan - 34562\n",
    "* International Business Machines - 23981\n",
    "\n",
    "Use this, along with the trade and existing reference table, to create a table that contains the RIC column. "
   ]
  },
  {
   "cell_type": "code",
   "execution_count": null,
   "metadata": {
    "hidden": true,
    "solution2": "hidden"
   },
   "outputs": [],
   "source": [
    "show reference1:([companyName:`$(\"JP Morgan\";\"International Business Machines\")]RIC:(34562;23981))\n",
    "trade lj reference lj reference1"
   ]
  },
  {
   "cell_type": "code",
   "execution_count": null,
   "metadata": {
    "hidden": true
   },
   "outputs": [],
   "source": [
    "//your answer here"
   ]
  },
  {
   "cell_type": "markdown",
   "metadata": {
    "heading_collapsed": true,
    "hidden": true
   },
   "source": [
    "## Inner Join `ij`\n",
    "[Inner join](https://code.kx.com/q/ref/ij/) `ij` operator acts in the same way as the left join but only records for which the key matches between tables will remain in the resultant table. This appends new columns to our time-series LHS table, and removes non-common rows."
   ]
  },
  {
   "cell_type": "markdown",
   "metadata": {
    "hidden": true
   },
   "source": [
    "<img src=\"../innerJoin.png\" width=\"200\" height=\"200\">"
   ]
  },
  {
   "cell_type": "markdown",
   "metadata": {
    "hidden": true
   },
   "source": [
    "The syntax is: \n",
    "\n",
    "    <time-series table> ij <reference (keyed) table>\n",
    "\n",
    "The difference between the inner join and the left join is that if there is no matching record, it will omit that row in the result. \n",
    "\n",
    "When we apply the inner join operator on trade and reference, you can see that the `GE` trades are now omitted from the result:"
   ]
  },
  {
   "cell_type": "code",
   "execution_count": null,
   "metadata": {
    "hidden": true
   },
   "outputs": [],
   "source": [
    "trade\n",
    "reference"
   ]
  },
  {
   "cell_type": "code",
   "execution_count": null,
   "metadata": {
    "hidden": true
   },
   "outputs": [],
   "source": [
    "trade lj reference\n",
    "trade ij reference "
   ]
  },
  {
   "cell_type": "markdown",
   "metadata": {
    "hidden": true,
    "solution2": "hidden",
    "solution2_first": true
   },
   "source": [
    "##### Exercise\n",
    "\n",
    "Using our `trade`, `reference` and `reference1` tables from before: \n",
    "\n",
    "1. Create a resultant table that only has the trades for `JPM`, but for those trades has associated companyName, sector and RIC. "
   ]
  },
  {
   "cell_type": "code",
   "execution_count": null,
   "metadata": {
    "hidden": true,
    "solution2": "hidden"
   },
   "outputs": [],
   "source": [
    "1 sublist reference1                      //sublisting our reference table to only have JP Morgan RIC \n",
    "trade ij reference ij 1 sublist reference1 //inner joining over all "
   ]
  },
  {
   "cell_type": "code",
   "execution_count": null,
   "metadata": {
    "hidden": true
   },
   "outputs": [],
   "source": [
    "//your answer here"
   ]
  },
  {
   "cell_type": "markdown",
   "metadata": {
    "hidden": true,
    "solution2": "hidden",
    "solution2_first": true
   },
   "source": [
    "2. Create a resultant table that only has the trades for which we have company sector information and only the RIC for `IBM`."
   ]
  },
  {
   "cell_type": "code",
   "execution_count": null,
   "metadata": {
    "hidden": true,
    "solution2": "hidden"
   },
   "outputs": [],
   "source": [
    "-1 sublist reference1                           //just IBM record for RIC\n",
    "(trade ij reference) lj -1 sublist reference1   //ij - only want the trades we have this sector info for\n",
    "                                                    //lj - we don't want to throw away data we don't have RIC for"
   ]
  },
  {
   "cell_type": "code",
   "execution_count": null,
   "metadata": {
    "hidden": true
   },
   "outputs": [],
   "source": [
    "//your answer here"
   ]
  },
  {
   "cell_type": "markdown",
   "metadata": {
    "heading_collapsed": true
   },
   "source": [
    "# Bitemporal joins (aka \"asof\" joins)\n",
    "Some joins are [bitemporal](https://en.wikipedia.org/wiki/Temporal_database), meaning they take into account the time in two dimensions, or for us, as per two different tables.  \n",
    "\n",
    "Below is a list of bitemporal joins:\n",
    "+ asof - combines data based as per the time in one table with the prevailing values in another table. \n",
    "+ window-join - combines data based as per the time in one table with the values within a specified window in another table. **Discussed in Practical guidance notebook**"
   ]
  },
  {
   "cell_type": "markdown",
   "metadata": {
    "hidden": true
   },
   "source": [
    "These joins are referred to as \"as-of\" joins since they are retrieving values in a secondary table, relative to the time as-of another table. "
   ]
  },
  {
   "cell_type": "markdown",
   "metadata": {
    "heading_collapsed": true,
    "hidden": true
   },
   "source": [
    "## Asof Join \n",
    "\n",
    "As the name may suggest [Asof join](https://code.kx.com/q/ref/aj/) is mainly used to join columns with reference to time. It will return each row of the source table and the last recorded values per the second table which have an entry at or prior to the time in the source table. The records in the secondary table are filtered based on the specified match columns.\n",
    " "
   ]
  },
  {
   "cell_type": "markdown",
   "metadata": {
    "hidden": true
   },
   "source": [
    "The Syntax \n",
    "\n",
    "    aj[col1,…,coln,timeCol;source table;reference table]\n",
    "\n",
    "Where `col1` to `coln` are exact match columns and `timeCol` is the common time column that should be used for the time lookup. "
   ]
  },
  {
   "cell_type": "markdown",
   "metadata": {
    "hidden": true
   },
   "source": [
    "It might be useful to see an example to better understand this concept, below we will create a quote and trade table:"
   ]
  },
  {
   "cell_type": "code",
   "execution_count": null,
   "metadata": {
    "hidden": true
   },
   "outputs": [],
   "source": [
    "show quote:([]time:09:29 09:29 09:32 09:33;sym:`JPM`AAPL`JPM`AAPL;ask:30.23 40.20 30.35 40.35;bid:30.20 40.19 30.33 40.32)\n",
    "\n",
    "show trade:([]time:09:30 09:31 09:32 09:33 09:34 09:35;sym:`JPM`AAPL`AAPL`JPM`AAPL`JPM;price:30.43 30.45 40.45 30.55 41.00 31.00;size:100 200 200 300 300 600)"
   ]
  },
  {
   "cell_type": "markdown",
   "metadata": {
    "hidden": true
   },
   "source": [
    "Using the asof join, we will be able to determine the prevailing quote for each trade."
   ]
  },
  {
   "cell_type": "code",
   "execution_count": null,
   "metadata": {
    "hidden": true
   },
   "outputs": [],
   "source": [
    "aj[`sym`time;trade;quote]"
   ]
  },
  {
   "cell_type": "markdown",
   "metadata": {
    "hidden": true
   },
   "source": [
    "We can see that only the trades quotes corresponding to the same `sym` where used, and the last previous value as per the quote table was used. "
   ]
  },
  {
   "cell_type": "markdown",
   "metadata": {
    "hidden": true,
    "solution2": "hidden",
    "solution2_first": true
   },
   "source": [
    "##### Exercise\n",
    "Create a table `rack` that has the following times for each symbol in the trade table: \n",
    "\n",
    "    times: 09:00 09:30 10:00\n",
    "    \n",
    "    \n",
    "The `rack` table should look like:\n",
    "\n",
    "|time | sym|\n",
    "|------|----|\n",
    "|09:00 |JPM |\n",
    "|09:00 |AAPL|\n",
    "|09:30 |JPM |\n",
    "|09:30 |AAPL|\n",
    "|10:00 |JPM |\n",
    "|10:00 |AAPL|\n",
    "\n",
    "Using this table, find the bid and ask prices as at these times for each particular sym value."
   ]
  },
  {
   "cell_type": "code",
   "execution_count": null,
   "metadata": {
    "hidden": true,
    "solution2": "hidden"
   },
   "outputs": [],
   "source": [
    "show rack:([]time:09:00 09:30 10:00) cross ([]sym:`JPM`AAPL)  //people create \"racks\" for times and syms of interest!\n",
    "/rack:([]sym:`JPM`AAPL) cross ([]time:09:00 09:30 10:00) //also fine\n",
    "aj[`sym`time;rack;quote]"
   ]
  },
  {
   "cell_type": "code",
   "execution_count": null,
   "metadata": {
    "hidden": true
   },
   "outputs": [],
   "source": [
    "//Your answer here"
   ]
  }
 ],
 "metadata": {
  "kernelspec": {
   "display_name": "Python 3 (ipykernel)",
   "language": "python",
   "name": "python3"
  },
  "language_info": {
   "codemirror_mode": {
    "name": "ipython",
    "version": 3
   },
   "file_extension": ".py",
   "mimetype": "text/x-python",
   "name": "python",
   "nbconvert_exporter": "python",
   "pygments_lexer": "ipython3",
   "version": "3.11.10"
  },
  "toc": {
   "base_numbering": 1,
   "nav_menu": {},
   "number_sections": true,
   "sideBar": true,
   "skip_h1_title": false,
   "title_cell": "Table of Contents",
   "title_sidebar": "Contents",
   "toc_cell": false,
   "toc_position": {},
   "toc_section_display": true,
   "toc_window_display": true
  }
 },
 "nbformat": 4,
 "nbformat_minor": 4
}