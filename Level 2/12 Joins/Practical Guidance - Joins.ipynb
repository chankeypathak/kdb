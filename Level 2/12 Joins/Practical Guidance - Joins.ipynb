{
 "cells": [
  {
   "cell_type": "code",
   "metadata": {
    "autorun": true,
    "editable": false,
    "tags": [
     "remove-cell"
    ],
    "jupyter": {
     "source_hidden": true,
     "outputs_hidden": true
    },
    "collapsed": true
   },
   "source": [
    "#;.pykx.disableJupyter()"
   ]
  },
  {
   "cell_type": "code",
   "metadata": {
    "autorun": true,
    "editable": false,
    "tags": [
     "remove-cell"
    ],
    "jupyter": {
     "source_hidden": true,
     "outputs_hidden": true
    },
    "collapsed": true
   },
   "source": [
    "# https://code.kx.com/pykx/3.0/examples/jupyter-integration.html#q-first-mode\n",
    "import pykx as kx\n",
    "kx.util.jupyter_qfirst_enable()"
   ]
  },
  {
   "cell_type": "markdown",
   "metadata": {},
   "source": [
    " <img src=\"../qbies.png\" style=\"width: 100px;padding-right:5px;padding-top:1px;padding-left:5px;\" align=\"left\"/>\n",
    " <p style=\"padding-left:125px;padding-top: 30px\";><font size=\"+2\"><b> Practical Guidance - Joins</b></font><p>"
   ]
  },
  {
   "cell_type": "markdown",
   "metadata": {
    "heading_collapsed": true
   },
   "source": [
    "## Keyed joins\n",
    "As mentioned in the notebook, there are five different keyed joins in kdb+. The three joins that weren't discussed in the notebook are discussed below:\n",
    "\n",
    "+ [Plus Join](https://code.kx.com/v2/ref/pj/) - `pj`\n",
    "+ [Union join](https://code.kx.com/q/ref/uj/) - `uj`  \n",
    "+ [Equi join](https://code.kx.com/q/ref/ej/) - `ej`"
   ]
  },
  {
   "cell_type": "markdown",
   "metadata": {
    "hidden": true
   },
   "source": [
    "### Plus Join `pj`\n",
    "\n",
    "The [plus join](https://code.kx.com/q/ref/pj/) is used to sum matching columns of two tables. The left table can be either keyed or unkeyed and the right table must be keyed. The resulting table is all of the rows of the left table summed with the corresponding rows of the right table.\n",
    "\n",
    "The Syntax: \n",
    "\n",
    "    pj[unkeyed or keyed;keyed]\n",
    "\n",
    "Similar to `lj` the match is determined based on the key column in the secondary, or RHS table. "
   ]
  },
  {
   "cell_type": "code",
   "execution_count": 1,
   "metadata": {
    "hidden": true
   },
   "outputs": [
    {
     "name": "stdout",
     "output_type": "stream",
     "text": [
      "sym  amount\n",
      "-----------\n",
      "IBM  400   \n",
      "AAPL 700   \n",
      "GOOG 1200  \n",
      "sym | amount\n",
      "----| ------\n",
      "IBM | 60    \n",
      "GOOG| 30    \n"
     ]
    },
    {
     "data": {
      "text/plain": [
       "sym  amount\n",
       "-----------\n",
       "IBM  460   \n",
       "AAPL 700   \n",
       "GOOG 1230  \n"
      ]
     },
     "execution_count": 1,
     "metadata": {},
     "output_type": "execute_result"
    }
   ],
   "source": [
    "show stocks:([]sym:`IBM`AAPL`GOOG;amount:400 700 1200)\n",
    "show newpurchases:([sym:`IBM`GOOG]amount:60 30)\n",
    "pj[stocks;newpurchases]"
   ]
  },
  {
   "cell_type": "markdown",
   "metadata": {
    "hidden": true
   },
   "source": [
    "### Union Join `uj`\n",
    "[Union join](https://code.kx.com/q/ref/uj/) appends data as rows in contrast to `ij` and `lj` - columns will be added where they are not already present to create a combined schema between the two tables. \n",
    "\n",
    "The syntax: \n",
    "\n",
    "     LHSTable uj RHSTable\n",
    "\n",
    "This is the most flexible join and when both tables are unkeyed looks to create a combined schema between the two tables that will allow all records to be combined. This will not throw an error in the event of type conflicts between common columns."
   ]
  },
  {
   "cell_type": "code",
   "execution_count": 2,
   "metadata": {
    "hidden": true
   },
   "outputs": [
    {
     "name": "stdout",
     "output_type": "stream",
     "text": [
      "time  sym price    size\n",
      "-----------------------\n",
      "09:00 JPM 32.3551  12  \n",
      "09:10 GE  31.60413 8   \n",
      "09:20 JPM 32.13351 10  \n",
      "09:30 IBM 31.23479 1   \n",
      "09:40 GE  31.47955 9   \n",
      "sym| companyName                     sector \n",
      "---| ---------------------------------------\n",
      "JPM| JP Morgan                       Banking\n",
      "IBM| International Business Machines IT     \n"
     ]
    }
   ],
   "source": [
    "//creating tables\n",
    "show trade:([]time:09:00+10*til 5;sym:`JPM`GE`JPM`IBM`GE;price:30+5?3.;size:5?20) \n",
    "//created a key table keyed on sym\n",
    "show reference:([sym:`JPM`IBM]companyName:`$(\"JP Morgan\";\"International Business Machines\");sector:`Banking`IT) "
   ]
  },
  {
   "cell_type": "code",
   "execution_count": 3,
   "metadata": {
    "hidden": true
   },
   "outputs": [
    {
     "data": {
      "text/plain": [
       "time  sym price    size companyName                     sector \n",
       "---------------------------------------------------------------\n",
       "09:00 JPM 32.3551  12                                          \n",
       "09:10 GE  31.60413 8                                           \n",
       "09:20 JPM 32.13351 10                                          \n",
       "09:30 IBM 31.23479 1                                           \n",
       "09:40 GE  31.47955 9                                           \n",
       "      JPM               JP Morgan                       Banking\n",
       "      IBM               International Business Machines IT     \n"
      ]
     },
     "execution_count": 3,
     "metadata": {},
     "output_type": "execute_result"
    },
    {
     "data": {
      "text/plain": [
       "time  sym price    size companyName                     sector \n",
       "---------------------------------------------------------------\n",
       "09:00 JPM 32.3551  12                                          \n",
       "09:10 GE  31.60413 8                                           \n",
       "09:20 JPM 32.13351 10                                          \n",
       "09:30 IBM 31.23479 1                                           \n",
       "09:40 GE  31.47955 9                                           \n",
       "      JPM          2f   JP Morgan                       Banking\n",
       "      IBM          3f   International Business Machines IT     \n"
      ]
     },
     "execution_count": 3,
     "metadata": {},
     "output_type": "execute_result"
    }
   ],
   "source": [
    "trade uj 0! reference                   //common schema used and data for each present as separate rows\n",
    "trade uj ([]size: 2 3f),'0! reference   //adding a size column to reference with type float"
   ]
  },
  {
   "cell_type": "markdown",
   "metadata": {
    "hidden": true
   },
   "source": [
    "In the event of just one table being keyed, an error is thrown. If both tables are keyed on the same column we get the corresponding records in each table for the set of keys :"
   ]
  },
  {
   "cell_type": "code",
   "execution_count": 4,
   "metadata": {
    "hidden": true
   },
   "outputs": [
    {
     "data": {
      "text/plain": [
       "sym| time  price    size companyName                     sector \n",
       "---| -----------------------------------------------------------\n",
       "JPM| 09:00 32.3551  12   JP Morgan                       Banking\n",
       "GE | 09:10 31.60413 8                                           \n",
       "IBM| 09:30 31.23479 1    International Business Machines IT     \n"
      ]
     },
     "execution_count": 4,
     "metadata": {},
     "output_type": "execute_result"
    },
    {
     "data": {
      "text/plain": [
       "sym| companyName                     sector  time  price    size\n",
       "---| -----------------------------------------------------------\n",
       "JPM| JP Morgan                       Banking 09:00 32.3551  12  \n",
       "IBM| International Business Machines IT      09:30 31.23479 1   \n",
       "GE |                                         09:10 31.60413 8   \n"
      ]
     },
     "execution_count": 4,
     "metadata": {},
     "output_type": "execute_result"
    }
   ],
   "source": [
    "(`sym xkey trade) uj reference \n",
    "reference uj (`sym xkey trade)"
   ]
  },
  {
   "cell_type": "markdown",
   "metadata": {
    "hidden": true
   },
   "source": [
    " ###### Example\n",
    "One use of `uj` could be to time order data from two different tables in order to ascertain the sequence of updates across multiple tables. For example, trade and order tables could be joined as below:"
   ]
  },
  {
   "cell_type": "code",
   "execution_count": 5,
   "metadata": {
    "hidden": true
   },
   "outputs": [
    {
     "name": "stdout",
     "output_type": "stream",
     "text": [
      "time  sym orderID      price   \n",
      "-------------------------------\n",
      "08:46 IBM \"92701ifnam\" 41.57041\n",
      "08:49 JPM \"92188fohfn\" 31.67777\n",
      "09:21 IBM \"17245kdjbl\" 33.91981\n",
      "09:27 GE  \"42785eegnd\" 37.51276\n",
      "09:58 JPM \"64133ncejf\" 42.2749 \n"
     ]
    },
    {
     "data": {
      "text/plain": [
       "time  sym price    size\n",
       "-----------------------\n",
       "09:00 JPM 32.3551  12  \n",
       "09:10 GE  31.60413 8   \n",
       "09:20 JPM 32.13351 10  \n",
       "09:30 IBM 31.23479 1   \n",
       "09:40 GE  31.47955 9   \n"
      ]
     },
     "execution_count": 5,
     "metadata": {},
     "output_type": "execute_result"
    }
   ],
   "source": [
    "trade // Using the trade table defined above\n",
    "/creating an order table\n",
    "show order:([]time:asc `minute$08:00+5?0D02:00:00;\n",
    "             sym:5?`JPM`GE`IBM;\n",
    "             orderID:(5 cut 25?.Q.n),'string 5?`5;\n",
    "             price:30+5?20.)"
   ]
  },
  {
   "cell_type": "markdown",
   "metadata": {
    "hidden": true
   },
   "source": [
    "It is now easy to see the sequence in which trades and orders happened."
   ]
  },
  {
   "cell_type": "code",
   "execution_count": 6,
   "metadata": {
    "hidden": true
   },
   "outputs": [
    {
     "data": {
      "text/plain": [
       "time  sym price    size orderID     \n",
       "------------------------------------\n",
       "08:46 IBM 41.57041      \"92701ifnam\"\n",
       "08:49 JPM 31.67777      \"92188fohfn\"\n",
       "09:00 JPM 32.3551  12   \"\"          \n",
       "09:10 GE  31.60413 8    \"\"          \n",
       "09:20 JPM 32.13351 10   \"\"          \n",
       "09:21 IBM 33.91981      \"17245kdjbl\"\n",
       "09:27 GE  37.51276      \"42785eegnd\"\n",
       "09:30 IBM 31.23479 1    \"\"          \n",
       "09:40 GE  31.47955 9    \"\"          \n",
       "09:58 JPM 42.2749       \"64133ncejf\"\n"
      ]
     },
     "execution_count": 6,
     "metadata": {},
     "output_type": "execute_result"
    }
   ],
   "source": [
    "`time xasc uj[trade;order]"
   ]
  },
  {
   "cell_type": "markdown",
   "metadata": {
    "hidden": true
   },
   "source": [
    "### Equi Join `ej`\n",
    "[Equi join](https://code.kx.com/q/ref/ej/) joins two tables on specified column(s). The result is a table with all of the rows in the first table that match the second table on the specified columns.\n",
    "\n",
    "The Syntax: \n",
    "    \n",
    "    ej[matchingColumns;table1;table2]"
   ]
  },
  {
   "cell_type": "code",
   "execution_count": 7,
   "metadata": {
    "hidden": true
   },
   "outputs": [
    {
     "name": "stdout",
     "output_type": "stream",
     "text": [
      "sym  price\n",
      "----------\n",
      "XOM  200  \n",
      "GM   150  \n",
      "MET  60   \n",
      "GOOG 151  \n",
      "GM   152  \n",
      "XOM  199  \n",
      "sym sector\n",
      "----------\n",
      "XOM energy\n",
      "GM  auto  \n",
      "IBM tech  \n"
     ]
    },
    {
     "data": {
      "text/plain": [
       "sym price sector\n",
       "----------------\n",
       "XOM 200   energy\n",
       "GM  150   auto  \n",
       "GM  152   auto  \n",
       "XOM 199   energy\n"
      ]
     },
     "execution_count": 7,
     "metadata": {},
     "output_type": "execute_result"
    }
   ],
   "source": [
    "show trade:([]sym:`XOM`GM`MET`GOOG`GM`XOM;price:200 150 60 151 152 199)\n",
    "show sector:([]sym:`XOM`GM`IBM;sector:`energy`auto`tech)\n",
    "ej[`sym;trade;sector]"
   ]
  },
  {
   "cell_type": "markdown",
   "metadata": {
    "heading_collapsed": true
   },
   "source": [
    "## Bitemporal joins"
   ]
  },
  {
   "cell_type": "markdown",
   "metadata": {
    "hidden": true
   },
   "source": [
    "### Window joins\n",
    "\n",
    "Window join is a generalization of as-of joins, and rather than retrieving just the last value are designed to aggregate values within certain intervals.  \n",
    "\n",
    "The Syntax: \n",
    "    \n",
    "    wj[windowS;columns;source table;(reference table;(function1;col1);(function2;col2)...)]\n",
    "    \n",
    "Where\n",
    " + windowS is a two item list of (`startTimes`;`endTimes`), each of the same length as the source tables \n",
    " + columns are the matching columns that are in both tables\n",
    " + source table\n",
    " + reference table is the table that you can aggregate on \n",
    " + `colN` - the columns that the aggregation is going to be applied to \n",
    " + `functionN` -  are the aggregation functions"
   ]
  },
  {
   "cell_type": "code",
   "execution_count": 8,
   "metadata": {
    "hidden": true
   },
   "outputs": [
    {
     "name": "stdout",
     "output_type": "stream",
     "text": [
      "sym time     price\n",
      "------------------\n",
      "JPM 09:30:01 120  \n",
      "JPM 09:30:04 123  \n",
      "JPM 09:30:08 121  \n",
      "sym time     ask bid\n",
      "--------------------\n",
      "JPM 09:30:01 104 98 \n",
      "JPM 09:30:04 104 108\n",
      "JPM 09:30:04 102 105\n",
      "JPM 09:30:05 104 98 \n",
      "JPM 09:30:05 99  103\n",
      "JPM 09:30:06 92  96 \n",
      "JPM 09:30:06 109 99 \n",
      "JPM 09:30:06 102 106\n",
      "JPM 09:30:07 99  90 \n",
      "JPM 09:30:07 100 90 \n"
     ]
    }
   ],
   "source": [
    "show t:([]sym:3#`JPM;time:09:30:01 09:30:04 09:30:08;price:120 123 121)\n",
    "show q:([]sym:10#`JPM;time:asc 09:30:00+10?8;ask:10?90+til 20;bid:10?90+til 20)"
   ]
  },
  {
   "cell_type": "markdown",
   "metadata": {
    "hidden": true
   },
   "source": [
    " Let's construct a 3 second set of windows (2 seconds before and 1 second after each trade time) for each of our trades:"
   ]
  },
  {
   "cell_type": "code",
   "execution_count": 9,
   "metadata": {
    "hidden": true
   },
   "outputs": [
    {
     "data": {
      "text/plain": [
       "09:30:01 09:30:04 09:30:08\n"
      ]
     },
     "execution_count": 9,
     "metadata": {},
     "output_type": "execute_result"
    },
    {
     "data": {
      "text/plain": [
       "09:29:59 09:30:02 09:30:06\n",
       "09:30:02 09:30:05 09:30:09\n"
      ]
     },
     "execution_count": 9,
     "metadata": {},
     "output_type": "execute_result"
    }
   ],
   "source": [
    "t[`time]                         //our trade times\n",
    "windows: -2 1+\\: t[`time]       //using iterators to add -2 and +1 to each time\n",
    "windows"
   ]
  },
  {
   "cell_type": "markdown",
   "metadata": {
    "hidden": true
   },
   "source": [
    " Using these windows, we can join t and q calculating the highest ask and lowest bid within the window."
   ]
  },
  {
   "cell_type": "code",
   "execution_count": 10,
   "metadata": {
    "hidden": true
   },
   "outputs": [
    {
     "data": {
      "text/plain": [
       "sym time     price ask bid\n",
       "--------------------------\n",
       "JPM 09:30:01 120   104 98 \n",
       "JPM 09:30:04 123   104 98 \n",
       "JPM 09:30:08 121   102 90 \n"
      ]
     },
     "execution_count": 10,
     "metadata": {},
     "output_type": "execute_result"
    }
   ],
   "source": [
    "wj[windows;`sym`time;t;(q;(max;`ask);(min;`bid))]"
   ]
  },
  {
   "cell_type": "markdown",
   "metadata": {
    "hidden": true
   },
   "source": [
    "<img src=\"../qbies.png\" width=\"50px\" style=\"width: 50px;padding-right:5px;padding-top:2px;padding-left:5px;\" align=\"left\"/><p style='color:#273a6e'><i>This concept is discussed more details in the Kx Advanced course.</i></p>"
   ]
  }
 ],
 "metadata": {
  "kernelspec": {
   "display_name": "Python 3 (ipykernel)",
   "language": "python",
   "name": "python3"
  },
  "language_info": {
   "codemirror_mode": {
    "name": "ipython",
    "version": 3
   },
   "file_extension": ".py",
   "mimetype": "text/x-python",
   "name": "python",
   "nbconvert_exporter": "python",
   "pygments_lexer": "ipython3",
   "version": "3.11.10"
  },
  "toc": {
   "base_numbering": 1,
   "nav_menu": {},
   "number_sections": true,
   "sideBar": true,
   "skip_h1_title": false,
   "title_cell": "Table of Contents",
   "title_sidebar": "Contents",
   "toc_cell": false,
   "toc_position": {},
   "toc_section_display": true,
   "toc_window_display": true
  }
 },
 "nbformat": 4,
 "nbformat_minor": 2
}