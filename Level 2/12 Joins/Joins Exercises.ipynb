{
 "cells": [
  {
   "cell_type": "code",
   "metadata": {
    "autorun": true,
    "editable": false,
    "tags": [
     "remove-cell"
    ],
    "jupyter": {
     "source_hidden": true,
     "outputs_hidden": true
    },
    "collapsed": true
   },
   "source": [
    "#;.pykx.disableJupyter()"
   ]
  },
  {
   "cell_type": "code",
   "metadata": {
    "autorun": true,
    "editable": false,
    "tags": [
     "remove-cell"
    ],
    "jupyter": {
     "source_hidden": true,
     "outputs_hidden": true
    },
    "collapsed": true
   },
   "source": [
    "# https://code.kx.com/pykx/3.0/examples/jupyter-integration.html#q-first-mode\n",
    "import pykx as kx\n",
    "kx.util.jupyter_qfirst_enable()"
   ]
  },
  {
   "cell_type": "markdown",
   "metadata": {},
   "source": [
    "# Kx Training: Exercise - Table Joins"
   ]
  },
  {
   "cell_type": "markdown",
   "metadata": {
    "heading_collapsed": true
   },
   "source": [
    "## Simple Joins"
   ]
  },
  {
   "cell_type": "markdown",
   "metadata": {
    "hidden": true,
    "solution2": "hidden",
    "solution2_first": true
   },
   "source": [
    "* Define t as the following table:\n",
    "\n",
    "\n",
    "    sym price\n",
    "    ---------\n",
    "    a   1\n",
    "    b   2\n",
    "    c   3\n",
    "    d   4"
   ]
  },
  {
   "cell_type": "code",
   "execution_count": null,
   "metadata": {
    "hidden": true,
    "solution2": "hidden"
   },
   "outputs": [],
   "source": [
    "t:([] sym:`a`b`c`d; price:1 2 3 4f)"
   ]
  },
  {
   "cell_type": "code",
   "execution_count": null,
   "metadata": {
    "hidden": true
   },
   "outputs": [],
   "source": [
    "//your answer here "
   ]
  },
  {
   "cell_type": "markdown",
   "metadata": {
    "hidden": true,
    "solution2": "hidden",
    "solution2_first": true
   },
   "source": [
    "* Append another row to the table using the simple join operator:\n",
    "    - Using table syntax \n",
    "    - Using dictionary syntax\n",
    "    \n",
    "    \n",
    "Row to append:\n",
    "    \n",
    "    sym price\n",
    "    ---------\n",
    "    e   5\n",
    "    \n",
    "Expected Result:\n",
    "\n",
    "    sym price\n",
    "    ---------\n",
    "    a   1\n",
    "    b   2\n",
    "    c   3\n",
    "    d   4\n",
    "    e   5"
   ]
  },
  {
   "cell_type": "code",
   "execution_count": null,
   "metadata": {
    "hidden": true,
    "solution2": "hidden"
   },
   "outputs": [],
   "source": [
    "//table syntax\n",
    "t,([]sym:enlist `e;price:enlist 5f)"
   ]
  },
  {
   "cell_type": "code",
   "execution_count": null,
   "metadata": {
    "hidden": true,
    "solution2": "hidden"
   },
   "outputs": [],
   "source": [
    "//dictionary syntax\n",
    "t,`sym`price!(`e;5f)"
   ]
  },
  {
   "cell_type": "code",
   "execution_count": null,
   "metadata": {
    "hidden": true
   },
   "outputs": [],
   "source": [
    "//your answer here "
   ]
  },
  {
   "cell_type": "markdown",
   "metadata": {
    "hidden": true,
    "solution2": "hidden",
    "solution2_first": true
   },
   "source": [
    "- Join a dictionary to `t` so that it returns a table containing a nested row with a `sym` value of `` `e`f`` and a `price` value of `5 6f`\n",
    "\n",
    "Expected Result:\n",
    "\n",
    "    sym    price\n",
    "    ----------\n",
    "    `a     1f\n",
    "    `b     2f\n",
    "    `c     3f\n",
    "    `d     4f\n",
    "    `e`f   5 6f"
   ]
  },
  {
   "cell_type": "code",
   "execution_count": null,
   "metadata": {
    "hidden": true,
    "solution2": "hidden"
   },
   "outputs": [],
   "source": [
    "t,(`sym`price!(`e`f;5 6f))"
   ]
  },
  {
   "cell_type": "code",
   "execution_count": null,
   "metadata": {
    "hidden": true
   },
   "outputs": [],
   "source": [
    "//your answer here "
   ]
  },
  {
   "cell_type": "markdown",
   "metadata": {
    "hidden": true,
    "solution2": "hidden",
    "solution2_first": true
   },
   "source": [
    "- Join a column `qty` to the table `t` with the values `100 150 200 250`\n",
    "    - Using table syntax \n",
    "    - Using dictionary syntax\n",
    "    \n",
    "Expected Result:\n",
    "\n",
    "    sym price qty\n",
    "    -------------\n",
    "    a   1     100\n",
    "    b   2     150\n",
    "    c   3     200\n",
    "    d   4     250"
   ]
  },
  {
   "cell_type": "code",
   "execution_count": null,
   "metadata": {
    "hidden": true,
    "solution2": "hidden"
   },
   "outputs": [],
   "source": [
    "//table syntax\n",
    "t,'([]qty:100 150 200 250)"
   ]
  },
  {
   "cell_type": "code",
   "execution_count": null,
   "metadata": {
    "hidden": true,
    "solution2": "hidden"
   },
   "outputs": [],
   "source": [
    "//dictionary syntax\n",
    "t,'flip enlist[`qty]!enlist(100 200 300 400)"
   ]
  },
  {
   "cell_type": "code",
   "execution_count": null,
   "metadata": {
    "hidden": true
   },
   "outputs": [],
   "source": [
    "//your answer here "
   ]
  },
  {
   "cell_type": "markdown",
   "metadata": {
    "heading_collapsed": true
   },
   "source": [
    "## Keyed Joins"
   ]
  },
  {
   "cell_type": "markdown",
   "metadata": {
    "hidden": true,
    "solution2": "hidden",
    "solution2_first": true
   },
   "source": [
    "- Create a table `trade` with 10 rows and the following columns: sym,price,and size. Sym column data should be generated from the syms \\`A\\`B\\`C\\`D and suitable values should be chosen for price and size.<br>\n",
    "\n",
    "Example of output:\n",
    "\n",
    "    sym price    size\n",
    "    -----------------\n",
    "    B   49.31835 908 \n",
    "    B   57.85203 360 \n",
    "    C   8.388858 522 \n",
    "    D   19.59907 257 \n",
    "    A   37.5638  858 \n",
    "    B   61.37452 585 \n",
    "    C   52.94808 90  \n",
    "    B   69.16099 683 \n",
    "    C   22.96615 90  \n",
    "    B   69.19531 869"
   ]
  },
  {
   "cell_type": "code",
   "execution_count": null,
   "metadata": {
    "hidden": true,
    "solution2": "hidden"
   },
   "outputs": [],
   "source": [
    "sym:`A`B`C`D\n",
    "trade:([]sym:10?sym;price:10?100.0;size:10?1000)\n",
    "trade"
   ]
  },
  {
   "cell_type": "code",
   "execution_count": null,
   "metadata": {
    "hidden": true
   },
   "outputs": [],
   "source": [
    "//your answer here "
   ]
  },
  {
   "cell_type": "markdown",
   "metadata": {
    "hidden": true,
    "solution2": "hidden",
    "solution2_first": true
   },
   "source": [
    "- Define `industry` as the following table: \n",
    "\n",
    "Expected Result:\n",
    "\n",
    "    sym| ind      \n",
    "    ---| ---------\n",
    "    A  | IT       \n",
    "    B  | Finance  \n",
    "    C  | Media    \n",
    "    E  | Transport"
   ]
  },
  {
   "cell_type": "code",
   "execution_count": null,
   "metadata": {
    "hidden": true,
    "solution2": "hidden"
   },
   "outputs": [],
   "source": [
    "industry:([sym:`A`B`C`E];ind:`IT`Finance`Media`Transport)\n",
    "industry"
   ]
  },
  {
   "cell_type": "code",
   "execution_count": null,
   "metadata": {
    "hidden": true
   },
   "outputs": [],
   "source": [
    "//your answer here "
   ]
  },
  {
   "cell_type": "markdown",
   "metadata": {
    "hidden": true,
    "solution2": "hidden",
    "solution2_first": true
   },
   "source": [
    "- Join the `industry` and `trade` tables to produce a table which only contains the syms that are in both the trade and the industry tables and all corresponding data.\n",
    "\n",
    "Example of output:\n",
    "\n",
    "    sym price    size ind    \n",
    "    -------------------------\n",
    "    B   49.31835 908  Finance\n",
    "    B   57.85203 360  Finance\n",
    "    C   8.388858 522  Media  \n",
    "    A   37.5638  858  IT     \n",
    "    B   61.37452 585  Finance\n",
    "    C   52.94808 90   Media  \n",
    "    B   69.16099 683  Finance\n",
    "    C   22.96615 90   Media  \n",
    "    B   69.19531 869  Finance"
   ]
  },
  {
   "cell_type": "code",
   "execution_count": null,
   "metadata": {
    "hidden": true,
    "solution2": "hidden"
   },
   "outputs": [],
   "source": [
    "trade ij industry"
   ]
  },
  {
   "cell_type": "code",
   "execution_count": null,
   "metadata": {
    "hidden": true
   },
   "outputs": [],
   "source": [
    "//your answer here "
   ]
  },
  {
   "cell_type": "markdown",
   "metadata": {
    "hidden": true,
    "solution2": "hidden",
    "solution2_first": true
   },
   "source": [
    "- Join `industry` and `trade` so that an `ind` column is added to the trade table. All original entries that were in trade should still be present and where there is no corresponding `ind` for a sym there should be a null value in the `ind` column. Call this table `trade2`. <br>\n",
    "\n",
    "Example of output:\n",
    "\n",
    "    sym price    size ind\n",
    "    -------------------------\n",
    "    D   52.39835 816\n",
    "    B   97.10135 155  Finance\n",
    "    A   50.14493 206  IT\n",
    "    C   7.335507 946  Media\n",
    "    C   92.20156 408  Media\n",
    "    B   91.51617 716  Finance\n",
    "    A   11.20264 170  IT\n",
    "    D   59.03108 593\n",
    "    D   91.98509 116\n",
    "    C   10.42746 652  Media"
   ]
  },
  {
   "cell_type": "code",
   "execution_count": null,
   "metadata": {
    "hidden": true,
    "solution2": "hidden"
   },
   "outputs": [],
   "source": [
    "show trade2:trade lj industry "
   ]
  },
  {
   "cell_type": "code",
   "execution_count": null,
   "metadata": {
    "hidden": true
   },
   "outputs": [],
   "source": [
    "//your answer here "
   ]
  },
  {
   "cell_type": "markdown",
   "metadata": {
    "hidden": true,
    "solution2": "hidden",
    "solution2_first": true
   },
   "source": [
    "- Create a new table as follows:\n",
    "\n",
    "```newInd:([sym:`A`C]ind:`Transport`Healthcare;Ex:`N`P)```\n",
    "\n",
    "Using `lj` join `newInd` and `trade2`. Describe how the returned table differs from trade2 \n",
    "\n",
    "Example of output:\n",
    "\n",
    "    sym price    size ind        Ex\n",
    "    -------------------------------\n",
    "    D   52.39835 816\n",
    "    B   97.10135 155  Finance\n",
    "    A   50.14493 206  Transport  N\n",
    "    C   7.335507 946  Healthcare P\n",
    "    C   92.20156 408  Healthcare P\n",
    "    B   91.51617 716  Finance\n",
    "    A   11.20264 170  Transport  N\n",
    "    D   59.03108 593\n",
    "    D   91.98509 116\n",
    "    C   10.42746 652  Healthcare P"
   ]
  },
  {
   "cell_type": "code",
   "execution_count": null,
   "metadata": {
    "hidden": true,
    "solution2": "hidden"
   },
   "outputs": [],
   "source": [
    "trade2 lj newInd:([sym:`A`C]ind:`Transport`Healthcare;Ex:`N`P)"
   ]
  },
  {
   "cell_type": "markdown",
   "metadata": {
    "hidden": true,
    "solution2": "hidden"
   },
   "source": [
    "We can see that this new table has two differences: \n",
    "- A different value for the `ind column (taken from our newInd table)\n",
    "- A new column Ex "
   ]
  },
  {
   "cell_type": "code",
   "execution_count": null,
   "metadata": {
    "hidden": true
   },
   "outputs": [],
   "source": [
    "//your answer here "
   ]
  },
  {
   "cell_type": "markdown",
   "metadata": {
    "hidden": true,
    "solution2": "hidden",
    "solution2_first": true
   },
   "source": [
    "- Using `ij` join `newInd` and `trade2`. Describe how the returned table differs from trade2 <br>\n",
    "\n",
    "Example of output:\n",
    "\n",
    "    sym price    size ind        Ex\n",
    "    -------------------------------\n",
    "    A   50.14493 206  Transport  N\n",
    "    C   7.335507 946  Healthcare P\n",
    "    C   92.20156 408  Healthcare P\n",
    "    A   11.20264 170  Transport  N\n",
    "    C   10.42746 652  Healthcare P"
   ]
  },
  {
   "cell_type": "code",
   "execution_count": null,
   "metadata": {
    "hidden": true,
    "solution2": "hidden"
   },
   "outputs": [],
   "source": [
    "trade2 ij newInd"
   ]
  },
  {
   "cell_type": "markdown",
   "metadata": {
    "hidden": true,
    "solution2": "hidden"
   },
   "source": [
    "We can see that this new table has three differences: \n",
    "- A different value for the `ind column (taken from our newInd table)\n",
    "- A new column Ex \n",
    "- Only entries for which there were also entries in newInd (namely for symbols A and C)"
   ]
  },
  {
   "cell_type": "code",
   "execution_count": null,
   "metadata": {
    "hidden": true
   },
   "outputs": [],
   "source": [
    "//your answer here "
   ]
  },
  {
   "cell_type": "markdown",
   "metadata": {
    "hidden": true,
    "solution2": "hidden",
    "solution2_first": true
   },
   "source": [
    "- Create the following two tables. \n",
    "\n",
    "\n",
    "    tab0:([]a:1 2 3 4;b:`x`y`z`x)\n",
    "    tab1:([]a:3 3 2 2;c:`a`b`c`d)\n",
    "\n",
    "Using tab0 and tab1, create the following table.\n",
    "\n",
    "    a c b\n",
    "    -----\n",
    "    3 a z\n",
    "    3 b z\n",
    "    2 c y\n",
    "    2 d y"
   ]
  },
  {
   "cell_type": "code",
   "execution_count": null,
   "metadata": {
    "hidden": true,
    "solution2": "hidden"
   },
   "outputs": [],
   "source": [
    "tab0:([]a:1 2 3 4;b:`x`y`z`x)\n",
    "tab1:([]a:3 3 2 2;c:`a`b`c`d)\n",
    "tab1 lj 1!tab0"
   ]
  },
  {
   "cell_type": "code",
   "execution_count": null,
   "metadata": {
    "hidden": true
   },
   "outputs": [],
   "source": [
    "//your answer here "
   ]
  },
  {
   "cell_type": "markdown",
   "metadata": {
    "hidden": true,
    "solution2": "hidden",
    "solution2_first": true
   },
   "source": [
    "- Create the following tables:\n",
    "\n",
    "    - `medals` with columns: year, colour, country. For each year (1988, 1992, 1996, 2000) there should be 3 colours - gold, silver, bronze. For each of these 12 records allocate an id from the choice \\`CHN\\`GER\\`KOR\\`SWE randomly.<br>\n",
    "\n",
    "    - `country1` containing 2 columns - id, name. The table should be keyed on id and should have a count of 5. Choose the ids \\`ALG\\`CHN\\`GER\\`KOR\\`SWE and names Algeria, China, Germany, Korea, Sweden.<br>"
   ]
  },
  {
   "cell_type": "code",
   "execution_count": null,
   "metadata": {
    "hidden": true,
    "solution2": "hidden"
   },
   "outputs": [],
   "source": [
    "show nestedTable:([year:1988 1992 1996 2000]color:4#enlist(`gold`silver`bronze);country:3 cut 12?`CHN`GER`KOR`SWE)\n",
    "show medals: ungroup nestedTable"
   ]
  },
  {
   "cell_type": "code",
   "execution_count": null,
   "metadata": {
    "hidden": true,
    "solution2": "hidden"
   },
   "outputs": [],
   "source": [
    "//alternatively, using cross: \n",
    "show rack:([]year:1988 1992 1996 2000) cross ([]color:`gold`silver`bronze)\n",
    "show medals: rack,'([]country: 12?`CHN`GER`KOR`SWE)"
   ]
  },
  {
   "cell_type": "code",
   "execution_count": null,
   "metadata": {
    "hidden": true,
    "solution2": "hidden"
   },
   "outputs": [],
   "source": [
    "show country1:([id:`ALG`CHN`GER`KOR`SWE]name:`Algeria`China`Germany`Korea`Sweden)"
   ]
  },
  {
   "cell_type": "code",
   "execution_count": null,
   "metadata": {
    "hidden": true
   },
   "outputs": [],
   "source": [
    "//your answer here "
   ]
  },
  {
   "cell_type": "markdown",
   "metadata": {
    "hidden": true,
    "solution2": "hidden",
    "solution2_first": true
   },
   "source": [
    "- Using `lj` with `country1` and `medals` create a table containing the year, color of medal, and name of country that won that medal\n",
    "\n",
    "Example of output:\n",
    "\n",
    "    year color  name\n",
    "    -------------------\n",
    "    1988 gold   Korea\n",
    "    1988 silver China\n",
    "    1988 bronze Germany\n",
    "    1992 gold   Germany\n",
    "    1992 silver Sweden\n",
    "    1992 bronze Germany\n",
    "    1996 gold   Germany\n",
    "    1996 silver Sweden\n",
    "    1996 bronze China\n",
    "    2000 gold   Germany\n",
    "    2000 silver China\n",
    "    2000 bronze Korea"
   ]
  },
  {
   "cell_type": "code",
   "execution_count": null,
   "metadata": {
    "hidden": true,
    "solution2": "hidden"
   },
   "outputs": [],
   "source": [
    "delete country from medals lj (`country xcol country1)"
   ]
  },
  {
   "cell_type": "code",
   "execution_count": null,
   "metadata": {
    "hidden": true
   },
   "outputs": [],
   "source": [
    "// your answer here"
   ]
  },
  {
   "cell_type": "markdown",
   "metadata": {
    "heading_collapsed": true
   },
   "source": [
    "## Bitemporal Joins"
   ]
  },
  {
   "cell_type": "markdown",
   "metadata": {
    "hidden": true,
    "solution2": "hidden",
    "solution2_first": true
   },
   "source": [
    "- Create the following table:\n",
    "    - `phoneNum` a table containing a record of changes in the telephone numbers of Tom and Bob by date\n",
    "\n",
    "Example:\n",
    "\n",
    "    phoneNum:([Name:`Tom`Bob`Tom`Bob;Date:2014.06.01 2014.06.01 2015.01.01 2015.06.01] phNum:336699 123456 999999 778899)\n",
    "\n",
    "Using `phoneNum` produce a table that shows Bob’s telephone number as of the dates: `2013.06.02`,`2015.01.01`, `2015.01.02` and today.\n",
    "\n",
    "Expected Result:\n",
    "\n",
    "    Name Date       phNum\n",
    "    ----------------------\n",
    "    Bob  2013.06.02\n",
    "    Bob  2015.01.01 123456\n",
    "    Bob  2015.01.02 123456\n",
    "    Bob  2020.08.05 778899"
   ]
  },
  {
   "cell_type": "code",
   "execution_count": null,
   "metadata": {
    "hidden": true,
    "solution2": "hidden"
   },
   "outputs": [],
   "source": [
    "show phoneNum:([Name:`Tom`Bob`Tom`Bob;\n",
    "                    Date:2014.06.01 2014.06.01 2015.01.01 2015.06.01]\n",
    "                    phNum:336699 123456 999999 778899)\n",
    "show p:([]Name:4#`Bob;Date:(2013.06.02;2015.01.01;2015.01.02;.z.d))  //built our rack of times \n",
    "aj[`Name`Date;p;0!phoneNum] //need the name to be the same, otherwise we'll get Toms results "
   ]
  },
  {
   "cell_type": "code",
   "execution_count": null,
   "metadata": {
    "hidden": true
   },
   "outputs": [],
   "source": [
    "//your answer here "
   ]
  },
  {
   "cell_type": "markdown",
   "metadata": {
    "hidden": true,
    "solution2": "hidden",
    "solution2_first": true
   },
   "source": [
    "- Create the following tables:\n",
    "\n",
    "**trade**\n",
    "\n",
    "    time  sym  qty\n",
    "    --------------\n",
    "    10:01 vod  250\n",
    "    10:04 msft 100\n",
    "    10:07 ibm  175\n",
    "    10:08 ge   200\n",
    "\n",
    "**quote**\n",
    "\n",
    "    time  sym  px\n",
    "    --------------\n",
    "    10:01 ibm  100\n",
    "    10:01 msft 99\n",
    "    10:02 msft 101\n",
    "    10:03 vod  105\n",
    "    10:05 ibm  98\n",
    "    10:08 msft 103"
   ]
  },
  {
   "cell_type": "code",
   "execution_count": null,
   "metadata": {
    "hidden": true,
    "solution2": "hidden"
   },
   "outputs": [],
   "source": [
    "trade:([]time:10:01 10:04 10:07 10:08;sym:`vod`msft`ibm`ge;qty:250 100 175 200)\n",
    "quote:([]time:10:01 10:01 10:02 10:03 10:05 10:08;sym:`ibm`msft`msft`vod`ibm`msft;px:100 99 101 105 98 103)"
   ]
  },
  {
   "cell_type": "code",
   "execution_count": null,
   "metadata": {
    "hidden": true
   },
   "outputs": [],
   "source": [
    "//your answer here "
   ]
  },
  {
   "cell_type": "markdown",
   "metadata": {
    "hidden": true,
    "solution2": "hidden",
    "solution2_first": true
   },
   "source": [
    "- Join the `quote` table to the `trade` table so that it now has a `px` column which is the price of the quote at the time of trade. If no quote has been given for a `sym` then show null in the `px` column\n",
    "\n",
    "Expected output:\n",
    "\n",
    "    time  sym  qty px\n",
    "    ------------------\n",
    "    10:01 vod  250\n",
    "    10:04 msft 100 101\n",
    "    10:07 ibm  175 98\n",
    "    10:08 ge   200"
   ]
  },
  {
   "cell_type": "code",
   "execution_count": null,
   "metadata": {
    "hidden": true,
    "solution2": "hidden"
   },
   "outputs": [],
   "source": [
    "aj[`sym`time;trade;quote]"
   ]
  },
  {
   "cell_type": "code",
   "execution_count": null,
   "metadata": {
    "hidden": true
   },
   "outputs": [],
   "source": [
    "//your answer here "
   ]
  },
  {
   "cell_type": "markdown",
   "metadata": {
    "hidden": true,
    "solution2": "hidden",
    "solution2_first": true
   },
   "source": [
    "- Return a table with the `px` value for 5 minutes after the trade \n",
    "\n",
    "Expected output:\n",
    "\n",
    "    time  sym  qty px\n",
    "    ------------------\n",
    "    10:01 vod  250 105\n",
    "    10:04 msft 100 103\n",
    "    10:07 ibm  175 98\n",
    "    10:08 ge   200"
   ]
  },
  {
   "cell_type": "code",
   "execution_count": null,
   "metadata": {
    "hidden": true,
    "solution2": "hidden"
   },
   "outputs": [],
   "source": [
    "aj[`sym`time;trade;update time-5 from quote]"
   ]
  },
  {
   "cell_type": "code",
   "execution_count": null,
   "metadata": {
    "hidden": true
   },
   "outputs": [],
   "source": [
    "//your answer here "
   ]
  },
  {
   "cell_type": "markdown",
   "metadata": {
    "heading_collapsed": true
   },
   "source": [
    "## Functions"
   ]
  },
  {
   "cell_type": "markdown",
   "metadata": {
    "hidden": true,
    "solution2": "hidden",
    "solution2_first": true
   },
   "source": [
    "- Create a function `keyJoin` which takes as input:<br> \n",
    "\n",
    "    - time series table\n",
    "    - keyed table\n",
    "\n",
    "Description:\n",
    "- Should join keyed table to rows in time series table that match the keys in keyed table\n",
    "- Unsuccessful matches should just be left as null\n",
    "\n",
    "Example of Code:\n",
    "\n",
    "    N:5\n",
    "    \n",
    "    trade:([]sym:N#`BARC`MSFT`PSN;price:.5+til N;size:100*1+til N)\n",
    "    trade\n",
    "    sym  price size\n",
    "    ---------------\n",
    "    BARC 0.5   100\n",
    "    MSFT 1.5   200\n",
    "    PSN  2.5   300\n",
    "    BARC 3.5   400\n",
    "    MSFT 4.5   500\n",
    "    \n",
    "    ind:([sym:`BARC`PSN]ind:`Banking`Construction)\n",
    "    ind\n",
    "    sym | ind\n",
    "    ----| ------------\n",
    "    BARC| Banking\n",
    "    PSN | Construction\n",
    "    \n",
    "    keyJoin[trade;ind]\t\t\t\t\t// unsuccessful matches are null\n",
    "    sym  price size ind\n",
    "    ----------------------------\n",
    "    BARC 0.5   100  Banking\n",
    "    MSFT 1.5   200\n",
    "    PSN  2.5   300  Construction\n",
    "    BARC 3.5   400  Banking\n",
    "    MSFT 4.5   500"
   ]
  },
  {
   "cell_type": "code",
   "execution_count": null,
   "metadata": {
    "hidden": true,
    "solution2": "hidden"
   },
   "outputs": [],
   "source": [
    "keyJoin:lj"
   ]
  },
  {
   "cell_type": "code",
   "execution_count": null,
   "metadata": {
    "hidden": true
   },
   "outputs": [],
   "source": [
    "//your answer here "
   ]
  },
  {
   "cell_type": "markdown",
   "metadata": {
    "hidden": true
   },
   "source": [
    "Test your function using the code below"
   ]
  },
  {
   "cell_type": "code",
   "execution_count": null,
   "metadata": {
    "hidden": true
   },
   "outputs": [],
   "source": [
    "N:5\n",
    "trade:([]sym:N#`BARC`MSFT`PSN;price:.5+til N;size:100*1+til N)\n",
    "ind:([sym:`BARC`PSN]ind:`Banking`Construction)\n",
    "keyJoin[trade;ind]                            "
   ]
  },
  {
   "cell_type": "markdown",
   "metadata": {
    "hidden": true,
    "solution2": "hidden",
    "solution2_first": true
   },
   "source": [
    "- Create a function `keyFilterJoin` which takes as input:<br> \n",
    "    - time series table\n",
    "    - keyed table\n",
    "\n",
    "Description\n",
    "- Should join keyed table to rows in time series table that match the keys in keyed table\n",
    "- Unsuccessful matches are omitted from the result set\n",
    "\n",
    "Example of Code:\n",
    "(Using tables in above example)\n",
    "\n",
    "    keyFilterJoin[trade;ind]\t\t\t\t// unsuccessful matches are omitted\n",
    "    sym  price size ind\n",
    "    ----------------------------\n",
    "    BARC 0.5   100  Banking\n",
    "    PSN  2.5   300  Construction\n",
    "    BARC 3.5   400  Banking"
   ]
  },
  {
   "cell_type": "code",
   "execution_count": null,
   "metadata": {
    "hidden": true,
    "solution2": "hidden"
   },
   "outputs": [],
   "source": [
    "keyFilterJoin:ij"
   ]
  },
  {
   "cell_type": "code",
   "execution_count": null,
   "metadata": {
    "hidden": true
   },
   "outputs": [],
   "source": [
    "//your answer here "
   ]
  },
  {
   "cell_type": "markdown",
   "metadata": {
    "hidden": true
   },
   "source": [
    "Test your function using the code below"
   ]
  },
  {
   "cell_type": "code",
   "execution_count": null,
   "metadata": {
    "hidden": true
   },
   "outputs": [],
   "source": [
    "keyFilterJoin[trade;ind]"
   ]
  },
  {
   "cell_type": "markdown",
   "metadata": {
    "hidden": true,
    "solution2": "hidden",
    "solution2_first": true
   },
   "source": [
    "Create a function `getPrevailingQuote`<br> \n",
    "\n",
    "Description\n",
    "- Returns a join of the trade and quote table, which shows each trade record with the prevailing quote (on any exchange) at the time of each trade\n",
    "- Apply grouped attribute for performance\n",
    "- Quotes should be specific to the sym\n",
    "- Assumes global table trade and quote \n",
    "\n",
    "Example of Code:\n",
    "\n",
    "    trade:([]sym:`BP`IBM`IBM`JPM;time:\"u\"$4.5 6.2 9.8 12;px:5 11 8 4f)                                         \n",
    "    \n",
    "    quote:([]sym:`IBM`IBM`JPM`JPM;time:\"u\"$4 6 6.5 10;bid:.5+1 2 3 4;ask:.5+1 2 3 4) \n",
    "    \n",
    "    getPrevailingQuote[]\n",
    "    \n",
    "    sym time  px bid ask\n",
    "    --------------------\n",
    "    BP  00:05 5         \n",
    "    IBM 00:06 11 2.5 2.5\n",
    "    IBM 00:10 8  2.5 2.5\n",
    "    JPM 00:12 4  4.5 4.5"
   ]
  },
  {
   "cell_type": "code",
   "execution_count": null,
   "metadata": {
    "hidden": true,
    "solution2": "hidden"
   },
   "outputs": [],
   "source": [
    "getPrevailingQuote:{aj[`sym`time;update `g#sym from get `trade;get `quote]}"
   ]
  },
  {
   "cell_type": "code",
   "execution_count": null,
   "metadata": {
    "hidden": true
   },
   "outputs": [],
   "source": [
    "//your answer here "
   ]
  },
  {
   "cell_type": "markdown",
   "metadata": {
    "hidden": true
   },
   "source": [
    "Test your function using the code below"
   ]
  },
  {
   "cell_type": "code",
   "execution_count": null,
   "metadata": {
    "hidden": true
   },
   "outputs": [],
   "source": [
    "trade:([]sym:`BP`IBM`IBM`JPM;time:\"u\"$4.5 6.2 9.8 12;px:5 11 8 4f)                                         \n",
    "quote:([]sym:`IBM`IBM`JPM`JPM;time:\"u\"$4 6 6.5 10;bid:.5+1 2 3 4;ask:.5+1 2 3 4) \n",
    "\n",
    "getPrevailingQuote[]"
   ]
  },
  {
   "cell_type": "markdown",
   "metadata": {
    "hidden": true,
    "solution2": "hidden",
    "solution2_first": true
   },
   "source": [
    "- Create a function `getPrevailingLocalQuote`<br> \n",
    "\n",
    "\n",
    "Description\n",
    "- Returns a join of the trade and quote table, which shows each trade record with the prevailing quote at the time of each trade on that exchange.\n",
    "- Apply grouped attribute for performance\n",
    "\n",
    "Example of Code:\n",
    "\n",
    "    trade:([]sym:`BP`IBM`IBM`JPM;time:\"u\"$4.5 6.2 9.8 12;px:5 11 8 4f';ex:`A`A`A`B)                                         \n",
    "    \n",
    "    quote:([]sym:`IBM`IBM`JPM`JPM;time:\"u\"$4 6 6.5 10;bid:.5+1 2 3 4;ask:.5+1 2 3 4;ex:`A`A`A`A) \n",
    "    \n",
    "    getPrevailingLocalQuote[]\n",
    "    \n",
    "    sym time  px ex bid ask\n",
    "    -----------------------\n",
    "    BP  00:05 5  A        \n",
    "    IBM 00:06 11 A  2.5 2.5\n",
    "    IBM 00:06 8  A  2.5 2.5\n",
    "    JPM 00:10 4  B"
   ]
  },
  {
   "cell_type": "code",
   "execution_count": null,
   "metadata": {
    "hidden": true,
    "solution2": "hidden"
   },
   "outputs": [],
   "source": [
    "getPrevailingLocalQuote:{aj[`sym`ex`time;update `g#sym from get `trade;get `quote]}"
   ]
  },
  {
   "cell_type": "code",
   "execution_count": null,
   "metadata": {
    "hidden": true
   },
   "outputs": [],
   "source": [
    "//your answer here "
   ]
  },
  {
   "cell_type": "markdown",
   "metadata": {
    "hidden": true
   },
   "source": [
    "Test your function using the code below"
   ]
  },
  {
   "cell_type": "code",
   "execution_count": null,
   "metadata": {
    "hidden": true
   },
   "outputs": [],
   "source": [
    "show trade:([]sym:`BP`IBM`IBM`JPM;time:\"u\"$4.5 6.2 9.8 12;px:5 11 8 4f;ex:`A`A`A`B)                                         \n",
    "show quote:([]sym:`IBM`IBM`JPM`JPM;time:\"u\"$4 6 6.5 10;bid:.5+1 2 3 4;ask:.5+1 2 3 4;ex:`A`A`A`A) \n",
    "    \n",
    "getPrevailingLocalQuote[] "
   ]
  }
 ],
 "metadata": {
  "kernelspec": {
   "display_name": "Python 3 (ipykernel)",
   "language": "python",
   "name": "python3"
  },
  "language_info": {
   "codemirror_mode": {
    "name": "ipython",
    "version": 3
   },
   "file_extension": ".py",
   "mimetype": "text/x-python",
   "name": "python",
   "nbconvert_exporter": "python",
   "pygments_lexer": "ipython3",
   "version": "3.11.10"
  },
  "toc": {
   "base_numbering": 1,
   "nav_menu": {},
   "number_sections": true,
   "sideBar": true,
   "skip_h1_title": false,
   "title_cell": "Table of Contents",
   "title_sidebar": "Contents",
   "toc_cell": false,
   "toc_position": {},
   "toc_section_display": true,
   "toc_window_display": false
  }
 },
 "nbformat": 4,
 "nbformat_minor": 4
}