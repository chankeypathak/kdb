{
 "cells": [
  {
   "cell_type": "code",
   "metadata": {
    "autorun": true,
    "editable": false,
    "tags": [
     "remove-cell"
    ],
    "jupyter": {
     "source_hidden": true,
     "outputs_hidden": true
    },
    "collapsed": true
   },
   "source": [
    "#;.pykx.disableJupyter()"
   ]
  },
  {
   "cell_type": "code",
   "metadata": {
    "autorun": true,
    "editable": false,
    "tags": [
     "remove-cell"
    ],
    "jupyter": {
     "source_hidden": true,
     "outputs_hidden": true
    },
    "collapsed": true
   },
   "source": [
    "# https://code.kx.com/pykx/3.0/examples/jupyter-integration.html#q-first-mode\n",
    "import pykx as kx\n",
    "kx.util.jupyter_qfirst_enable()"
   ]
  },
  {
   "cell_type": "markdown",
   "metadata": {},
   "source": [
    "# Scripting and Logging Exercise"
   ]
  },
  {
   "cell_type": "markdown",
   "metadata": {},
   "source": [
    "To create a script, open a new text file in the same directory and give it a .q suffixed name"
   ]
  },
  {
   "cell_type": "markdown",
   "metadata": {},
   "source": [
    " - Read the script qfuncs.q, print the functions and add multi-line comments describing each function and its parameters."
   ]
  },
  {
   "cell_type": "code",
   "execution_count": null,
   "metadata": {
    "solution2": "hidden",
    "solution2_first": true
   },
   "outputs": [],
   "source": [
    "// Your Answer - Load the script here"
   ]
  },
  {
   "cell_type": "code",
   "execution_count": null,
   "metadata": {
    "solution2": "hidden"
   },
   "outputs": [],
   "source": [
    "\\l qfuncs.q\n",
    "listGenerator\n",
    "randomList"
   ]
  },
  {
   "cell_type": "markdown",
   "metadata": {
    "solution2": "hidden"
   },
   "source": [
    "Use /* and *\\ to open and close Multi-Line comments "
   ]
  },
  {
   "cell_type": "markdown",
   "metadata": {},
   "source": [
    " - Create a multi-line function in a script (scriptfunc.q) which takes two parameters, saves the sum and product of the two integers in 2 variables and returns the sum of these two variables."
   ]
  },
  {
   "cell_type": "code",
   "execution_count": null,
   "metadata": {
    "solution2": "hidden",
    "solution2_first": true
   },
   "outputs": [],
   "source": [
    "// Your Answer - Load the script and call the function here"
   ]
  },
  {
   "cell_type": "markdown",
   "metadata": {
    "solution2": "hidden"
   },
   "source": [
    "scriptfunc.q\n",
    "<code>\n",
    "sumpro : {[a;b]\n",
    "  s : a + b; // Calculate sum of the two numbers\n",
    "  p : a * b; // Calculate product of the two numbers \n",
    "  s + p  // Notice there is no semicolon as we are returning the sum of s and p\n",
    " } // the space before closing the curly bracket is essential\n",
    "</code>"
   ]
  },
  {
   "cell_type": "code",
   "execution_count": null,
   "metadata": {
    "solution2": "hidden"
   },
   "outputs": [],
   "source": [
    "\\l scriptfunc.q\n",
    "sumpro[5;10]"
   ]
  },
  {
   "cell_type": "markdown",
   "metadata": {},
   "source": [
    " - In the qfuncstemplate.q script, we are trying to create a function which generates a random list of n integers between a lower and upper limit. There are some lines missing in the script. Fill in those lines correctly and load the script file."
   ]
  },
  {
   "cell_type": "code",
   "execution_count": null,
   "metadata": {
    "solution2": "hidden",
    "solution2_first": true
   },
   "outputs": [],
   "source": [
    "// Your Answer - Load the script here"
   ]
  },
  {
   "cell_type": "code",
   "execution_count": null,
   "metadata": {
    "solution2": "hidden"
   },
   "outputs": [],
   "source": [
    "\\l qfuncstemplate.q"
   ]
  },
  {
   "cell_type": "markdown",
   "metadata": {
    "solution2": "hidden"
   },
   "source": [
    "<code>\n",
    "randomList : {[n;lowlimit;upplimit]\n",
    "  if[-7h <> type n; 0N!\"ERROR : First argument should be a long integer\"];\n",
    "  if[(-7h <> type lowlimit) or ((-7h <> type upplimit)); 0N!\"ERROR : Lower and Upper limits should be long integers\"];\n",
    "  $[upplimit > lowlimit;\n",
    "   n?lowlimit+til 1+upplimit-lowlimit;\n",
    "   0N!\"Upper limit should be greater than lower limit\"]\n",
    " };\n",
    "</code>"
   ]
  },
  {
   "cell_type": "markdown",
   "metadata": {},
   "source": [
    " - Use the completed script from the above question and implement early exit when the parameters are incorrect. Call the radomList function from this notebook with correct and incorrect parameters."
   ]
  },
  {
   "cell_type": "code",
   "execution_count": null,
   "metadata": {
    "solution2": "hidden",
    "solution2_first": true
   },
   "outputs": [],
   "source": [
    "// Your Answer - Load the script here"
   ]
  },
  {
   "cell_type": "markdown",
   "metadata": {
    "solution2": "hidden"
   },
   "source": [
    "<code>\n",
    "randomList : {[n;lowlimit;upplimit]\n",
    "  if[-7h <> type n;'\"ERROR : First argument should be a long integer\"];\n",
    "  if[(-7h <> type lowlimit) or ((-7h <> type upplimit)); '\"ERROR : Lower and Upper limits should be long integers\"];\n",
    "  $[upplimit > lowlimit;\n",
    "   n?lowlimit+til 1+upplimit-lowlimit;\n",
    "   '\"Upper limit should be greater than lower limit\"]\n",
    " };\n",
    "</code>"
   ]
  },
  {
   "cell_type": "code",
   "execution_count": null,
   "metadata": {
    "solution2": "hidden"
   },
   "outputs": [],
   "source": [
    "\\l qfuncstemplate.q\n",
    "randomList[5;10;`34r]"
   ]
  },
  {
   "cell_type": "markdown",
   "metadata": {},
   "source": [
    " -  Create a script (script1.q) that contains a function which calculates the factorial of a number (passed as a parameter), load the script to this notebook and call the factorial function for the number 5."
   ]
  },
  {
   "cell_type": "code",
   "execution_count": null,
   "metadata": {
    "solution2": "hidden",
    "solution2_first": true
   },
   "outputs": [],
   "source": [
    "// Your Answer - Load the script here"
   ]
  },
  {
   "cell_type": "markdown",
   "metadata": {
    "solution2": "hidden"
   },
   "source": [
    "//This should be present in the script. Let's assume the name of the script to be script1.q.\n",
    "<code>\n",
    "fact : {[n] prd 1+til n}; \n",
    "</code>"
   ]
  },
  {
   "cell_type": "code",
   "execution_count": null,
   "metadata": {
    "solution2": "hidden"
   },
   "outputs": [],
   "source": [
    "\\l script1.q\n",
    "fact[5]"
   ]
  },
  {
   "cell_type": "markdown",
   "metadata": {},
   "source": [
    " -  Create a script (script2.q) which prints the factorial of a number `n. `n should be passed using a local variable.   "
   ]
  },
  {
   "cell_type": "code",
   "execution_count": null,
   "metadata": {
    "solution2": "hidden",
    "solution2_first": true
   },
   "outputs": [],
   "source": [
    "// Your Answer - Load the script here"
   ]
  },
  {
   "cell_type": "markdown",
   "metadata": {
    "solution2": "hidden"
   },
   "source": [
    "//This should be present in the script. Let's assume the name of the script to be script2.q.\n",
    "<code>\n",
    "fact : prd 1+til n;\n",
    "0N!\"The number is \", string n;\n",
    "0N!\"The factorial is \", string fact;\n",
    "</code>"
   ]
  },
  {
   "cell_type": "code",
   "execution_count": null,
   "metadata": {
    "solution2": "hidden"
   },
   "outputs": [],
   "source": [
    "n:5\n",
    "\\l script2.q"
   ]
  },
  {
   "cell_type": "markdown",
   "metadata": {},
   "source": [
    " -  Repeat the previous question but this time `n` should be passed as a command line parameter. Create a script - script3.q for the same"
   ]
  },
  {
   "cell_type": "code",
   "execution_count": null,
   "metadata": {
    "solution2": "hidden",
    "solution2_first": true
   },
   "outputs": [],
   "source": [
    "// Your Answer "
   ]
  },
  {
   "cell_type": "markdown",
   "metadata": {
    "solution2": "hidden"
   },
   "source": [
    "//This should be present in the script. Let's assume the name of the script to be script3.q.\n",
    "<code>\n",
    "d:.Q.opt .z.x;\n",
    "fact : prd 1+til -7h$(first d[\\`numb]);\n",
    "0N!\"The factorial is \", string fact;\n",
    "exit 0;\n",
    "</code>"
   ]
  },
  {
   "cell_type": "code",
   "execution_count": null,
   "metadata": {
    "solution2": "hidden"
   },
   "outputs": [],
   "source": [
    "system[\"env QHOME=/opt/kx/q q script3.q -numb 5 \"]"
   ]
  },
  {
   "cell_type": "markdown",
   "metadata": {},
   "source": [
    " - Repeat the previous question but this time add 5 as a default value of `n` which will be used if no parameter is passed. Create a script -script4.q for the same."
   ]
  },
  {
   "cell_type": "code",
   "execution_count": null,
   "metadata": {
    "solution2": "hidden",
    "solution2_first": true
   },
   "outputs": [],
   "source": [
    "// Your Answer - Load the script here"
   ]
  },
  {
   "cell_type": "markdown",
   "metadata": {
    "solution2": "hidden"
   },
   "source": [
    "//This should be present in the script. Let's assume the name of the script to be script4.q.\n",
    "<code>\n",
    "d:.Q.opt .z.x;\n",
    "if[0=count d; d[\\`numb]:\"5\"];\n",
    "fact : prd 1+til -7h$(first d[\\`numb]);\n",
    "0N!\"The factorial is \", string fact;\n",
    "exit 0;\n",
    "</code>"
   ]
  },
  {
   "cell_type": "code",
   "execution_count": null,
   "metadata": {
    "solution2": "hidden"
   },
   "outputs": [],
   "source": [
    "system[\"env QHOME=/opt/kx/q q script4.q \"]"
   ]
  },
  {
   "cell_type": "code",
   "execution_count": null,
   "metadata": {
    "solution2": "hidden"
   },
   "outputs": [],
   "source": [
    "system[\"env QHOME=/opt/kx/q q script4.q -numb 6 \"]"
   ]
  },
  {
   "cell_type": "markdown",
   "metadata": {},
   "source": [
    " - [cor](https://code.kx.com/q/ref/cor/) is an inbuilt function which calculates the correlation between two lists. Both the lists should have the same number of elements. Write a script (`script5.q`) which has functions for printing logs to stderr and stdout, and uses protected evaluation to evaluate the `cor` function with the parameters provided to the function. Create the following lists in the script- `x : 5 10 13 ; y : 2 4 4; z : 5 8`.\n",
    " \n",
    " Now, call the function with x;y and y;z as parameters. \n",
    " \n",
    " Redirect the output to a log file."
   ]
  },
  {
   "cell_type": "code",
   "execution_count": null,
   "metadata": {
    "solution2": "hidden",
    "solution2_first": true
   },
   "outputs": [],
   "source": [
    "// Your Answer - load the script "
   ]
  },
  {
   "cell_type": "markdown",
   "metadata": {
    "solution2": "hidden"
   },
   "source": [
    "script5.q\n",
    "<code>\n",
    "out:{-1 string[.z.p],\" ### INFO ### \",x};\n",
    "err:{-2 string[.z.p],\" ### ERROR ### \",x};\n",
    "func : {[a;b] \n",
    " .[cor;(a;b);{err \"Error running main: \",x;exit 1}];\n",
    "  out \"the correlation is = \", string cor[a;b];\n",
    " }\n",
    "x: 5 10 13;\n",
    "y: 2 4 4;\n",
    "z: 5 8;\n",
    "func[x;y]\n",
    "func[y;z]\n",
    "exit 0;\n",
    "</code>"
   ]
  },
  {
   "cell_type": "code",
   "execution_count": null,
   "metadata": {
    "solution2": "hidden"
   },
   "outputs": [],
   "source": [
    "system[\"nohup env QHOME=/opt/kx/q q script5.q >myLog4.txt 2>&1 &\"]"
   ]
  },
  {
   "cell_type": "markdown",
   "metadata": {},
   "source": [
    " -   debugscript.q has some errors in it. Run debugscript.q and redirect the output to a log file - debuglog.txt. Debug the erros using the log file and correct the script."
   ]
  },
  {
   "cell_type": "code",
   "execution_count": null,
   "metadata": {
    "solution2": "hidden",
    "solution2_first": true
   },
   "outputs": [],
   "source": [
    "system[\"nohup env QHOME=/opt/kx/q q debugscript.q >debuglog.txt 2>&1 &\"]"
   ]
  },
  {
   "cell_type": "markdown",
   "metadata": {
    "solution2": "hidden"
   },
   "source": [
    "debugscript.q\n",
    "<code>\n",
    "out:{-1 string[.z.p],\" ### INFO ### \",x};\n",
    "err:{-2 string[.z.p],\" ### ERROR ### \",x};\n",
    "randomList : {[n;lowlimit;upplimit]\n",
    "  if[-7h <> type n; err \"ERROR : First argument should be a long integer\"];\n",
    "  if[(-7h <> type lowlimit) or ((-7h <> type upplimit)); err \"ERROR : Lower and upper limits should be long integers\"];\n",
    "  $[upplimit > lowlimit;\n",
    "   n?lowlimit+til 1+upplimit-lowlimit;\n",
    "   err \"Upper limit should be greater than lower limit\"]\n",
    " };  //Error 1 (Whitespace before closing bracket)\n",
    "getCorrelation : {\n",
    "  a:randomList[10;15;50]; //Error 2 - third argument can be any number greater than 15\n",
    "  b:randomList[10;15;20]; //Error 3 - The size of both lists should be the same\n",
    "  .[cor;(a;b);{err \"Error running main: \",x;exit 1}];\n",
    "  out \"the correlation is = \", string cor[a;b]\n",
    " };\n",
    "getCorrelation[]\n",
    "getCorrelation[]\n",
    "getCorrelation[]\n",
    "exit 0;\n",
    "</code>"
   ]
  },
  {
   "cell_type": "markdown",
   "metadata": {
    "solution2": "hidden"
   },
   "source": [
    "//This should be present in the script. Let's assume the name of the script to be script4.q.\n",
    "<code>\n",
    "d:.Q.def[enlist[\\`numb]!enlist enlist \"5\"] .Q.opt .z.x;\n",
    "fact : prd 1+til -7h$(first d[\\`numb]);\n",
    "0N!\"The factorial is \", string fact;\n",
    "exit 0;\n",
    "</code>"
   ]
  }
 ],
 "metadata": {
  "kernelspec": {
   "display_name": "Python 3 (ipykernel)",
   "language": "python",
   "name": "python3"
  },
  "language_info": {
   "codemirror_mode": {
    "name": "ipython",
    "version": 3
   },
   "file_extension": ".py",
   "mimetype": "text/x-python",
   "name": "python",
   "nbconvert_exporter": "python",
   "pygments_lexer": "ipython3",
   "version": "3.11.10"
  },
  "toc": {
   "base_numbering": 1,
   "nav_menu": {},
   "number_sections": true,
   "sideBar": true,
   "skip_h1_title": false,
   "title_cell": "Table of Contents",
   "title_sidebar": "Contents",
   "toc_cell": false,
   "toc_position": {},
   "toc_section_display": true,
   "toc_window_display": false
  }
 },
 "nbformat": 4,
 "nbformat_minor": 4
}
