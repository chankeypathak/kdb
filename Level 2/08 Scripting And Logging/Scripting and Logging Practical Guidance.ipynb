{
 "cells": [
  {
   "cell_type": "code",
   "metadata": {
    "autorun": true,
    "editable": false,
    "tags": [
     "remove-cell"
    ],
    "jupyter": {
     "source_hidden": true,
     "outputs_hidden": true
    },
    "collapsed": true
   },
   "source": [
    "#;.pykx.disableJupyter()"
   ]
  },
  {
   "cell_type": "code",
   "metadata": {
    "autorun": true,
    "editable": false,
    "tags": [
     "remove-cell"
    ],
    "jupyter": {
     "source_hidden": true,
     "outputs_hidden": true
    },
    "collapsed": true
   },
   "source": [
    "# https://code.kx.com/pykx/3.0/examples/jupyter-integration.html#q-first-mode\n",
    "import pykx as kx\n",
    "kx.util.jupyter_qfirst_enable()"
   ]
  },
  {
   "cell_type": "markdown",
   "metadata": {},
   "source": [
    " <img src=\"../qbies.png\" style=\"width: 100px;padding-right:5px;padding-top:1px;padding-left:5px;\" align=\"left\"/>"
   ]
  },
  {
   "cell_type": "markdown",
   "metadata": {},
   "source": [
    "# Scripting And Logging Practical Guidance"
   ]
  },
  {
   "cell_type": "markdown",
   "metadata": {
    "heading_collapsed": true
   },
   "source": [
    "## Hiding Source Code"
   ]
  },
  {
   "cell_type": "markdown",
   "metadata": {
    "hidden": true
   },
   "source": [
    "We may wish to hide the contents of our code when sharing scripts with other sources, such as to protect intellectual property. This can be achieved during runtime with the system command [\\\\_](https://code.kx.com/q/basics/syscmds/#_-hide-q-code) which will prevent the q code from being read or serialized.\n",
    "\n",
    "A new file will be created on our filesystem with an underscore suffix:\n",
    "\n",
    "Let's first create another .q text file and name it protected.q. Create a function inside this which prints Hello World -\n",
    "<code>\n",
    "sayhello:{0N!\"hello world\"};\n",
    "</code>\n",
    "\n",
    "The `\\_` command will protect the script\n"
   ]
  },
  {
   "cell_type": "code",
   "execution_count": 1,
   "metadata": {
    "hidden": true
   },
   "outputs": [
    {
     "data": {
      "text/plain": [
       "`protected.q_\n"
      ]
     },
     "execution_count": 1,
     "metadata": {},
     "output_type": "execute_result"
    }
   ],
   "source": [
    "\\_ protected.q "
   ]
  },
  {
   "cell_type": "markdown",
   "metadata": {
    "hidden": true
   },
   "source": [
    "Loading non-protected script"
   ]
  },
  {
   "cell_type": "code",
   "execution_count": 2,
   "metadata": {
    "hidden": true
   },
   "outputs": [],
   "source": [
    "\\l protected.q"
   ]
  },
  {
   "cell_type": "code",
   "execution_count": 3,
   "metadata": {
    "hidden": true
   },
   "outputs": [
    {
     "data": {
      "text/plain": [
       "{0N!\"hello world\"}\n"
      ]
     },
     "execution_count": 3,
     "metadata": {},
     "output_type": "execute_result"
    }
   ],
   "source": [
    "sayhello"
   ]
  },
  {
   "cell_type": "markdown",
   "metadata": {
    "hidden": true
   },
   "source": [
    "Loading protected script\n"
   ]
  },
  {
   "cell_type": "code",
   "execution_count": 4,
   "metadata": {
    "hidden": true
   },
   "outputs": [],
   "source": [
    "\\l protected.q_"
   ]
  },
  {
   "cell_type": "code",
   "execution_count": 5,
   "metadata": {
    "hidden": true
   },
   "outputs": [
    {
     "data": {
      "text/plain": [
       "locked\n"
      ]
     },
     "execution_count": 5,
     "metadata": {},
     "output_type": "execute_result"
    }
   ],
   "source": [
    "sayhello"
   ]
  },
  {
   "cell_type": "code",
   "execution_count": 6,
   "metadata": {
    "hidden": true
   },
   "outputs": [
    {
     "name": "stdout",
     "output_type": "stream",
     "text": [
      "\"hello world\"\n"
     ]
    },
    {
     "data": {
      "text/plain": [
       "\"hello world\"\n"
      ]
     },
     "execution_count": 6,
     "metadata": {},
     "output_type": "execute_result"
    }
   ],
   "source": [
    "sayhello[]"
   ]
  },
  {
   "cell_type": "markdown",
   "metadata": {
    "heading_collapsed": true
   },
   "source": [
    "## Using .Q.def for Command Line Arguments"
   ]
  },
  {
   "cell_type": "markdown",
   "metadata": {
    "hidden": true
   },
   "source": [
    "[.Q.def](https://code.kx.com/q/ref/dotq/#qdef) Provides defaults and types for command line arguments parsed with [.Q.opt](https://code.kx.com/q/ref/dotq/#qopt-command-parameters). This function takes a dictionary of the command line args (as symbols) and default values.\n",
    "\n",
    "Usage : qdefscript.q \n",
    "<code>\n",
    "d:.Q.def[\\`abc\\`xyz\\`efg!(1;2.;\\`a)].Q.opt .z.x;\n",
    "0N!d;\n",
    "exit 0\n",
    "</code>"
   ]
  },
  {
   "cell_type": "code",
   "execution_count": 7,
   "metadata": {
    "hidden": true
   },
   "outputs": [
    {
     "name": "stdout",
     "output_type": "stream",
     "text": [
      "`abc`xyz`efg!(1;2f;`a)\n"
     ]
    }
   ],
   "source": [
    "system[\"env QHOME=/opt/kx/q q qdefscript.q\"] //since no parameters are provided. It'll consider the default values."
   ]
  },
  {
   "cell_type": "code",
   "execution_count": 8,
   "metadata": {
    "hidden": true
   },
   "outputs": [
    {
     "name": "stdout",
     "output_type": "stream",
     "text": [
      "`abc`xyz`efg!(5;432f;`Henry)\n"
     ]
    }
   ],
   "source": [
    "system[\"env QHOME=/opt/kx/q q qdefscript.q -abc 5 -xyz 432 -efg Henry\"] // Notice how the strings are casted automatically to the respective types"
   ]
  },
  {
   "cell_type": "code",
   "execution_count": 9,
   "metadata": {
    "hidden": true
   },
   "outputs": [
    {
     "name": "stdout",
     "output_type": "stream",
     "text": [
      "`abc`xyz`efg!(5;432f;`a)\n"
     ]
    }
   ],
   "source": [
    "system[\"env QHOME=/opt/kx/q q qdefscript.q -abc 5 -xyz 432\"] //Here it'll consider the default value for efg"
   ]
  },
  {
   "cell_type": "markdown",
   "metadata": {
    "heading_collapsed": true
   },
   "source": [
    "## Using Namespaces for Logging"
   ]
  },
  {
   "cell_type": "markdown",
   "metadata": {
    "hidden": true
   },
   "source": [
    "We should always define a namespace .log to logically organize our logging functions. This is an industry-wide best practice. It is also helpful to log the time using [.z.p](https://code.kx.com/q/ref/dotz/#zp-local-timestamp). We can do this as follows-"
   ]
  },
  {
   "cell_type": "code",
   "execution_count": 10,
   "metadata": {
    "hidden": true
   },
   "outputs": [
    {
     "name": "stdout",
     "output_type": "stream",
     "text": [
      "2020.08.06D08:43:09.624438000 ### INFO ### Hello Nicolas\n"
     ]
    },
    {
     "data": {
      "text/plain": [
       "-1\n"
      ]
     },
     "execution_count": 10,
     "metadata": {},
     "output_type": "execute_result"
    }
   ],
   "source": [
    "\\d .log\n",
    "out:{-1 string[.z.p],\" ### INFO ### \",x};\n",
    "err:{-2 string[.z.p],\" ### ERROR ### \",x};\n",
    "\n",
    "\\d .\n",
    "sayhello:{.log.out[\"Hello \",x]};\n",
    "\n",
    "sayhello[\"Nicolas\"]"
   ]
  },
  {
   "cell_type": "markdown",
   "metadata": {
    "hidden": true
   },
   "source": [
    "Furthermore, we could also log some of the critical memory statistics provided by [.Q.w[]](https://code.kx.com/q/ref/dotq/#qw-memory-stats)"
   ]
  },
  {
   "cell_type": "code",
   "execution_count": 11,
   "metadata": {
    "hidden": true
   },
   "outputs": [
    {
     "data": {
      "text/plain": [
       "used| 889232\n",
       "heap| 67108864\n",
       "peak| 67108864\n",
       "wmax| 0\n",
       "mmap| 0\n",
       "mphy| 8589934592\n",
       "syms| 1514\n",
       "symw| 80184\n"
      ]
     },
     "execution_count": 11,
     "metadata": {},
     "output_type": "execute_result"
    }
   ],
   "source": [
    ".Q.w[]"
   ]
  },
  {
   "cell_type": "markdown",
   "metadata": {
    "heading_collapsed": true
   },
   "source": [
    "## Script Layout"
   ]
  },
  {
   "cell_type": "markdown",
   "metadata": {
    "hidden": true
   },
   "source": [
    "To help yourself, and others who may read the script you write, it’s good practice to have a common layout of various components of your scripts.\n",
    "\n",
    "A typical script outline may be broken as follows:\n",
    "\n",
    " - Capture command line args\n",
    " - Define variables\n",
    " - Define functions\n",
    " - Define main function\n",
    " - Call main to start\n"
   ]
  },
  {
   "cell_type": "markdown",
   "metadata": {
    "hidden": true
   },
   "source": [
    "This is an example of a well written script"
   ]
  },
  {
   "cell_type": "code",
   "execution_count": null,
   "metadata": {
    "hidden": true
   },
   "outputs": [
    {
     "name": "stdout",
     "output_type": "stream",
     "text": [
      "\"Hello Joe\"\n",
      "\"It is currently 08:46:32.076\"\n"
     ]
    }
   ],
   "source": [
    "/command line args\n",
    "d:first each .Q.def[enlist[`name]!enlist enlist \"Joe\"] .Q.opt .z.x;\n",
    "/variable definitions\n",
    "currentTime:.z.t;\n",
    "/function definitions\n",
    "sayhello:{0N!\"Hello \",x};\n",
    "telltime:{0N!\"It is currently \",string x};\n",
    "\n",
    "/main function call\n",
    "main:{\n",
    "  sayhello d[`name];\n",
    "  telltime currentTime;\n",
    "  exit 0;\n",
    " };\n",
    "\n",
    "/start script\n",
    "@[main;`;{0N!\"Error running main: \",x;exit 1}];"
   ]
  }
 ],
 "metadata": {
  "kernelspec": {
   "display_name": "Python 3 (ipykernel)",
   "language": "python",
   "name": "python3"
  },
  "language_info": {
   "codemirror_mode": {
    "name": "ipython",
    "version": 3
   },
   "file_extension": ".py",
   "mimetype": "text/x-python",
   "name": "python",
   "nbconvert_exporter": "python",
   "pygments_lexer": "ipython3",
   "version": "3.11.10"
  },
  "toc": {
   "base_numbering": 1,
   "nav_menu": {},
   "number_sections": true,
   "sideBar": true,
   "skip_h1_title": false,
   "title_cell": "Table of Contents",
   "title_sidebar": "Contents",
   "toc_cell": false,
   "toc_position": {},
   "toc_section_display": true,
   "toc_window_display": false
  }
 },
 "nbformat": 4,
 "nbformat_minor": 4
}
